{
 "cells": [
  {
   "cell_type": "markdown",
   "metadata": {},
   "source": [
    "# Clustering Crypto"
   ]
  },
  {
   "cell_type": "code",
   "execution_count": 64,
   "metadata": {},
   "outputs": [
    {
     "name": "stdout",
     "output_type": "stream",
     "text": [
      "imported dependencies\n"
     ]
    }
   ],
   "source": [
    "# Initial imports\n",
    "import pandas as pd\n",
    "import hvplot.pandas\n",
    "from pathlib import Path\n",
    "import plotly.express as px\n",
    "from sklearn.preprocessing import StandardScaler, MinMaxScaler\n",
    "from sklearn.decomposition import PCA\n",
    "from sklearn.cluster import KMeans\n",
    "print(\"imported dependencies\")\n"
   ]
  },
  {
   "cell_type": "markdown",
   "metadata": {},
   "source": [
    "### Deliverable 1: Preprocessing the Data for PCA"
   ]
  },
  {
   "cell_type": "code",
   "execution_count": 102,
   "metadata": {},
   "outputs": [
    {
     "data": {
      "text/html": [
       "<div>\n",
       "<style scoped>\n",
       "    .dataframe tbody tr th:only-of-type {\n",
       "        vertical-align: middle;\n",
       "    }\n",
       "\n",
       "    .dataframe tbody tr th {\n",
       "        vertical-align: top;\n",
       "    }\n",
       "\n",
       "    .dataframe thead th {\n",
       "        text-align: right;\n",
       "    }\n",
       "</style>\n",
       "<table border=\"1\" class=\"dataframe\">\n",
       "  <thead>\n",
       "    <tr style=\"text-align: right;\">\n",
       "      <th></th>\n",
       "      <th>CoinName</th>\n",
       "      <th>Algorithm</th>\n",
       "      <th>IsTrading</th>\n",
       "      <th>ProofType</th>\n",
       "      <th>TotalCoinsMined</th>\n",
       "      <th>TotalCoinSupply</th>\n",
       "    </tr>\n",
       "  </thead>\n",
       "  <tbody>\n",
       "    <tr>\n",
       "      <th>42</th>\n",
       "      <td>42 Coin</td>\n",
       "      <td>Scrypt</td>\n",
       "      <td>True</td>\n",
       "      <td>PoW/PoS</td>\n",
       "      <td>4.199995e+01</td>\n",
       "      <td>42</td>\n",
       "    </tr>\n",
       "    <tr>\n",
       "      <th>365</th>\n",
       "      <td>365Coin</td>\n",
       "      <td>X11</td>\n",
       "      <td>True</td>\n",
       "      <td>PoW/PoS</td>\n",
       "      <td>NaN</td>\n",
       "      <td>2300000000</td>\n",
       "    </tr>\n",
       "    <tr>\n",
       "      <th>404</th>\n",
       "      <td>404Coin</td>\n",
       "      <td>Scrypt</td>\n",
       "      <td>True</td>\n",
       "      <td>PoW/PoS</td>\n",
       "      <td>1.055185e+09</td>\n",
       "      <td>532000000</td>\n",
       "    </tr>\n",
       "    <tr>\n",
       "      <th>611</th>\n",
       "      <td>SixEleven</td>\n",
       "      <td>SHA-256</td>\n",
       "      <td>True</td>\n",
       "      <td>PoW</td>\n",
       "      <td>NaN</td>\n",
       "      <td>611000</td>\n",
       "    </tr>\n",
       "    <tr>\n",
       "      <th>808</th>\n",
       "      <td>808</td>\n",
       "      <td>SHA-256</td>\n",
       "      <td>True</td>\n",
       "      <td>PoW/PoS</td>\n",
       "      <td>0.000000e+00</td>\n",
       "      <td>0</td>\n",
       "    </tr>\n",
       "  </tbody>\n",
       "</table>\n",
       "</div>"
      ],
      "text/plain": [
       "      CoinName Algorithm  IsTrading ProofType  TotalCoinsMined TotalCoinSupply\n",
       "42     42 Coin    Scrypt       True   PoW/PoS     4.199995e+01              42\n",
       "365    365Coin       X11       True   PoW/PoS              NaN      2300000000\n",
       "404    404Coin    Scrypt       True   PoW/PoS     1.055185e+09       532000000\n",
       "611  SixEleven   SHA-256       True       PoW              NaN          611000\n",
       "808        808   SHA-256       True   PoW/PoS     0.000000e+00               0"
      ]
     },
     "execution_count": 102,
     "metadata": {},
     "output_type": "execute_result"
    }
   ],
   "source": [
    "# Load the crypto_data.csv dataset.\n",
    "file_path = \"Resources/crypto_data.csv\"\n",
    "crypto_df = pd.read_csv(file_path, index_col=0)\n",
    "crypto_df.head()"
   ]
  },
  {
   "cell_type": "code",
   "execution_count": 103,
   "metadata": {},
   "outputs": [
    {
     "data": {
      "text/html": [
       "<div>\n",
       "<style scoped>\n",
       "    .dataframe tbody tr th:only-of-type {\n",
       "        vertical-align: middle;\n",
       "    }\n",
       "\n",
       "    .dataframe tbody tr th {\n",
       "        vertical-align: top;\n",
       "    }\n",
       "\n",
       "    .dataframe thead th {\n",
       "        text-align: right;\n",
       "    }\n",
       "</style>\n",
       "<table border=\"1\" class=\"dataframe\">\n",
       "  <thead>\n",
       "    <tr style=\"text-align: right;\">\n",
       "      <th></th>\n",
       "      <th>CoinName</th>\n",
       "      <th>Algorithm</th>\n",
       "      <th>IsTrading</th>\n",
       "      <th>ProofType</th>\n",
       "      <th>TotalCoinsMined</th>\n",
       "      <th>TotalCoinSupply</th>\n",
       "    </tr>\n",
       "  </thead>\n",
       "  <tbody>\n",
       "    <tr>\n",
       "      <th>42</th>\n",
       "      <td>42 Coin</td>\n",
       "      <td>Scrypt</td>\n",
       "      <td>True</td>\n",
       "      <td>PoW/PoS</td>\n",
       "      <td>4.199995e+01</td>\n",
       "      <td>42</td>\n",
       "    </tr>\n",
       "    <tr>\n",
       "      <th>365</th>\n",
       "      <td>365Coin</td>\n",
       "      <td>X11</td>\n",
       "      <td>True</td>\n",
       "      <td>PoW/PoS</td>\n",
       "      <td>NaN</td>\n",
       "      <td>2300000000</td>\n",
       "    </tr>\n",
       "    <tr>\n",
       "      <th>404</th>\n",
       "      <td>404Coin</td>\n",
       "      <td>Scrypt</td>\n",
       "      <td>True</td>\n",
       "      <td>PoW/PoS</td>\n",
       "      <td>1.055185e+09</td>\n",
       "      <td>532000000</td>\n",
       "    </tr>\n",
       "    <tr>\n",
       "      <th>611</th>\n",
       "      <td>SixEleven</td>\n",
       "      <td>SHA-256</td>\n",
       "      <td>True</td>\n",
       "      <td>PoW</td>\n",
       "      <td>NaN</td>\n",
       "      <td>611000</td>\n",
       "    </tr>\n",
       "    <tr>\n",
       "      <th>808</th>\n",
       "      <td>808</td>\n",
       "      <td>SHA-256</td>\n",
       "      <td>True</td>\n",
       "      <td>PoW/PoS</td>\n",
       "      <td>0.000000e+00</td>\n",
       "      <td>0</td>\n",
       "    </tr>\n",
       "    <tr>\n",
       "      <th>...</th>\n",
       "      <td>...</td>\n",
       "      <td>...</td>\n",
       "      <td>...</td>\n",
       "      <td>...</td>\n",
       "      <td>...</td>\n",
       "      <td>...</td>\n",
       "    </tr>\n",
       "    <tr>\n",
       "      <th>SERO</th>\n",
       "      <td>Super Zero</td>\n",
       "      <td>Ethash</td>\n",
       "      <td>True</td>\n",
       "      <td>PoW</td>\n",
       "      <td>NaN</td>\n",
       "      <td>1000000000</td>\n",
       "    </tr>\n",
       "    <tr>\n",
       "      <th>UOS</th>\n",
       "      <td>UOS</td>\n",
       "      <td>SHA-256</td>\n",
       "      <td>True</td>\n",
       "      <td>DPoI</td>\n",
       "      <td>NaN</td>\n",
       "      <td>1000000000</td>\n",
       "    </tr>\n",
       "    <tr>\n",
       "      <th>BDX</th>\n",
       "      <td>Beldex</td>\n",
       "      <td>CryptoNight</td>\n",
       "      <td>True</td>\n",
       "      <td>PoW</td>\n",
       "      <td>9.802226e+08</td>\n",
       "      <td>1400222610</td>\n",
       "    </tr>\n",
       "    <tr>\n",
       "      <th>ZEN</th>\n",
       "      <td>Horizen</td>\n",
       "      <td>Equihash</td>\n",
       "      <td>True</td>\n",
       "      <td>PoW</td>\n",
       "      <td>7.296538e+06</td>\n",
       "      <td>21000000</td>\n",
       "    </tr>\n",
       "    <tr>\n",
       "      <th>XBC</th>\n",
       "      <td>BitcoinPlus</td>\n",
       "      <td>Scrypt</td>\n",
       "      <td>True</td>\n",
       "      <td>PoS</td>\n",
       "      <td>1.283270e+05</td>\n",
       "      <td>1000000</td>\n",
       "    </tr>\n",
       "  </tbody>\n",
       "</table>\n",
       "<p>1144 rows × 6 columns</p>\n",
       "</div>"
      ],
      "text/plain": [
       "         CoinName    Algorithm  IsTrading ProofType  TotalCoinsMined  \\\n",
       "42        42 Coin       Scrypt       True   PoW/PoS     4.199995e+01   \n",
       "365       365Coin          X11       True   PoW/PoS              NaN   \n",
       "404       404Coin       Scrypt       True   PoW/PoS     1.055185e+09   \n",
       "611     SixEleven      SHA-256       True       PoW              NaN   \n",
       "808           808      SHA-256       True   PoW/PoS     0.000000e+00   \n",
       "...           ...          ...        ...       ...              ...   \n",
       "SERO   Super Zero       Ethash       True       PoW              NaN   \n",
       "UOS           UOS      SHA-256       True      DPoI              NaN   \n",
       "BDX        Beldex  CryptoNight       True       PoW     9.802226e+08   \n",
       "ZEN       Horizen     Equihash       True       PoW     7.296538e+06   \n",
       "XBC   BitcoinPlus       Scrypt       True       PoS     1.283270e+05   \n",
       "\n",
       "     TotalCoinSupply  \n",
       "42                42  \n",
       "365       2300000000  \n",
       "404        532000000  \n",
       "611           611000  \n",
       "808                0  \n",
       "...              ...  \n",
       "SERO      1000000000  \n",
       "UOS       1000000000  \n",
       "BDX       1400222610  \n",
       "ZEN         21000000  \n",
       "XBC          1000000  \n",
       "\n",
       "[1144 rows x 6 columns]"
      ]
     },
     "execution_count": 103,
     "metadata": {},
     "output_type": "execute_result"
    }
   ],
   "source": [
    "# Keep all the cryptocurrencies that are being traded. Drop the ISTrading column\n",
    "crypto_df = crypto_df[crypto_df['IsTrading'] == True]\n",
    "crypto_df"
   ]
  },
  {
   "cell_type": "code",
   "execution_count": 104,
   "metadata": {},
   "outputs": [
    {
     "data": {
      "text/html": [
       "<div>\n",
       "<style scoped>\n",
       "    .dataframe tbody tr th:only-of-type {\n",
       "        vertical-align: middle;\n",
       "    }\n",
       "\n",
       "    .dataframe tbody tr th {\n",
       "        vertical-align: top;\n",
       "    }\n",
       "\n",
       "    .dataframe thead th {\n",
       "        text-align: right;\n",
       "    }\n",
       "</style>\n",
       "<table border=\"1\" class=\"dataframe\">\n",
       "  <thead>\n",
       "    <tr style=\"text-align: right;\">\n",
       "      <th></th>\n",
       "      <th>CoinName</th>\n",
       "      <th>Algorithm</th>\n",
       "      <th>IsTrading</th>\n",
       "      <th>ProofType</th>\n",
       "      <th>TotalCoinsMined</th>\n",
       "      <th>TotalCoinSupply</th>\n",
       "    </tr>\n",
       "  </thead>\n",
       "  <tbody>\n",
       "    <tr>\n",
       "      <th>42</th>\n",
       "      <td>42 Coin</td>\n",
       "      <td>Scrypt</td>\n",
       "      <td>True</td>\n",
       "      <td>PoW/PoS</td>\n",
       "      <td>4.199995e+01</td>\n",
       "      <td>42</td>\n",
       "    </tr>\n",
       "    <tr>\n",
       "      <th>365</th>\n",
       "      <td>365Coin</td>\n",
       "      <td>X11</td>\n",
       "      <td>True</td>\n",
       "      <td>PoW/PoS</td>\n",
       "      <td>NaN</td>\n",
       "      <td>2300000000</td>\n",
       "    </tr>\n",
       "    <tr>\n",
       "      <th>404</th>\n",
       "      <td>404Coin</td>\n",
       "      <td>Scrypt</td>\n",
       "      <td>True</td>\n",
       "      <td>PoW/PoS</td>\n",
       "      <td>1.055185e+09</td>\n",
       "      <td>532000000</td>\n",
       "    </tr>\n",
       "    <tr>\n",
       "      <th>611</th>\n",
       "      <td>SixEleven</td>\n",
       "      <td>SHA-256</td>\n",
       "      <td>True</td>\n",
       "      <td>PoW</td>\n",
       "      <td>NaN</td>\n",
       "      <td>611000</td>\n",
       "    </tr>\n",
       "    <tr>\n",
       "      <th>808</th>\n",
       "      <td>808</td>\n",
       "      <td>SHA-256</td>\n",
       "      <td>True</td>\n",
       "      <td>PoW/PoS</td>\n",
       "      <td>0.000000e+00</td>\n",
       "      <td>0</td>\n",
       "    </tr>\n",
       "    <tr>\n",
       "      <th>...</th>\n",
       "      <td>...</td>\n",
       "      <td>...</td>\n",
       "      <td>...</td>\n",
       "      <td>...</td>\n",
       "      <td>...</td>\n",
       "      <td>...</td>\n",
       "    </tr>\n",
       "    <tr>\n",
       "      <th>SERO</th>\n",
       "      <td>Super Zero</td>\n",
       "      <td>Ethash</td>\n",
       "      <td>True</td>\n",
       "      <td>PoW</td>\n",
       "      <td>NaN</td>\n",
       "      <td>1000000000</td>\n",
       "    </tr>\n",
       "    <tr>\n",
       "      <th>UOS</th>\n",
       "      <td>UOS</td>\n",
       "      <td>SHA-256</td>\n",
       "      <td>True</td>\n",
       "      <td>DPoI</td>\n",
       "      <td>NaN</td>\n",
       "      <td>1000000000</td>\n",
       "    </tr>\n",
       "    <tr>\n",
       "      <th>BDX</th>\n",
       "      <td>Beldex</td>\n",
       "      <td>CryptoNight</td>\n",
       "      <td>True</td>\n",
       "      <td>PoW</td>\n",
       "      <td>9.802226e+08</td>\n",
       "      <td>1400222610</td>\n",
       "    </tr>\n",
       "    <tr>\n",
       "      <th>ZEN</th>\n",
       "      <td>Horizen</td>\n",
       "      <td>Equihash</td>\n",
       "      <td>True</td>\n",
       "      <td>PoW</td>\n",
       "      <td>7.296538e+06</td>\n",
       "      <td>21000000</td>\n",
       "    </tr>\n",
       "    <tr>\n",
       "      <th>XBC</th>\n",
       "      <td>BitcoinPlus</td>\n",
       "      <td>Scrypt</td>\n",
       "      <td>True</td>\n",
       "      <td>PoS</td>\n",
       "      <td>1.283270e+05</td>\n",
       "      <td>1000000</td>\n",
       "    </tr>\n",
       "  </tbody>\n",
       "</table>\n",
       "<p>1144 rows × 6 columns</p>\n",
       "</div>"
      ],
      "text/plain": [
       "         CoinName    Algorithm  IsTrading ProofType  TotalCoinsMined  \\\n",
       "42        42 Coin       Scrypt       True   PoW/PoS     4.199995e+01   \n",
       "365       365Coin          X11       True   PoW/PoS              NaN   \n",
       "404       404Coin       Scrypt       True   PoW/PoS     1.055185e+09   \n",
       "611     SixEleven      SHA-256       True       PoW              NaN   \n",
       "808           808      SHA-256       True   PoW/PoS     0.000000e+00   \n",
       "...           ...          ...        ...       ...              ...   \n",
       "SERO   Super Zero       Ethash       True       PoW              NaN   \n",
       "UOS           UOS      SHA-256       True      DPoI              NaN   \n",
       "BDX        Beldex  CryptoNight       True       PoW     9.802226e+08   \n",
       "ZEN       Horizen     Equihash       True       PoW     7.296538e+06   \n",
       "XBC   BitcoinPlus       Scrypt       True       PoS     1.283270e+05   \n",
       "\n",
       "     TotalCoinSupply  \n",
       "42                42  \n",
       "365       2300000000  \n",
       "404        532000000  \n",
       "611           611000  \n",
       "808                0  \n",
       "...              ...  \n",
       "SERO      1000000000  \n",
       "UOS       1000000000  \n",
       "BDX       1400222610  \n",
       "ZEN         21000000  \n",
       "XBC          1000000  \n",
       "\n",
       "[1144 rows x 6 columns]"
      ]
     },
     "execution_count": 104,
     "metadata": {},
     "output_type": "execute_result"
    }
   ],
   "source": [
    "# Keep all the cryptocurrencies that have a working algorithm.\n",
    "crypto_df = crypto_df[crypto_df['Algorithm'] != \"N/A\"]\n",
    "crypto_df"
   ]
  },
  {
   "cell_type": "code",
   "execution_count": 105,
   "metadata": {},
   "outputs": [
    {
     "data": {
      "text/html": [
       "<div>\n",
       "<style scoped>\n",
       "    .dataframe tbody tr th:only-of-type {\n",
       "        vertical-align: middle;\n",
       "    }\n",
       "\n",
       "    .dataframe tbody tr th {\n",
       "        vertical-align: top;\n",
       "    }\n",
       "\n",
       "    .dataframe thead th {\n",
       "        text-align: right;\n",
       "    }\n",
       "</style>\n",
       "<table border=\"1\" class=\"dataframe\">\n",
       "  <thead>\n",
       "    <tr style=\"text-align: right;\">\n",
       "      <th></th>\n",
       "      <th>CoinName</th>\n",
       "      <th>Algorithm</th>\n",
       "      <th>ProofType</th>\n",
       "      <th>TotalCoinsMined</th>\n",
       "      <th>TotalCoinSupply</th>\n",
       "    </tr>\n",
       "  </thead>\n",
       "  <tbody>\n",
       "    <tr>\n",
       "      <th>42</th>\n",
       "      <td>42 Coin</td>\n",
       "      <td>Scrypt</td>\n",
       "      <td>PoW/PoS</td>\n",
       "      <td>4.199995e+01</td>\n",
       "      <td>42</td>\n",
       "    </tr>\n",
       "    <tr>\n",
       "      <th>365</th>\n",
       "      <td>365Coin</td>\n",
       "      <td>X11</td>\n",
       "      <td>PoW/PoS</td>\n",
       "      <td>NaN</td>\n",
       "      <td>2300000000</td>\n",
       "    </tr>\n",
       "    <tr>\n",
       "      <th>404</th>\n",
       "      <td>404Coin</td>\n",
       "      <td>Scrypt</td>\n",
       "      <td>PoW/PoS</td>\n",
       "      <td>1.055185e+09</td>\n",
       "      <td>532000000</td>\n",
       "    </tr>\n",
       "    <tr>\n",
       "      <th>611</th>\n",
       "      <td>SixEleven</td>\n",
       "      <td>SHA-256</td>\n",
       "      <td>PoW</td>\n",
       "      <td>NaN</td>\n",
       "      <td>611000</td>\n",
       "    </tr>\n",
       "    <tr>\n",
       "      <th>808</th>\n",
       "      <td>808</td>\n",
       "      <td>SHA-256</td>\n",
       "      <td>PoW/PoS</td>\n",
       "      <td>0.000000e+00</td>\n",
       "      <td>0</td>\n",
       "    </tr>\n",
       "    <tr>\n",
       "      <th>...</th>\n",
       "      <td>...</td>\n",
       "      <td>...</td>\n",
       "      <td>...</td>\n",
       "      <td>...</td>\n",
       "      <td>...</td>\n",
       "    </tr>\n",
       "    <tr>\n",
       "      <th>SERO</th>\n",
       "      <td>Super Zero</td>\n",
       "      <td>Ethash</td>\n",
       "      <td>PoW</td>\n",
       "      <td>NaN</td>\n",
       "      <td>1000000000</td>\n",
       "    </tr>\n",
       "    <tr>\n",
       "      <th>UOS</th>\n",
       "      <td>UOS</td>\n",
       "      <td>SHA-256</td>\n",
       "      <td>DPoI</td>\n",
       "      <td>NaN</td>\n",
       "      <td>1000000000</td>\n",
       "    </tr>\n",
       "    <tr>\n",
       "      <th>BDX</th>\n",
       "      <td>Beldex</td>\n",
       "      <td>CryptoNight</td>\n",
       "      <td>PoW</td>\n",
       "      <td>9.802226e+08</td>\n",
       "      <td>1400222610</td>\n",
       "    </tr>\n",
       "    <tr>\n",
       "      <th>ZEN</th>\n",
       "      <td>Horizen</td>\n",
       "      <td>Equihash</td>\n",
       "      <td>PoW</td>\n",
       "      <td>7.296538e+06</td>\n",
       "      <td>21000000</td>\n",
       "    </tr>\n",
       "    <tr>\n",
       "      <th>XBC</th>\n",
       "      <td>BitcoinPlus</td>\n",
       "      <td>Scrypt</td>\n",
       "      <td>PoS</td>\n",
       "      <td>1.283270e+05</td>\n",
       "      <td>1000000</td>\n",
       "    </tr>\n",
       "  </tbody>\n",
       "</table>\n",
       "<p>1144 rows × 5 columns</p>\n",
       "</div>"
      ],
      "text/plain": [
       "         CoinName    Algorithm ProofType  TotalCoinsMined TotalCoinSupply\n",
       "42        42 Coin       Scrypt   PoW/PoS     4.199995e+01              42\n",
       "365       365Coin          X11   PoW/PoS              NaN      2300000000\n",
       "404       404Coin       Scrypt   PoW/PoS     1.055185e+09       532000000\n",
       "611     SixEleven      SHA-256       PoW              NaN          611000\n",
       "808           808      SHA-256   PoW/PoS     0.000000e+00               0\n",
       "...           ...          ...       ...              ...             ...\n",
       "SERO   Super Zero       Ethash       PoW              NaN      1000000000\n",
       "UOS           UOS      SHA-256      DPoI              NaN      1000000000\n",
       "BDX        Beldex  CryptoNight       PoW     9.802226e+08      1400222610\n",
       "ZEN       Horizen     Equihash       PoW     7.296538e+06        21000000\n",
       "XBC   BitcoinPlus       Scrypt       PoS     1.283270e+05         1000000\n",
       "\n",
       "[1144 rows x 5 columns]"
      ]
     },
     "execution_count": 105,
     "metadata": {},
     "output_type": "execute_result"
    }
   ],
   "source": [
    "# Remove the \"IsTrading\" column. \n",
    "crypto_df.drop(columns=[\"IsTrading\"], inplace=True)\n",
    "crypto_df"
   ]
  },
  {
   "cell_type": "code",
   "execution_count": 106,
   "metadata": {},
   "outputs": [
    {
     "name": "stdout",
     "output_type": "stream",
     "text": [
      "CoinName has 0null values\n",
      "Algorithm has 0null values\n",
      "ProofType has 0null values\n",
      "TotalCoinsMined has 459null values\n",
      "TotalCoinSupply has 0null values\n"
     ]
    },
    {
     "data": {
      "text/html": [
       "<div>\n",
       "<style scoped>\n",
       "    .dataframe tbody tr th:only-of-type {\n",
       "        vertical-align: middle;\n",
       "    }\n",
       "\n",
       "    .dataframe tbody tr th {\n",
       "        vertical-align: top;\n",
       "    }\n",
       "\n",
       "    .dataframe thead th {\n",
       "        text-align: right;\n",
       "    }\n",
       "</style>\n",
       "<table border=\"1\" class=\"dataframe\">\n",
       "  <thead>\n",
       "    <tr style=\"text-align: right;\">\n",
       "      <th></th>\n",
       "      <th>CoinName</th>\n",
       "      <th>Algorithm</th>\n",
       "      <th>ProofType</th>\n",
       "      <th>TotalCoinsMined</th>\n",
       "      <th>TotalCoinSupply</th>\n",
       "    </tr>\n",
       "  </thead>\n",
       "  <tbody>\n",
       "    <tr>\n",
       "      <th>42</th>\n",
       "      <td>42 Coin</td>\n",
       "      <td>Scrypt</td>\n",
       "      <td>PoW/PoS</td>\n",
       "      <td>4.199995e+01</td>\n",
       "      <td>42</td>\n",
       "    </tr>\n",
       "    <tr>\n",
       "      <th>404</th>\n",
       "      <td>404Coin</td>\n",
       "      <td>Scrypt</td>\n",
       "      <td>PoW/PoS</td>\n",
       "      <td>1.055185e+09</td>\n",
       "      <td>532000000</td>\n",
       "    </tr>\n",
       "    <tr>\n",
       "      <th>808</th>\n",
       "      <td>808</td>\n",
       "      <td>SHA-256</td>\n",
       "      <td>PoW/PoS</td>\n",
       "      <td>0.000000e+00</td>\n",
       "      <td>0</td>\n",
       "    </tr>\n",
       "    <tr>\n",
       "      <th>1337</th>\n",
       "      <td>EliteCoin</td>\n",
       "      <td>X13</td>\n",
       "      <td>PoW/PoS</td>\n",
       "      <td>2.927942e+10</td>\n",
       "      <td>314159265359</td>\n",
       "    </tr>\n",
       "    <tr>\n",
       "      <th>BTC</th>\n",
       "      <td>Bitcoin</td>\n",
       "      <td>SHA-256</td>\n",
       "      <td>PoW</td>\n",
       "      <td>1.792718e+07</td>\n",
       "      <td>21000000</td>\n",
       "    </tr>\n",
       "    <tr>\n",
       "      <th>...</th>\n",
       "      <td>...</td>\n",
       "      <td>...</td>\n",
       "      <td>...</td>\n",
       "      <td>...</td>\n",
       "      <td>...</td>\n",
       "    </tr>\n",
       "    <tr>\n",
       "      <th>ZEPH</th>\n",
       "      <td>ZEPHYR</td>\n",
       "      <td>SHA-256</td>\n",
       "      <td>DPoS</td>\n",
       "      <td>2.000000e+09</td>\n",
       "      <td>2000000000</td>\n",
       "    </tr>\n",
       "    <tr>\n",
       "      <th>GAP</th>\n",
       "      <td>Gapcoin</td>\n",
       "      <td>Scrypt</td>\n",
       "      <td>PoW/PoS</td>\n",
       "      <td>1.493105e+07</td>\n",
       "      <td>250000000</td>\n",
       "    </tr>\n",
       "    <tr>\n",
       "      <th>BDX</th>\n",
       "      <td>Beldex</td>\n",
       "      <td>CryptoNight</td>\n",
       "      <td>PoW</td>\n",
       "      <td>9.802226e+08</td>\n",
       "      <td>1400222610</td>\n",
       "    </tr>\n",
       "    <tr>\n",
       "      <th>ZEN</th>\n",
       "      <td>Horizen</td>\n",
       "      <td>Equihash</td>\n",
       "      <td>PoW</td>\n",
       "      <td>7.296538e+06</td>\n",
       "      <td>21000000</td>\n",
       "    </tr>\n",
       "    <tr>\n",
       "      <th>XBC</th>\n",
       "      <td>BitcoinPlus</td>\n",
       "      <td>Scrypt</td>\n",
       "      <td>PoS</td>\n",
       "      <td>1.283270e+05</td>\n",
       "      <td>1000000</td>\n",
       "    </tr>\n",
       "  </tbody>\n",
       "</table>\n",
       "<p>685 rows × 5 columns</p>\n",
       "</div>"
      ],
      "text/plain": [
       "         CoinName    Algorithm ProofType  TotalCoinsMined TotalCoinSupply\n",
       "42        42 Coin       Scrypt   PoW/PoS     4.199995e+01              42\n",
       "404       404Coin       Scrypt   PoW/PoS     1.055185e+09       532000000\n",
       "808           808      SHA-256   PoW/PoS     0.000000e+00               0\n",
       "1337    EliteCoin          X13   PoW/PoS     2.927942e+10    314159265359\n",
       "BTC       Bitcoin      SHA-256       PoW     1.792718e+07        21000000\n",
       "...           ...          ...       ...              ...             ...\n",
       "ZEPH       ZEPHYR      SHA-256      DPoS     2.000000e+09      2000000000\n",
       "GAP       Gapcoin       Scrypt   PoW/PoS     1.493105e+07       250000000\n",
       "BDX        Beldex  CryptoNight       PoW     9.802226e+08      1400222610\n",
       "ZEN       Horizen     Equihash       PoW     7.296538e+06        21000000\n",
       "XBC   BitcoinPlus       Scrypt       PoS     1.283270e+05         1000000\n",
       "\n",
       "[685 rows x 5 columns]"
      ]
     },
     "execution_count": 106,
     "metadata": {},
     "output_type": "execute_result"
    }
   ],
   "source": [
    "# Remove rows that have at least 1 null value.\n",
    "for column in crypto_df.columns:\n",
    "    print(f\"{column} has {crypto_df[column].isnull().sum()}null values\")\n",
    "crypto_df.dropna()"
   ]
  },
  {
   "cell_type": "code",
   "execution_count": 107,
   "metadata": {},
   "outputs": [
    {
     "data": {
      "text/html": [
       "<div>\n",
       "<style scoped>\n",
       "    .dataframe tbody tr th:only-of-type {\n",
       "        vertical-align: middle;\n",
       "    }\n",
       "\n",
       "    .dataframe tbody tr th {\n",
       "        vertical-align: top;\n",
       "    }\n",
       "\n",
       "    .dataframe thead th {\n",
       "        text-align: right;\n",
       "    }\n",
       "</style>\n",
       "<table border=\"1\" class=\"dataframe\">\n",
       "  <thead>\n",
       "    <tr style=\"text-align: right;\">\n",
       "      <th></th>\n",
       "      <th>CoinName</th>\n",
       "      <th>Algorithm</th>\n",
       "      <th>ProofType</th>\n",
       "      <th>TotalCoinsMined</th>\n",
       "      <th>TotalCoinSupply</th>\n",
       "    </tr>\n",
       "  </thead>\n",
       "  <tbody>\n",
       "    <tr>\n",
       "      <th>42</th>\n",
       "      <td>42 Coin</td>\n",
       "      <td>Scrypt</td>\n",
       "      <td>PoW/PoS</td>\n",
       "      <td>4.199995e+01</td>\n",
       "      <td>42</td>\n",
       "    </tr>\n",
       "    <tr>\n",
       "      <th>404</th>\n",
       "      <td>404Coin</td>\n",
       "      <td>Scrypt</td>\n",
       "      <td>PoW/PoS</td>\n",
       "      <td>1.055185e+09</td>\n",
       "      <td>532000000</td>\n",
       "    </tr>\n",
       "    <tr>\n",
       "      <th>1337</th>\n",
       "      <td>EliteCoin</td>\n",
       "      <td>X13</td>\n",
       "      <td>PoW/PoS</td>\n",
       "      <td>2.927942e+10</td>\n",
       "      <td>314159265359</td>\n",
       "    </tr>\n",
       "    <tr>\n",
       "      <th>BTC</th>\n",
       "      <td>Bitcoin</td>\n",
       "      <td>SHA-256</td>\n",
       "      <td>PoW</td>\n",
       "      <td>1.792718e+07</td>\n",
       "      <td>21000000</td>\n",
       "    </tr>\n",
       "    <tr>\n",
       "      <th>ETH</th>\n",
       "      <td>Ethereum</td>\n",
       "      <td>Ethash</td>\n",
       "      <td>PoW</td>\n",
       "      <td>1.076842e+08</td>\n",
       "      <td>0</td>\n",
       "    </tr>\n",
       "    <tr>\n",
       "      <th>...</th>\n",
       "      <td>...</td>\n",
       "      <td>...</td>\n",
       "      <td>...</td>\n",
       "      <td>...</td>\n",
       "      <td>...</td>\n",
       "    </tr>\n",
       "    <tr>\n",
       "      <th>ZEPH</th>\n",
       "      <td>ZEPHYR</td>\n",
       "      <td>SHA-256</td>\n",
       "      <td>DPoS</td>\n",
       "      <td>2.000000e+09</td>\n",
       "      <td>2000000000</td>\n",
       "    </tr>\n",
       "    <tr>\n",
       "      <th>GAP</th>\n",
       "      <td>Gapcoin</td>\n",
       "      <td>Scrypt</td>\n",
       "      <td>PoW/PoS</td>\n",
       "      <td>1.493105e+07</td>\n",
       "      <td>250000000</td>\n",
       "    </tr>\n",
       "    <tr>\n",
       "      <th>BDX</th>\n",
       "      <td>Beldex</td>\n",
       "      <td>CryptoNight</td>\n",
       "      <td>PoW</td>\n",
       "      <td>9.802226e+08</td>\n",
       "      <td>1400222610</td>\n",
       "    </tr>\n",
       "    <tr>\n",
       "      <th>ZEN</th>\n",
       "      <td>Horizen</td>\n",
       "      <td>Equihash</td>\n",
       "      <td>PoW</td>\n",
       "      <td>7.296538e+06</td>\n",
       "      <td>21000000</td>\n",
       "    </tr>\n",
       "    <tr>\n",
       "      <th>XBC</th>\n",
       "      <td>BitcoinPlus</td>\n",
       "      <td>Scrypt</td>\n",
       "      <td>PoS</td>\n",
       "      <td>1.283270e+05</td>\n",
       "      <td>1000000</td>\n",
       "    </tr>\n",
       "  </tbody>\n",
       "</table>\n",
       "<p>532 rows × 5 columns</p>\n",
       "</div>"
      ],
      "text/plain": [
       "         CoinName    Algorithm ProofType  TotalCoinsMined TotalCoinSupply\n",
       "42        42 Coin       Scrypt   PoW/PoS     4.199995e+01              42\n",
       "404       404Coin       Scrypt   PoW/PoS     1.055185e+09       532000000\n",
       "1337    EliteCoin          X13   PoW/PoS     2.927942e+10    314159265359\n",
       "BTC       Bitcoin      SHA-256       PoW     1.792718e+07        21000000\n",
       "ETH      Ethereum       Ethash       PoW     1.076842e+08               0\n",
       "...           ...          ...       ...              ...             ...\n",
       "ZEPH       ZEPHYR      SHA-256      DPoS     2.000000e+09      2000000000\n",
       "GAP       Gapcoin       Scrypt   PoW/PoS     1.493105e+07       250000000\n",
       "BDX        Beldex  CryptoNight       PoW     9.802226e+08      1400222610\n",
       "ZEN       Horizen     Equihash       PoW     7.296538e+06        21000000\n",
       "XBC   BitcoinPlus       Scrypt       PoS     1.283270e+05         1000000\n",
       "\n",
       "[532 rows x 5 columns]"
      ]
     },
     "execution_count": 107,
     "metadata": {},
     "output_type": "execute_result"
    }
   ],
   "source": [
    "# Keep the rows where coins are mined.\n",
    "crypto_df = crypto_df[crypto_df['TotalCoinsMined'] > 0]\n",
    "crypto_df"
   ]
  },
  {
   "cell_type": "code",
   "execution_count": 108,
   "metadata": {},
   "outputs": [
    {
     "data": {
      "text/html": [
       "<div>\n",
       "<style scoped>\n",
       "    .dataframe tbody tr th:only-of-type {\n",
       "        vertical-align: middle;\n",
       "    }\n",
       "\n",
       "    .dataframe tbody tr th {\n",
       "        vertical-align: top;\n",
       "    }\n",
       "\n",
       "    .dataframe thead th {\n",
       "        text-align: right;\n",
       "    }\n",
       "</style>\n",
       "<table border=\"1\" class=\"dataframe\">\n",
       "  <thead>\n",
       "    <tr style=\"text-align: right;\">\n",
       "      <th></th>\n",
       "      <th>CoinName</th>\n",
       "    </tr>\n",
       "  </thead>\n",
       "  <tbody>\n",
       "    <tr>\n",
       "      <th>42</th>\n",
       "      <td>42 Coin</td>\n",
       "    </tr>\n",
       "    <tr>\n",
       "      <th>404</th>\n",
       "      <td>404Coin</td>\n",
       "    </tr>\n",
       "    <tr>\n",
       "      <th>1337</th>\n",
       "      <td>EliteCoin</td>\n",
       "    </tr>\n",
       "    <tr>\n",
       "      <th>BTC</th>\n",
       "      <td>Bitcoin</td>\n",
       "    </tr>\n",
       "    <tr>\n",
       "      <th>ETH</th>\n",
       "      <td>Ethereum</td>\n",
       "    </tr>\n",
       "    <tr>\n",
       "      <th>...</th>\n",
       "      <td>...</td>\n",
       "    </tr>\n",
       "    <tr>\n",
       "      <th>ZEPH</th>\n",
       "      <td>ZEPHYR</td>\n",
       "    </tr>\n",
       "    <tr>\n",
       "      <th>GAP</th>\n",
       "      <td>Gapcoin</td>\n",
       "    </tr>\n",
       "    <tr>\n",
       "      <th>BDX</th>\n",
       "      <td>Beldex</td>\n",
       "    </tr>\n",
       "    <tr>\n",
       "      <th>ZEN</th>\n",
       "      <td>Horizen</td>\n",
       "    </tr>\n",
       "    <tr>\n",
       "      <th>XBC</th>\n",
       "      <td>BitcoinPlus</td>\n",
       "    </tr>\n",
       "  </tbody>\n",
       "</table>\n",
       "<p>532 rows × 1 columns</p>\n",
       "</div>"
      ],
      "text/plain": [
       "         CoinName\n",
       "42        42 Coin\n",
       "404       404Coin\n",
       "1337    EliteCoin\n",
       "BTC       Bitcoin\n",
       "ETH      Ethereum\n",
       "...           ...\n",
       "ZEPH       ZEPHYR\n",
       "GAP       Gapcoin\n",
       "BDX        Beldex\n",
       "ZEN       Horizen\n",
       "XBC   BitcoinPlus\n",
       "\n",
       "[532 rows x 1 columns]"
      ]
     },
     "execution_count": 108,
     "metadata": {},
     "output_type": "execute_result"
    }
   ],
   "source": [
    "# Create a new DataFrame that holds only the cryptocurrencies names.\n",
    "cryptoname_df = pd.DataFrame(crypto_df['CoinName'], index=crypto_df.index)\n",
    "cryptoname_df"
   ]
  },
  {
   "cell_type": "code",
   "execution_count": 109,
   "metadata": {},
   "outputs": [
    {
     "data": {
      "text/html": [
       "<div>\n",
       "<style scoped>\n",
       "    .dataframe tbody tr th:only-of-type {\n",
       "        vertical-align: middle;\n",
       "    }\n",
       "\n",
       "    .dataframe tbody tr th {\n",
       "        vertical-align: top;\n",
       "    }\n",
       "\n",
       "    .dataframe thead th {\n",
       "        text-align: right;\n",
       "    }\n",
       "</style>\n",
       "<table border=\"1\" class=\"dataframe\">\n",
       "  <thead>\n",
       "    <tr style=\"text-align: right;\">\n",
       "      <th></th>\n",
       "      <th>Algorithm</th>\n",
       "      <th>ProofType</th>\n",
       "      <th>TotalCoinsMined</th>\n",
       "      <th>TotalCoinSupply</th>\n",
       "    </tr>\n",
       "  </thead>\n",
       "  <tbody>\n",
       "    <tr>\n",
       "      <th>42</th>\n",
       "      <td>Scrypt</td>\n",
       "      <td>PoW/PoS</td>\n",
       "      <td>4.199995e+01</td>\n",
       "      <td>42</td>\n",
       "    </tr>\n",
       "    <tr>\n",
       "      <th>404</th>\n",
       "      <td>Scrypt</td>\n",
       "      <td>PoW/PoS</td>\n",
       "      <td>1.055185e+09</td>\n",
       "      <td>532000000</td>\n",
       "    </tr>\n",
       "    <tr>\n",
       "      <th>1337</th>\n",
       "      <td>X13</td>\n",
       "      <td>PoW/PoS</td>\n",
       "      <td>2.927942e+10</td>\n",
       "      <td>314159265359</td>\n",
       "    </tr>\n",
       "    <tr>\n",
       "      <th>BTC</th>\n",
       "      <td>SHA-256</td>\n",
       "      <td>PoW</td>\n",
       "      <td>1.792718e+07</td>\n",
       "      <td>21000000</td>\n",
       "    </tr>\n",
       "    <tr>\n",
       "      <th>ETH</th>\n",
       "      <td>Ethash</td>\n",
       "      <td>PoW</td>\n",
       "      <td>1.076842e+08</td>\n",
       "      <td>0</td>\n",
       "    </tr>\n",
       "    <tr>\n",
       "      <th>...</th>\n",
       "      <td>...</td>\n",
       "      <td>...</td>\n",
       "      <td>...</td>\n",
       "      <td>...</td>\n",
       "    </tr>\n",
       "    <tr>\n",
       "      <th>ZEPH</th>\n",
       "      <td>SHA-256</td>\n",
       "      <td>DPoS</td>\n",
       "      <td>2.000000e+09</td>\n",
       "      <td>2000000000</td>\n",
       "    </tr>\n",
       "    <tr>\n",
       "      <th>GAP</th>\n",
       "      <td>Scrypt</td>\n",
       "      <td>PoW/PoS</td>\n",
       "      <td>1.493105e+07</td>\n",
       "      <td>250000000</td>\n",
       "    </tr>\n",
       "    <tr>\n",
       "      <th>BDX</th>\n",
       "      <td>CryptoNight</td>\n",
       "      <td>PoW</td>\n",
       "      <td>9.802226e+08</td>\n",
       "      <td>1400222610</td>\n",
       "    </tr>\n",
       "    <tr>\n",
       "      <th>ZEN</th>\n",
       "      <td>Equihash</td>\n",
       "      <td>PoW</td>\n",
       "      <td>7.296538e+06</td>\n",
       "      <td>21000000</td>\n",
       "    </tr>\n",
       "    <tr>\n",
       "      <th>XBC</th>\n",
       "      <td>Scrypt</td>\n",
       "      <td>PoS</td>\n",
       "      <td>1.283270e+05</td>\n",
       "      <td>1000000</td>\n",
       "    </tr>\n",
       "  </tbody>\n",
       "</table>\n",
       "<p>532 rows × 4 columns</p>\n",
       "</div>"
      ],
      "text/plain": [
       "        Algorithm ProofType  TotalCoinsMined TotalCoinSupply\n",
       "42         Scrypt   PoW/PoS     4.199995e+01              42\n",
       "404        Scrypt   PoW/PoS     1.055185e+09       532000000\n",
       "1337          X13   PoW/PoS     2.927942e+10    314159265359\n",
       "BTC       SHA-256       PoW     1.792718e+07        21000000\n",
       "ETH        Ethash       PoW     1.076842e+08               0\n",
       "...           ...       ...              ...             ...\n",
       "ZEPH      SHA-256      DPoS     2.000000e+09      2000000000\n",
       "GAP        Scrypt   PoW/PoS     1.493105e+07       250000000\n",
       "BDX   CryptoNight       PoW     9.802226e+08      1400222610\n",
       "ZEN      Equihash       PoW     7.296538e+06        21000000\n",
       "XBC        Scrypt       PoS     1.283270e+05         1000000\n",
       "\n",
       "[532 rows x 4 columns]"
      ]
     },
     "execution_count": 109,
     "metadata": {},
     "output_type": "execute_result"
    }
   ],
   "source": [
    "# Drop the 'CoinName' column since it's not going to be used on the clustering algorithm.\n",
    "# Getting a 'set on a copy of a slice warning at this point'\n",
    "del crypto_df['CoinName']\n",
    "crypto_df\n",
    "#Resolved - using drop column triggers a warning - use delete instead or .pop"
   ]
  },
  {
   "cell_type": "code",
   "execution_count": 110,
   "metadata": {},
   "outputs": [
    {
     "data": {
      "text/html": [
       "<div>\n",
       "<style scoped>\n",
       "    .dataframe tbody tr th:only-of-type {\n",
       "        vertical-align: middle;\n",
       "    }\n",
       "\n",
       "    .dataframe tbody tr th {\n",
       "        vertical-align: top;\n",
       "    }\n",
       "\n",
       "    .dataframe thead th {\n",
       "        text-align: right;\n",
       "    }\n",
       "</style>\n",
       "<table border=\"1\" class=\"dataframe\">\n",
       "  <thead>\n",
       "    <tr style=\"text-align: right;\">\n",
       "      <th></th>\n",
       "      <th>Algorithm</th>\n",
       "      <th>ProofType</th>\n",
       "      <th>TotalCoinsMined</th>\n",
       "      <th>TotalCoinSupply</th>\n",
       "    </tr>\n",
       "  </thead>\n",
       "  <tbody>\n",
       "    <tr>\n",
       "      <th>42</th>\n",
       "      <td>Scrypt</td>\n",
       "      <td>PoW/PoS</td>\n",
       "      <td>4.199995e+01</td>\n",
       "      <td>42</td>\n",
       "    </tr>\n",
       "    <tr>\n",
       "      <th>404</th>\n",
       "      <td>Scrypt</td>\n",
       "      <td>PoW/PoS</td>\n",
       "      <td>1.055185e+09</td>\n",
       "      <td>532000000</td>\n",
       "    </tr>\n",
       "    <tr>\n",
       "      <th>1337</th>\n",
       "      <td>X13</td>\n",
       "      <td>PoW/PoS</td>\n",
       "      <td>2.927942e+10</td>\n",
       "      <td>314159265359</td>\n",
       "    </tr>\n",
       "    <tr>\n",
       "      <th>BTC</th>\n",
       "      <td>SHA-256</td>\n",
       "      <td>PoW</td>\n",
       "      <td>1.792718e+07</td>\n",
       "      <td>21000000</td>\n",
       "    </tr>\n",
       "    <tr>\n",
       "      <th>ETH</th>\n",
       "      <td>Ethash</td>\n",
       "      <td>PoW</td>\n",
       "      <td>1.076842e+08</td>\n",
       "      <td>0</td>\n",
       "    </tr>\n",
       "    <tr>\n",
       "      <th>LTC</th>\n",
       "      <td>Scrypt</td>\n",
       "      <td>PoW</td>\n",
       "      <td>6.303924e+07</td>\n",
       "      <td>84000000</td>\n",
       "    </tr>\n",
       "    <tr>\n",
       "      <th>DASH</th>\n",
       "      <td>X11</td>\n",
       "      <td>PoW/PoS</td>\n",
       "      <td>9.031294e+06</td>\n",
       "      <td>22000000</td>\n",
       "    </tr>\n",
       "    <tr>\n",
       "      <th>XMR</th>\n",
       "      <td>CryptoNight-V7</td>\n",
       "      <td>PoW</td>\n",
       "      <td>1.720114e+07</td>\n",
       "      <td>0</td>\n",
       "    </tr>\n",
       "    <tr>\n",
       "      <th>ETC</th>\n",
       "      <td>Ethash</td>\n",
       "      <td>PoW</td>\n",
       "      <td>1.133597e+08</td>\n",
       "      <td>210000000</td>\n",
       "    </tr>\n",
       "    <tr>\n",
       "      <th>ZEC</th>\n",
       "      <td>Equihash</td>\n",
       "      <td>PoW</td>\n",
       "      <td>7.383056e+06</td>\n",
       "      <td>21000000</td>\n",
       "    </tr>\n",
       "  </tbody>\n",
       "</table>\n",
       "</div>"
      ],
      "text/plain": [
       "           Algorithm ProofType  TotalCoinsMined TotalCoinSupply\n",
       "42            Scrypt   PoW/PoS     4.199995e+01              42\n",
       "404           Scrypt   PoW/PoS     1.055185e+09       532000000\n",
       "1337             X13   PoW/PoS     2.927942e+10    314159265359\n",
       "BTC          SHA-256       PoW     1.792718e+07        21000000\n",
       "ETH           Ethash       PoW     1.076842e+08               0\n",
       "LTC           Scrypt       PoW     6.303924e+07        84000000\n",
       "DASH             X11   PoW/PoS     9.031294e+06        22000000\n",
       "XMR   CryptoNight-V7       PoW     1.720114e+07               0\n",
       "ETC           Ethash       PoW     1.133597e+08       210000000\n",
       "ZEC         Equihash       PoW     7.383056e+06        21000000"
      ]
     },
     "execution_count": 110,
     "metadata": {},
     "output_type": "execute_result"
    }
   ],
   "source": [
    "#Confirm output matches data correctly\n",
    "crypto_df.head(10)"
   ]
  },
  {
   "cell_type": "code",
   "execution_count": 111,
   "metadata": {},
   "outputs": [
    {
     "data": {
      "text/html": [
       "<div>\n",
       "<style scoped>\n",
       "    .dataframe tbody tr th:only-of-type {\n",
       "        vertical-align: middle;\n",
       "    }\n",
       "\n",
       "    .dataframe tbody tr th {\n",
       "        vertical-align: top;\n",
       "    }\n",
       "\n",
       "    .dataframe thead th {\n",
       "        text-align: right;\n",
       "    }\n",
       "</style>\n",
       "<table border=\"1\" class=\"dataframe\">\n",
       "  <thead>\n",
       "    <tr style=\"text-align: right;\">\n",
       "      <th></th>\n",
       "      <th>TotalCoinsMined</th>\n",
       "      <th>TotalCoinSupply</th>\n",
       "      <th>Algorithm_1GB AES Pattern Search</th>\n",
       "      <th>Algorithm_536</th>\n",
       "      <th>Algorithm_Argon2d</th>\n",
       "      <th>Algorithm_BLAKE256</th>\n",
       "      <th>Algorithm_Blake</th>\n",
       "      <th>Algorithm_Blake2S</th>\n",
       "      <th>Algorithm_Blake2b</th>\n",
       "      <th>Algorithm_C11</th>\n",
       "      <th>...</th>\n",
       "      <th>ProofType_PoW/PoS</th>\n",
       "      <th>ProofType_PoW/PoS</th>\n",
       "      <th>ProofType_PoW/PoW</th>\n",
       "      <th>ProofType_PoW/nPoS</th>\n",
       "      <th>ProofType_Pos</th>\n",
       "      <th>ProofType_Proof of Authority</th>\n",
       "      <th>ProofType_Proof of Trust</th>\n",
       "      <th>ProofType_TPoS</th>\n",
       "      <th>ProofType_Zero-Knowledge Proof</th>\n",
       "      <th>ProofType_dPoW/PoW</th>\n",
       "    </tr>\n",
       "  </thead>\n",
       "  <tbody>\n",
       "    <tr>\n",
       "      <th>42</th>\n",
       "      <td>4.199995e+01</td>\n",
       "      <td>42</td>\n",
       "      <td>0</td>\n",
       "      <td>0</td>\n",
       "      <td>0</td>\n",
       "      <td>0</td>\n",
       "      <td>0</td>\n",
       "      <td>0</td>\n",
       "      <td>0</td>\n",
       "      <td>0</td>\n",
       "      <td>...</td>\n",
       "      <td>1</td>\n",
       "      <td>0</td>\n",
       "      <td>0</td>\n",
       "      <td>0</td>\n",
       "      <td>0</td>\n",
       "      <td>0</td>\n",
       "      <td>0</td>\n",
       "      <td>0</td>\n",
       "      <td>0</td>\n",
       "      <td>0</td>\n",
       "    </tr>\n",
       "    <tr>\n",
       "      <th>404</th>\n",
       "      <td>1.055185e+09</td>\n",
       "      <td>532000000</td>\n",
       "      <td>0</td>\n",
       "      <td>0</td>\n",
       "      <td>0</td>\n",
       "      <td>0</td>\n",
       "      <td>0</td>\n",
       "      <td>0</td>\n",
       "      <td>0</td>\n",
       "      <td>0</td>\n",
       "      <td>...</td>\n",
       "      <td>1</td>\n",
       "      <td>0</td>\n",
       "      <td>0</td>\n",
       "      <td>0</td>\n",
       "      <td>0</td>\n",
       "      <td>0</td>\n",
       "      <td>0</td>\n",
       "      <td>0</td>\n",
       "      <td>0</td>\n",
       "      <td>0</td>\n",
       "    </tr>\n",
       "    <tr>\n",
       "      <th>1337</th>\n",
       "      <td>2.927942e+10</td>\n",
       "      <td>314159265359</td>\n",
       "      <td>0</td>\n",
       "      <td>0</td>\n",
       "      <td>0</td>\n",
       "      <td>0</td>\n",
       "      <td>0</td>\n",
       "      <td>0</td>\n",
       "      <td>0</td>\n",
       "      <td>0</td>\n",
       "      <td>...</td>\n",
       "      <td>1</td>\n",
       "      <td>0</td>\n",
       "      <td>0</td>\n",
       "      <td>0</td>\n",
       "      <td>0</td>\n",
       "      <td>0</td>\n",
       "      <td>0</td>\n",
       "      <td>0</td>\n",
       "      <td>0</td>\n",
       "      <td>0</td>\n",
       "    </tr>\n",
       "    <tr>\n",
       "      <th>BTC</th>\n",
       "      <td>1.792718e+07</td>\n",
       "      <td>21000000</td>\n",
       "      <td>0</td>\n",
       "      <td>0</td>\n",
       "      <td>0</td>\n",
       "      <td>0</td>\n",
       "      <td>0</td>\n",
       "      <td>0</td>\n",
       "      <td>0</td>\n",
       "      <td>0</td>\n",
       "      <td>...</td>\n",
       "      <td>0</td>\n",
       "      <td>0</td>\n",
       "      <td>0</td>\n",
       "      <td>0</td>\n",
       "      <td>0</td>\n",
       "      <td>0</td>\n",
       "      <td>0</td>\n",
       "      <td>0</td>\n",
       "      <td>0</td>\n",
       "      <td>0</td>\n",
       "    </tr>\n",
       "    <tr>\n",
       "      <th>ETH</th>\n",
       "      <td>1.076842e+08</td>\n",
       "      <td>0</td>\n",
       "      <td>0</td>\n",
       "      <td>0</td>\n",
       "      <td>0</td>\n",
       "      <td>0</td>\n",
       "      <td>0</td>\n",
       "      <td>0</td>\n",
       "      <td>0</td>\n",
       "      <td>0</td>\n",
       "      <td>...</td>\n",
       "      <td>0</td>\n",
       "      <td>0</td>\n",
       "      <td>0</td>\n",
       "      <td>0</td>\n",
       "      <td>0</td>\n",
       "      <td>0</td>\n",
       "      <td>0</td>\n",
       "      <td>0</td>\n",
       "      <td>0</td>\n",
       "      <td>0</td>\n",
       "    </tr>\n",
       "    <tr>\n",
       "      <th>LTC</th>\n",
       "      <td>6.303924e+07</td>\n",
       "      <td>84000000</td>\n",
       "      <td>0</td>\n",
       "      <td>0</td>\n",
       "      <td>0</td>\n",
       "      <td>0</td>\n",
       "      <td>0</td>\n",
       "      <td>0</td>\n",
       "      <td>0</td>\n",
       "      <td>0</td>\n",
       "      <td>...</td>\n",
       "      <td>0</td>\n",
       "      <td>0</td>\n",
       "      <td>0</td>\n",
       "      <td>0</td>\n",
       "      <td>0</td>\n",
       "      <td>0</td>\n",
       "      <td>0</td>\n",
       "      <td>0</td>\n",
       "      <td>0</td>\n",
       "      <td>0</td>\n",
       "    </tr>\n",
       "    <tr>\n",
       "      <th>DASH</th>\n",
       "      <td>9.031294e+06</td>\n",
       "      <td>22000000</td>\n",
       "      <td>0</td>\n",
       "      <td>0</td>\n",
       "      <td>0</td>\n",
       "      <td>0</td>\n",
       "      <td>0</td>\n",
       "      <td>0</td>\n",
       "      <td>0</td>\n",
       "      <td>0</td>\n",
       "      <td>...</td>\n",
       "      <td>1</td>\n",
       "      <td>0</td>\n",
       "      <td>0</td>\n",
       "      <td>0</td>\n",
       "      <td>0</td>\n",
       "      <td>0</td>\n",
       "      <td>0</td>\n",
       "      <td>0</td>\n",
       "      <td>0</td>\n",
       "      <td>0</td>\n",
       "    </tr>\n",
       "    <tr>\n",
       "      <th>XMR</th>\n",
       "      <td>1.720114e+07</td>\n",
       "      <td>0</td>\n",
       "      <td>0</td>\n",
       "      <td>0</td>\n",
       "      <td>0</td>\n",
       "      <td>0</td>\n",
       "      <td>0</td>\n",
       "      <td>0</td>\n",
       "      <td>0</td>\n",
       "      <td>0</td>\n",
       "      <td>...</td>\n",
       "      <td>0</td>\n",
       "      <td>0</td>\n",
       "      <td>0</td>\n",
       "      <td>0</td>\n",
       "      <td>0</td>\n",
       "      <td>0</td>\n",
       "      <td>0</td>\n",
       "      <td>0</td>\n",
       "      <td>0</td>\n",
       "      <td>0</td>\n",
       "    </tr>\n",
       "    <tr>\n",
       "      <th>ETC</th>\n",
       "      <td>1.133597e+08</td>\n",
       "      <td>210000000</td>\n",
       "      <td>0</td>\n",
       "      <td>0</td>\n",
       "      <td>0</td>\n",
       "      <td>0</td>\n",
       "      <td>0</td>\n",
       "      <td>0</td>\n",
       "      <td>0</td>\n",
       "      <td>0</td>\n",
       "      <td>...</td>\n",
       "      <td>0</td>\n",
       "      <td>0</td>\n",
       "      <td>0</td>\n",
       "      <td>0</td>\n",
       "      <td>0</td>\n",
       "      <td>0</td>\n",
       "      <td>0</td>\n",
       "      <td>0</td>\n",
       "      <td>0</td>\n",
       "      <td>0</td>\n",
       "    </tr>\n",
       "    <tr>\n",
       "      <th>ZEC</th>\n",
       "      <td>7.383056e+06</td>\n",
       "      <td>21000000</td>\n",
       "      <td>0</td>\n",
       "      <td>0</td>\n",
       "      <td>0</td>\n",
       "      <td>0</td>\n",
       "      <td>0</td>\n",
       "      <td>0</td>\n",
       "      <td>0</td>\n",
       "      <td>0</td>\n",
       "      <td>...</td>\n",
       "      <td>0</td>\n",
       "      <td>0</td>\n",
       "      <td>0</td>\n",
       "      <td>0</td>\n",
       "      <td>0</td>\n",
       "      <td>0</td>\n",
       "      <td>0</td>\n",
       "      <td>0</td>\n",
       "      <td>0</td>\n",
       "      <td>0</td>\n",
       "    </tr>\n",
       "  </tbody>\n",
       "</table>\n",
       "<p>10 rows × 98 columns</p>\n",
       "</div>"
      ],
      "text/plain": [
       "      TotalCoinsMined TotalCoinSupply  Algorithm_1GB AES Pattern Search  \\\n",
       "42       4.199995e+01              42                                 0   \n",
       "404      1.055185e+09       532000000                                 0   \n",
       "1337     2.927942e+10    314159265359                                 0   \n",
       "BTC      1.792718e+07        21000000                                 0   \n",
       "ETH      1.076842e+08               0                                 0   \n",
       "LTC      6.303924e+07        84000000                                 0   \n",
       "DASH     9.031294e+06        22000000                                 0   \n",
       "XMR      1.720114e+07               0                                 0   \n",
       "ETC      1.133597e+08       210000000                                 0   \n",
       "ZEC      7.383056e+06        21000000                                 0   \n",
       "\n",
       "      Algorithm_536  Algorithm_Argon2d  Algorithm_BLAKE256  Algorithm_Blake  \\\n",
       "42                0                  0                   0                0   \n",
       "404               0                  0                   0                0   \n",
       "1337              0                  0                   0                0   \n",
       "BTC               0                  0                   0                0   \n",
       "ETH               0                  0                   0                0   \n",
       "LTC               0                  0                   0                0   \n",
       "DASH              0                  0                   0                0   \n",
       "XMR               0                  0                   0                0   \n",
       "ETC               0                  0                   0                0   \n",
       "ZEC               0                  0                   0                0   \n",
       "\n",
       "      Algorithm_Blake2S  Algorithm_Blake2b  Algorithm_C11  ...  \\\n",
       "42                    0                  0              0  ...   \n",
       "404                   0                  0              0  ...   \n",
       "1337                  0                  0              0  ...   \n",
       "BTC                   0                  0              0  ...   \n",
       "ETH                   0                  0              0  ...   \n",
       "LTC                   0                  0              0  ...   \n",
       "DASH                  0                  0              0  ...   \n",
       "XMR                   0                  0              0  ...   \n",
       "ETC                   0                  0              0  ...   \n",
       "ZEC                   0                  0              0  ...   \n",
       "\n",
       "      ProofType_PoW/PoS  ProofType_PoW/PoS   ProofType_PoW/PoW  \\\n",
       "42                    1                   0                  0   \n",
       "404                   1                   0                  0   \n",
       "1337                  1                   0                  0   \n",
       "BTC                   0                   0                  0   \n",
       "ETH                   0                   0                  0   \n",
       "LTC                   0                   0                  0   \n",
       "DASH                  1                   0                  0   \n",
       "XMR                   0                   0                  0   \n",
       "ETC                   0                   0                  0   \n",
       "ZEC                   0                   0                  0   \n",
       "\n",
       "      ProofType_PoW/nPoS  ProofType_Pos  ProofType_Proof of Authority  \\\n",
       "42                     0              0                             0   \n",
       "404                    0              0                             0   \n",
       "1337                   0              0                             0   \n",
       "BTC                    0              0                             0   \n",
       "ETH                    0              0                             0   \n",
       "LTC                    0              0                             0   \n",
       "DASH                   0              0                             0   \n",
       "XMR                    0              0                             0   \n",
       "ETC                    0              0                             0   \n",
       "ZEC                    0              0                             0   \n",
       "\n",
       "      ProofType_Proof of Trust  ProofType_TPoS  \\\n",
       "42                           0               0   \n",
       "404                          0               0   \n",
       "1337                         0               0   \n",
       "BTC                          0               0   \n",
       "ETH                          0               0   \n",
       "LTC                          0               0   \n",
       "DASH                         0               0   \n",
       "XMR                          0               0   \n",
       "ETC                          0               0   \n",
       "ZEC                          0               0   \n",
       "\n",
       "      ProofType_Zero-Knowledge Proof  ProofType_dPoW/PoW  \n",
       "42                                 0                   0  \n",
       "404                                0                   0  \n",
       "1337                               0                   0  \n",
       "BTC                                0                   0  \n",
       "ETH                                0                   0  \n",
       "LTC                                0                   0  \n",
       "DASH                               0                   0  \n",
       "XMR                                0                   0  \n",
       "ETC                                0                   0  \n",
       "ZEC                                0                   0  \n",
       "\n",
       "[10 rows x 98 columns]"
      ]
     },
     "execution_count": 111,
     "metadata": {},
     "output_type": "execute_result"
    }
   ],
   "source": [
    "# Use get_dummies() to create variables for text features.\n",
    "X = pd.get_dummies(crypto_df,columns=['Algorithm','ProofType'])\n",
    "X.head(10)"
   ]
  },
  {
   "cell_type": "code",
   "execution_count": 122,
   "metadata": {},
   "outputs": [
    {
     "data": {
      "text/plain": [
       "array([[-0.11710817, -0.1528703 , -0.0433963 , ..., -0.0433963 ,\n",
       "        -0.0433963 , -0.0433963 ],\n",
       "       [-0.09396955, -0.145009  , -0.0433963 , ..., -0.0433963 ,\n",
       "        -0.0433963 , -0.0433963 ],\n",
       "       [ 0.52494561,  4.48942416, -0.0433963 , ..., -0.0433963 ,\n",
       "        -0.0433963 , -0.0433963 ],\n",
       "       ...,\n",
       "       [-0.09561336, -0.13217937, -0.0433963 , ..., -0.0433963 ,\n",
       "        -0.0433963 , -0.0433963 ],\n",
       "       [-0.11694817, -0.15255998, -0.0433963 , ..., -0.0433963 ,\n",
       "        -0.0433963 , -0.0433963 ],\n",
       "       [-0.11710536, -0.15285552, -0.0433963 , ..., -0.0433963 ,\n",
       "        -0.0433963 , -0.0433963 ]])"
      ]
     },
     "execution_count": 122,
     "metadata": {},
     "output_type": "execute_result"
    }
   ],
   "source": [
    "# Standardize the data with StandardScaler().\n",
    "X_scaled = StandardScaler().fit_transform(X)\n",
    "X_scaled"
   ]
  },
  {
   "cell_type": "markdown",
   "metadata": {},
   "source": [
    "### Deliverable 2: Reducing Data Dimensions Using PCA"
   ]
  },
  {
   "cell_type": "code",
   "execution_count": 123,
   "metadata": {},
   "outputs": [
    {
     "data": {
      "text/plain": [
       "array([[-0.33134901,  0.983523  , -0.39923725],\n",
       "       [-0.31473913,  0.98390784, -0.3995363 ],\n",
       "       [ 2.33493482,  1.49646279, -0.50811142],\n",
       "       ...,\n",
       "       [ 0.29296629, -2.18806077,  0.29636411],\n",
       "       [-0.1159346 , -2.09226592,  0.29794605],\n",
       "       [-0.31068138,  0.9786792 , -0.17203275]])"
      ]
     },
     "execution_count": 123,
     "metadata": {},
     "output_type": "execute_result"
    }
   ],
   "source": [
    "# Using PCA to reduce dimension to three principal components.\n",
    "pca = PCA(n_components=3)\n",
    "crypto_pca = pca.fit_transform(X_scaled)\n",
    "crypto_pca"
   ]
  },
  {
   "cell_type": "code",
   "execution_count": 124,
   "metadata": {},
   "outputs": [
    {
     "data": {
      "text/html": [
       "<div>\n",
       "<style scoped>\n",
       "    .dataframe tbody tr th:only-of-type {\n",
       "        vertical-align: middle;\n",
       "    }\n",
       "\n",
       "    .dataframe tbody tr th {\n",
       "        vertical-align: top;\n",
       "    }\n",
       "\n",
       "    .dataframe thead th {\n",
       "        text-align: right;\n",
       "    }\n",
       "</style>\n",
       "<table border=\"1\" class=\"dataframe\">\n",
       "  <thead>\n",
       "    <tr style=\"text-align: right;\">\n",
       "      <th></th>\n",
       "      <th>PC 1</th>\n",
       "      <th>PC 2</th>\n",
       "      <th>PC 3</th>\n",
       "    </tr>\n",
       "  </thead>\n",
       "  <tbody>\n",
       "    <tr>\n",
       "      <th>42</th>\n",
       "      <td>-0.331349</td>\n",
       "      <td>0.983523</td>\n",
       "      <td>-0.399237</td>\n",
       "    </tr>\n",
       "    <tr>\n",
       "      <th>404</th>\n",
       "      <td>-0.314739</td>\n",
       "      <td>0.983908</td>\n",
       "      <td>-0.399536</td>\n",
       "    </tr>\n",
       "    <tr>\n",
       "      <th>1337</th>\n",
       "      <td>2.334935</td>\n",
       "      <td>1.496463</td>\n",
       "      <td>-0.508111</td>\n",
       "    </tr>\n",
       "    <tr>\n",
       "      <th>BTC</th>\n",
       "      <td>-0.133457</td>\n",
       "      <td>-1.370032</td>\n",
       "      <td>0.142696</td>\n",
       "    </tr>\n",
       "    <tr>\n",
       "      <th>ETH</th>\n",
       "      <td>-0.154407</td>\n",
       "      <td>-2.055532</td>\n",
       "      <td>0.310786</td>\n",
       "    </tr>\n",
       "    <tr>\n",
       "      <th>LTC</th>\n",
       "      <td>-0.183884</td>\n",
       "      <td>-1.061140</td>\n",
       "      <td>0.020081</td>\n",
       "    </tr>\n",
       "    <tr>\n",
       "      <th>DASH</th>\n",
       "      <td>-0.397609</td>\n",
       "      <td>1.182747</td>\n",
       "      <td>-0.410389</td>\n",
       "    </tr>\n",
       "    <tr>\n",
       "      <th>XMR</th>\n",
       "      <td>-0.172896</td>\n",
       "      <td>-2.155338</td>\n",
       "      <td>0.240762</td>\n",
       "    </tr>\n",
       "    <tr>\n",
       "      <th>ETC</th>\n",
       "      <td>-0.152856</td>\n",
       "      <td>-2.055600</td>\n",
       "      <td>0.310766</td>\n",
       "    </tr>\n",
       "    <tr>\n",
       "      <th>ZEC</th>\n",
       "      <td>-0.115934</td>\n",
       "      <td>-2.092266</td>\n",
       "      <td>0.297946</td>\n",
       "    </tr>\n",
       "  </tbody>\n",
       "</table>\n",
       "</div>"
      ],
      "text/plain": [
       "          PC 1      PC 2      PC 3\n",
       "42   -0.331349  0.983523 -0.399237\n",
       "404  -0.314739  0.983908 -0.399536\n",
       "1337  2.334935  1.496463 -0.508111\n",
       "BTC  -0.133457 -1.370032  0.142696\n",
       "ETH  -0.154407 -2.055532  0.310786\n",
       "LTC  -0.183884 -1.061140  0.020081\n",
       "DASH -0.397609  1.182747 -0.410389\n",
       "XMR  -0.172896 -2.155338  0.240762\n",
       "ETC  -0.152856 -2.055600  0.310766\n",
       "ZEC  -0.115934 -2.092266  0.297946"
      ]
     },
     "execution_count": 124,
     "metadata": {},
     "output_type": "execute_result"
    }
   ],
   "source": [
    "# Create a DataFrame with the three principal components.\n",
    "pcs_df = pd.DataFrame(\n",
    "    data=crypto_pca, columns=['PC 1', 'PC 2', 'PC 3'], index = crypto_df.index\n",
    ")\n",
    "pcs_df.head(10)\n"
   ]
  },
  {
   "cell_type": "markdown",
   "metadata": {},
   "source": [
    "### Deliverable 3: Clustering Crytocurrencies Using K-Means\n",
    "\n",
    "#### Finding the Best Value for `k` Using the Elbow Curve"
   ]
  },
  {
   "cell_type": "code",
   "execution_count": 125,
   "metadata": {},
   "outputs": [
    {
     "data": {},
     "metadata": {},
     "output_type": "display_data"
    },
    {
     "data": {
      "application/vnd.holoviews_exec.v0+json": "",
      "text/html": [
       "<div id='1002'>\n",
       "\n",
       "\n",
       "\n",
       "\n",
       "\n",
       "  <div class=\"bk-root\" id=\"a6040857-404b-4340-ba5f-0b91c185b593\" data-root-id=\"1002\"></div>\n",
       "</div>\n",
       "<script type=\"application/javascript\">(function(root) {\n",
       "  function embed_document(root) {\n",
       "    var docs_json = {\"fcfa55da-0143-4d3b-a505-60c027f20418\":{\"defs\":[{\"extends\":null,\"module\":null,\"name\":\"ReactiveHTML1\",\"overrides\":[],\"properties\":[]},{\"extends\":null,\"module\":null,\"name\":\"FlexBox1\",\"overrides\":[],\"properties\":[{\"default\":\"flex-start\",\"kind\":null,\"name\":\"align_content\"},{\"default\":\"flex-start\",\"kind\":null,\"name\":\"align_items\"},{\"default\":\"row\",\"kind\":null,\"name\":\"flex_direction\"},{\"default\":\"wrap\",\"kind\":null,\"name\":\"flex_wrap\"},{\"default\":\"flex-start\",\"kind\":null,\"name\":\"justify_content\"}]},{\"extends\":null,\"module\":null,\"name\":\"GridStack1\",\"overrides\":[],\"properties\":[{\"default\":\"warn\",\"kind\":null,\"name\":\"mode\"},{\"default\":null,\"kind\":null,\"name\":\"ncols\"},{\"default\":null,\"kind\":null,\"name\":\"nrows\"},{\"default\":true,\"kind\":null,\"name\":\"allow_resize\"},{\"default\":true,\"kind\":null,\"name\":\"allow_drag\"},{\"default\":[],\"kind\":null,\"name\":\"state\"}]},{\"extends\":null,\"module\":null,\"name\":\"click1\",\"overrides\":[],\"properties\":[{\"default\":\"\",\"kind\":null,\"name\":\"terminal_output\"},{\"default\":\"\",\"kind\":null,\"name\":\"debug_name\"},{\"default\":0,\"kind\":null,\"name\":\"clears\"}]},{\"extends\":null,\"module\":null,\"name\":\"TemplateActions1\",\"overrides\":[],\"properties\":[{\"default\":0,\"kind\":null,\"name\":\"open_modal\"},{\"default\":0,\"kind\":null,\"name\":\"close_modal\"}]},{\"extends\":null,\"module\":null,\"name\":\"MaterialTemplateActions1\",\"overrides\":[],\"properties\":[{\"default\":0,\"kind\":null,\"name\":\"open_modal\"},{\"default\":0,\"kind\":null,\"name\":\"close_modal\"}]}],\"roots\":{\"references\":[{\"attributes\":{},\"id\":\"1021\",\"type\":\"BasicTicker\"},{\"attributes\":{\"axis_label\":\"inertia\",\"coordinates\":null,\"formatter\":{\"id\":\"1053\"},\"group\":null,\"major_label_policy\":{\"id\":\"1054\"},\"ticker\":{\"id\":\"1021\"}},\"id\":\"1020\",\"type\":\"LinearAxis\"},{\"attributes\":{\"end\":3988.4628815985257,\"reset_end\":3988.4628815985257,\"reset_start\":-248.08364326631653,\"start\":-248.08364326631653,\"tags\":[[[\"inertia\",\"inertia\",null]]]},\"id\":\"1005\",\"type\":\"Range1d\"},{\"attributes\":{\"source\":{\"id\":\"1037\"}},\"id\":\"1044\",\"type\":\"CDSView\"},{\"attributes\":{\"line_color\":\"#30a2da\",\"line_width\":2,\"x\":{\"field\":\"k\"},\"y\":{\"field\":\"inertia\"}},\"id\":\"1045\",\"type\":\"Line\"},{\"attributes\":{\"tools\":[{\"id\":\"1006\"},{\"id\":\"1024\"},{\"id\":\"1025\"},{\"id\":\"1026\"},{\"id\":\"1027\"},{\"id\":\"1028\"}]},\"id\":\"1030\",\"type\":\"Toolbar\"},{\"attributes\":{\"callback\":null,\"renderers\":[{\"id\":\"1043\"}],\"tags\":[\"hv_created\"],\"tooltips\":[[\"k\",\"@{k}\"],[\"inertia\",\"@{inertia}\"]]},\"id\":\"1006\",\"type\":\"HoverTool\"},{\"attributes\":{\"ticks\":[1,2,3,4,5,6,7,8,9,10]},\"id\":\"1046\",\"type\":\"FixedTicker\"},{\"attributes\":{\"data\":{\"inertia\":{\"__ndarray__\":\"WtZOrdVmrECIt7uD/1CjQC3Cb2nlkpdA+0tP+NN2hEAKlUF+iGB8QEbBIFGEmnBAUv8s63x4aUBFHXuSJc5kQLCacHfDEmBAWcP/xo89WkA=\",\"dtype\":\"float64\",\"order\":\"little\",\"shape\":[10]},\"k\":[1,2,3,4,5,6,7,8,9,10]},\"selected\":{\"id\":\"1038\"},\"selection_policy\":{\"id\":\"1061\"}},\"id\":\"1037\",\"type\":\"ColumnDataSource\"},{\"attributes\":{},\"id\":\"1054\",\"type\":\"AllLabels\"},{\"attributes\":{},\"id\":\"1014\",\"type\":\"LinearScale\"},{\"attributes\":{},\"id\":\"1048\",\"type\":\"BasicTickFormatter\"},{\"attributes\":{},\"id\":\"1024\",\"type\":\"SaveTool\"},{\"attributes\":{\"line_alpha\":0.1,\"line_color\":\"#30a2da\",\"line_width\":2,\"x\":{\"field\":\"k\"},\"y\":{\"field\":\"inertia\"}},\"id\":\"1041\",\"type\":\"Line\"},{\"attributes\":{},\"id\":\"1025\",\"type\":\"PanTool\"},{\"attributes\":{\"margin\":[5,5,5,5],\"name\":\"HSpacer01632\",\"sizing_mode\":\"stretch_width\"},\"id\":\"1073\",\"type\":\"Spacer\"},{\"attributes\":{},\"id\":\"1026\",\"type\":\"WheelZoomTool\"},{\"attributes\":{\"below\":[{\"id\":\"1016\"}],\"center\":[{\"id\":\"1019\"},{\"id\":\"1023\"}],\"height\":300,\"left\":[{\"id\":\"1020\"}],\"margin\":[5,5,5,5],\"min_border_bottom\":10,\"min_border_left\":10,\"min_border_right\":10,\"min_border_top\":10,\"renderers\":[{\"id\":\"1043\"}],\"sizing_mode\":\"fixed\",\"title\":{\"id\":\"1008\"},\"toolbar\":{\"id\":\"1030\"},\"width\":700,\"x_range\":{\"id\":\"1004\"},\"x_scale\":{\"id\":\"1012\"},\"y_range\":{\"id\":\"1005\"},\"y_scale\":{\"id\":\"1014\"}},\"id\":\"1007\",\"subtype\":\"Figure\",\"type\":\"Plot\"},{\"attributes\":{},\"id\":\"1061\",\"type\":\"UnionRenderers\"},{\"attributes\":{\"overlay\":{\"id\":\"1029\"}},\"id\":\"1027\",\"type\":\"BoxZoomTool\"},{\"attributes\":{\"children\":[{\"id\":\"1003\"},{\"id\":\"1007\"},{\"id\":\"1073\"}],\"margin\":[0,0,0,0],\"name\":\"Row01627\",\"tags\":[\"embedded\"]},\"id\":\"1002\",\"type\":\"Row\"},{\"attributes\":{\"coordinates\":null,\"group\":null,\"text\":\"Elbow Curve\",\"text_color\":\"black\",\"text_font_size\":\"12pt\"},\"id\":\"1008\",\"type\":\"Title\"},{\"attributes\":{\"line_color\":\"#30a2da\",\"line_width\":2,\"x\":{\"field\":\"k\"},\"y\":{\"field\":\"inertia\"}},\"id\":\"1040\",\"type\":\"Line\"},{\"attributes\":{},\"id\":\"1028\",\"type\":\"ResetTool\"},{\"attributes\":{\"axis\":{\"id\":\"1020\"},\"coordinates\":null,\"dimension\":1,\"grid_line_color\":null,\"group\":null,\"ticker\":null},\"id\":\"1023\",\"type\":\"Grid\"},{\"attributes\":{\"margin\":[5,5,5,5],\"name\":\"HSpacer01631\",\"sizing_mode\":\"stretch_width\"},\"id\":\"1003\",\"type\":\"Spacer\"},{\"attributes\":{\"bottom_units\":\"screen\",\"coordinates\":null,\"fill_alpha\":0.5,\"fill_color\":\"lightgrey\",\"group\":null,\"left_units\":\"screen\",\"level\":\"overlay\",\"line_alpha\":1.0,\"line_color\":\"black\",\"line_dash\":[4,4],\"line_width\":2,\"right_units\":\"screen\",\"syncable\":false,\"top_units\":\"screen\"},\"id\":\"1029\",\"type\":\"BoxAnnotation\"},{\"attributes\":{},\"id\":\"1049\",\"type\":\"AllLabels\"},{\"attributes\":{},\"id\":\"1053\",\"type\":\"BasicTickFormatter\"},{\"attributes\":{},\"id\":\"1038\",\"type\":\"Selection\"},{\"attributes\":{\"axis_label\":\"k\",\"coordinates\":null,\"formatter\":{\"id\":\"1048\"},\"group\":null,\"major_label_policy\":{\"id\":\"1049\"},\"ticker\":{\"id\":\"1046\"}},\"id\":\"1016\",\"type\":\"LinearAxis\"},{\"attributes\":{},\"id\":\"1012\",\"type\":\"LinearScale\"},{\"attributes\":{\"end\":10.0,\"reset_end\":10.0,\"reset_start\":1.0,\"start\":1.0,\"tags\":[[[\"k\",\"k\",null]]]},\"id\":\"1004\",\"type\":\"Range1d\"},{\"attributes\":{\"line_alpha\":0.2,\"line_color\":\"#30a2da\",\"line_width\":2,\"x\":{\"field\":\"k\"},\"y\":{\"field\":\"inertia\"}},\"id\":\"1042\",\"type\":\"Line\"},{\"attributes\":{\"axis\":{\"id\":\"1016\"},\"coordinates\":null,\"grid_line_color\":null,\"group\":null,\"ticker\":null},\"id\":\"1019\",\"type\":\"Grid\"},{\"attributes\":{\"coordinates\":null,\"data_source\":{\"id\":\"1037\"},\"glyph\":{\"id\":\"1040\"},\"group\":null,\"hover_glyph\":null,\"muted_glyph\":{\"id\":\"1042\"},\"nonselection_glyph\":{\"id\":\"1041\"},\"selection_glyph\":{\"id\":\"1045\"},\"view\":{\"id\":\"1044\"}},\"id\":\"1043\",\"type\":\"GlyphRenderer\"}],\"root_ids\":[\"1002\"]},\"title\":\"Bokeh Application\",\"version\":\"2.4.2\"}};\n",
       "    var render_items = [{\"docid\":\"fcfa55da-0143-4d3b-a505-60c027f20418\",\"root_ids\":[\"1002\"],\"roots\":{\"1002\":\"a6040857-404b-4340-ba5f-0b91c185b593\"}}];\n",
       "    root.Bokeh.embed.embed_items_notebook(docs_json, render_items);\n",
       "  }\n",
       "  if (root.Bokeh !== undefined && root.Bokeh.Panel !== undefined) {\n",
       "    embed_document(root);\n",
       "  } else {\n",
       "    var attempts = 0;\n",
       "    var timer = setInterval(function(root) {\n",
       "      if (root.Bokeh !== undefined && root.Bokeh.Panel !== undefined) {\n",
       "        clearInterval(timer);\n",
       "        embed_document(root);\n",
       "      } else if (document.readyState == \"complete\") {\n",
       "        attempts++;\n",
       "        if (attempts > 200) {\n",
       "          clearInterval(timer);\n",
       "          console.log(\"Bokeh: ERROR: Unable to run BokehJS code because BokehJS library is missing\");\n",
       "        }\n",
       "      }\n",
       "    }, 25, root)\n",
       "  }\n",
       "})(window);</script>"
      ],
      "text/plain": [
       ":Curve   [k]   (inertia)"
      ]
     },
     "execution_count": 125,
     "metadata": {
      "application/vnd.holoviews_exec.v0+json": {
       "id": "1002"
      }
     },
     "output_type": "execute_result"
    }
   ],
   "source": [
    "# Create an elbow curve to find the best value for K.\n",
    "inertia = []\n",
    "k = list(range(1, 11))\n",
    "# Calculate the inertia for the range of K values\n",
    "for i in k:\n",
    "    km = KMeans(n_clusters=i, random_state=0)\n",
    "    km.fit(pcs_df)\n",
    "    inertia.append(km.inertia_)\n",
    "\n",
    "# Create the elbow curve\n",
    "elbow_data = {\"k\": k, \"inertia\": inertia}\n",
    "df_elbow = pd.DataFrame(elbow_data)\n",
    "df_elbow.hvplot.line(x=\"k\", y=\"inertia\", xticks=k, title=\"Elbow Curve\")\n"
   ]
  },
  {
   "cell_type": "markdown",
   "metadata": {},
   "source": [
    "Running K-Means with `k=4`"
   ]
  },
  {
   "cell_type": "code",
   "execution_count": 127,
   "metadata": {},
   "outputs": [
    {
     "name": "stdout",
     "output_type": "stream",
     "text": [
      "[1 1 1 0 0 0 1 0 0 0 1 0 1 1 0 1 0 0 1 1 0 0 0 0 0 1 0 0 0 1 0 1 0 0 1 1 0\n",
      " 0 0 0 0 0 1 1 0 0 0 0 0 1 1 0 1 0 0 0 0 1 0 0 1 0 1 1 1 0 0 0 1 1 1 1 1 0\n",
      " 0 0 1 1 0 1 0 1 1 0 0 0 0 1 1 0 1 0 0 1 1 0 1 1 0 0 1 1 0 1 1 0 1 0 1 0 1\n",
      " 0 1 1 0 0 1 0 0 0 1 0 0 0 0 0 1 1 0 0 0 1 0 1 0 0 1 0 1 0 1 1 0 0 1 0 0 1\n",
      " 1 0 1 0 1 1 1 0 0 0 0 1 1 1 1 1 0 0 1 1 1 1 1 0 1 1 1 1 1 0 1 0 1 1 0 1 0\n",
      " 1 1 0 1 0 1 0 1 0 1 1 1 1 0 1 1 1 1 1 0 0 1 1 0 0 1 1 1 1 1 0 1 1 1 1 1 1\n",
      " 1 1 0 1 1 1 1 1 1 0 0 0 1 1 1 1 0 1 0 1 1 0 1 0 0 1 0 0 1 0 1 1 1 0 1 1 0\n",
      " 1 1 1 1 1 1 1 0 1 0 1 1 1 1 0 1 0 1 0 0 0 0 1 0 1 1 0 1 0 0 0 1 0 1 0 0 0\n",
      " 1 0 1 0 1 1 1 0 1 0 0 0 0 0 1 1 0 1 1 1 0 1 0 1 0 1 0 1 1 1 1 0 1 1 0 1 1\n",
      " 1 0 0 0 0 1 1 1 1 0 1 0 0 0 1 1 0 0 1 1 0 1 0 0 0 1 0 0 1 1 1 0 0 0 1 1 1\n",
      " 0 0 1 0 0 0 0 1 1 0 0 0 0 1 1 1 1 1 1 0 0 0 0 1 1 1 0 1 0 1 1 1 1 0 1 1 0\n",
      " 1 1 0 0 1 0 1 0 0 0 0 1 1 0 1 0 1 1 1 1 1 1 0 0 0 1 1 1 1 1 1 0 1 0 0 0 0\n",
      " 1 1 1 1 0 1 1 0 1 1 0 1 0 1 0 0 1 1 0 1 0 0 1 0 0 1 0 1 0 1 1 0 1 1 1 1 1\n",
      " 0 0 0 1 1 1 0 1 0 1 0 1 1 1 1 0 1 1 1 0 1 0 1 0 1 1 1 0 0 1 1 1 1 1 1 0 1\n",
      " 0 1 0 1 1 1 1 2 1 1 1 0 0 1]\n"
     ]
    }
   ],
   "source": [
    "# Initialize the K-Means model.\n",
    "model = KMeans(n_clusters=3, random_state=0)\n",
    "\n",
    "# Fit the model\n",
    "model.fit(pcs_df)\n",
    "\n",
    "# Predict clusters\n",
    "predictions = model.predict(pcs_df)\n",
    "print(predictions)"
   ]
  },
  {
   "cell_type": "code",
   "execution_count": 131,
   "metadata": {},
   "outputs": [
    {
     "name": "stdout",
     "output_type": "stream",
     "text": [
      "(532, 9)\n"
     ]
    },
    {
     "data": {
      "text/html": [
       "<div>\n",
       "<style scoped>\n",
       "    .dataframe tbody tr th:only-of-type {\n",
       "        vertical-align: middle;\n",
       "    }\n",
       "\n",
       "    .dataframe tbody tr th {\n",
       "        vertical-align: top;\n",
       "    }\n",
       "\n",
       "    .dataframe thead th {\n",
       "        text-align: right;\n",
       "    }\n",
       "</style>\n",
       "<table border=\"1\" class=\"dataframe\">\n",
       "  <thead>\n",
       "    <tr style=\"text-align: right;\">\n",
       "      <th></th>\n",
       "      <th>Algorithm</th>\n",
       "      <th>ProofType</th>\n",
       "      <th>TotalCoinsMined</th>\n",
       "      <th>TotalCoinSupply</th>\n",
       "      <th>PC 1</th>\n",
       "      <th>PC 2</th>\n",
       "      <th>PC 3</th>\n",
       "      <th>CoinName</th>\n",
       "      <th>Class</th>\n",
       "    </tr>\n",
       "  </thead>\n",
       "  <tbody>\n",
       "    <tr>\n",
       "      <th>42</th>\n",
       "      <td>Scrypt</td>\n",
       "      <td>PoW/PoS</td>\n",
       "      <td>4.199995e+01</td>\n",
       "      <td>42</td>\n",
       "      <td>-0.331349</td>\n",
       "      <td>0.983523</td>\n",
       "      <td>-0.399237</td>\n",
       "      <td>42 Coin</td>\n",
       "      <td>1</td>\n",
       "    </tr>\n",
       "    <tr>\n",
       "      <th>404</th>\n",
       "      <td>Scrypt</td>\n",
       "      <td>PoW/PoS</td>\n",
       "      <td>1.055185e+09</td>\n",
       "      <td>532000000</td>\n",
       "      <td>-0.314739</td>\n",
       "      <td>0.983908</td>\n",
       "      <td>-0.399536</td>\n",
       "      <td>404Coin</td>\n",
       "      <td>1</td>\n",
       "    </tr>\n",
       "    <tr>\n",
       "      <th>1337</th>\n",
       "      <td>X13</td>\n",
       "      <td>PoW/PoS</td>\n",
       "      <td>2.927942e+10</td>\n",
       "      <td>314159265359</td>\n",
       "      <td>2.334935</td>\n",
       "      <td>1.496463</td>\n",
       "      <td>-0.508111</td>\n",
       "      <td>EliteCoin</td>\n",
       "      <td>1</td>\n",
       "    </tr>\n",
       "    <tr>\n",
       "      <th>BTC</th>\n",
       "      <td>SHA-256</td>\n",
       "      <td>PoW</td>\n",
       "      <td>1.792718e+07</td>\n",
       "      <td>21000000</td>\n",
       "      <td>-0.133457</td>\n",
       "      <td>-1.370032</td>\n",
       "      <td>0.142696</td>\n",
       "      <td>Bitcoin</td>\n",
       "      <td>0</td>\n",
       "    </tr>\n",
       "    <tr>\n",
       "      <th>ETH</th>\n",
       "      <td>Ethash</td>\n",
       "      <td>PoW</td>\n",
       "      <td>1.076842e+08</td>\n",
       "      <td>0</td>\n",
       "      <td>-0.154407</td>\n",
       "      <td>-2.055532</td>\n",
       "      <td>0.310786</td>\n",
       "      <td>Ethereum</td>\n",
       "      <td>0</td>\n",
       "    </tr>\n",
       "    <tr>\n",
       "      <th>LTC</th>\n",
       "      <td>Scrypt</td>\n",
       "      <td>PoW</td>\n",
       "      <td>6.303924e+07</td>\n",
       "      <td>84000000</td>\n",
       "      <td>-0.183884</td>\n",
       "      <td>-1.061140</td>\n",
       "      <td>0.020081</td>\n",
       "      <td>Litecoin</td>\n",
       "      <td>0</td>\n",
       "    </tr>\n",
       "    <tr>\n",
       "      <th>DASH</th>\n",
       "      <td>X11</td>\n",
       "      <td>PoW/PoS</td>\n",
       "      <td>9.031294e+06</td>\n",
       "      <td>22000000</td>\n",
       "      <td>-0.397609</td>\n",
       "      <td>1.182747</td>\n",
       "      <td>-0.410389</td>\n",
       "      <td>Dash</td>\n",
       "      <td>1</td>\n",
       "    </tr>\n",
       "    <tr>\n",
       "      <th>XMR</th>\n",
       "      <td>CryptoNight-V7</td>\n",
       "      <td>PoW</td>\n",
       "      <td>1.720114e+07</td>\n",
       "      <td>0</td>\n",
       "      <td>-0.172896</td>\n",
       "      <td>-2.155338</td>\n",
       "      <td>0.240762</td>\n",
       "      <td>Monero</td>\n",
       "      <td>0</td>\n",
       "    </tr>\n",
       "    <tr>\n",
       "      <th>ETC</th>\n",
       "      <td>Ethash</td>\n",
       "      <td>PoW</td>\n",
       "      <td>1.133597e+08</td>\n",
       "      <td>210000000</td>\n",
       "      <td>-0.152856</td>\n",
       "      <td>-2.055600</td>\n",
       "      <td>0.310766</td>\n",
       "      <td>Ethereum Classic</td>\n",
       "      <td>0</td>\n",
       "    </tr>\n",
       "    <tr>\n",
       "      <th>ZEC</th>\n",
       "      <td>Equihash</td>\n",
       "      <td>PoW</td>\n",
       "      <td>7.383056e+06</td>\n",
       "      <td>21000000</td>\n",
       "      <td>-0.115934</td>\n",
       "      <td>-2.092266</td>\n",
       "      <td>0.297946</td>\n",
       "      <td>ZCash</td>\n",
       "      <td>0</td>\n",
       "    </tr>\n",
       "  </tbody>\n",
       "</table>\n",
       "</div>"
      ],
      "text/plain": [
       "           Algorithm ProofType  TotalCoinsMined TotalCoinSupply      PC 1  \\\n",
       "42            Scrypt   PoW/PoS     4.199995e+01              42 -0.331349   \n",
       "404           Scrypt   PoW/PoS     1.055185e+09       532000000 -0.314739   \n",
       "1337             X13   PoW/PoS     2.927942e+10    314159265359  2.334935   \n",
       "BTC          SHA-256       PoW     1.792718e+07        21000000 -0.133457   \n",
       "ETH           Ethash       PoW     1.076842e+08               0 -0.154407   \n",
       "LTC           Scrypt       PoW     6.303924e+07        84000000 -0.183884   \n",
       "DASH             X11   PoW/PoS     9.031294e+06        22000000 -0.397609   \n",
       "XMR   CryptoNight-V7       PoW     1.720114e+07               0 -0.172896   \n",
       "ETC           Ethash       PoW     1.133597e+08       210000000 -0.152856   \n",
       "ZEC         Equihash       PoW     7.383056e+06        21000000 -0.115934   \n",
       "\n",
       "          PC 2      PC 3          CoinName  Class  \n",
       "42    0.983523 -0.399237           42 Coin      1  \n",
       "404   0.983908 -0.399536           404Coin      1  \n",
       "1337  1.496463 -0.508111         EliteCoin      1  \n",
       "BTC  -1.370032  0.142696           Bitcoin      0  \n",
       "ETH  -2.055532  0.310786          Ethereum      0  \n",
       "LTC  -1.061140  0.020081          Litecoin      0  \n",
       "DASH  1.182747 -0.410389              Dash      1  \n",
       "XMR  -2.155338  0.240762            Monero      0  \n",
       "ETC  -2.055600  0.310766  Ethereum Classic      0  \n",
       "ZEC  -2.092266  0.297946             ZCash      0  "
      ]
     },
     "execution_count": 131,
     "metadata": {},
     "output_type": "execute_result"
    }
   ],
   "source": [
    "# Create a new DataFrame including predicted clusters and cryptocurrencies features.\n",
    "# Concatentate the crypto_df and pcs_df DataFrames on the same columns.\n",
    "clustered_df = pd.concat([crypto_df,pcs_df], axis=1)\n",
    "# https://www.geeksforgeeks.org/merge-two-dataframes-with-same-column-names/\n",
    "\n",
    "#  Add a new column, \"CoinName\" to the clustered_df DataFrame that holds the names of the cryptocurrencies. \n",
    "clustered_df = clustered_df.assign(CoinName = cryptoname_df)\n",
    "\n",
    "#  Add a new column, \"Class\" to the clustered_df DataFrame that holds the predictions.\n",
    "clustered_df = clustered_df.assign(Class = predictions)\n",
    "# https://sparkbyexamples.com/pandas/pandas-add-column-to-dataframe/#:~:text=In%20pandas%20you%20can%20add,after%20adding%20a%20new%20column.\n",
    "\n",
    "# Print the shape of the clustered_df\n",
    "print(clustered_df.shape)\n",
    "clustered_df.head(10)"
   ]
  },
  {
   "cell_type": "markdown",
   "metadata": {},
   "source": [
    "### Deliverable 4: Visualizing Cryptocurrencies Results\n",
    "\n",
    "#### 3D-Scatter with Clusters"
   ]
  },
  {
   "cell_type": "code",
   "execution_count": 140,
   "metadata": {},
   "outputs": [
    {
     "data": {
      "application/vnd.plotly.v1+json": {
       "config": {
        "plotlyServerURL": "https://plot.ly"
       },
       "data": [
        {
         "customdata": [
          [
           "Scrypt"
          ],
          [
           "Scrypt"
          ],
          [
           "X13"
          ],
          [
           "SHA-256"
          ],
          [
           "Ethash"
          ],
          [
           "Scrypt"
          ],
          [
           "X11"
          ],
          [
           "CryptoNight-V7"
          ],
          [
           "Ethash"
          ],
          [
           "Equihash"
          ],
          [
           "SHA-512"
          ],
          [
           "Multiple"
          ],
          [
           "SHA-256"
          ],
          [
           "SHA-256"
          ],
          [
           "Scrypt"
          ],
          [
           "X15"
          ],
          [
           "X11"
          ],
          [
           "Scrypt"
          ],
          [
           "Scrypt"
          ],
          [
           "Scrypt"
          ],
          [
           "Multiple"
          ],
          [
           "Scrypt"
          ],
          [
           "SHA-256"
          ],
          [
           "Scrypt"
          ],
          [
           "Scrypt"
          ],
          [
           "Scrypt"
          ],
          [
           "Quark"
          ],
          [
           "Groestl"
          ],
          [
           "Scrypt"
          ],
          [
           "Scrypt"
          ],
          [
           "Scrypt"
          ],
          [
           "Scrypt"
          ],
          [
           "Scrypt"
          ],
          [
           "X11"
          ],
          [
           "Scrypt"
          ],
          [
           "Groestl"
          ],
          [
           "Multiple"
          ],
          [
           "SHA-256"
          ],
          [
           "Scrypt"
          ],
          [
           "Scrypt"
          ],
          [
           "Scrypt"
          ],
          [
           "Scrypt"
          ],
          [
           "PoS"
          ],
          [
           "Scrypt"
          ],
          [
           "Scrypt"
          ],
          [
           "NeoScrypt"
          ],
          [
           "Scrypt"
          ],
          [
           "Scrypt"
          ],
          [
           "Scrypt"
          ],
          [
           "Scrypt"
          ],
          [
           "X11"
          ],
          [
           "Scrypt"
          ],
          [
           "X11"
          ],
          [
           "SHA-256"
          ],
          [
           "Scrypt"
          ],
          [
           "Scrypt"
          ],
          [
           "Scrypt"
          ],
          [
           "SHA3"
          ],
          [
           "Scrypt"
          ],
          [
           "HybridScryptHash256"
          ],
          [
           "Scrypt"
          ],
          [
           "Scrypt"
          ],
          [
           "SHA-256"
          ],
          [
           "Scrypt"
          ],
          [
           "X13"
          ],
          [
           "Scrypt"
          ],
          [
           "SHA-256"
          ],
          [
           "Scrypt"
          ],
          [
           "X13"
          ],
          [
           "NeoScrypt"
          ],
          [
           "Scrypt"
          ],
          [
           "Scrypt"
          ],
          [
           "Scrypt"
          ],
          [
           "Scrypt"
          ],
          [
           "Scrypt"
          ],
          [
           "Scrypt"
          ],
          [
           "X11"
          ],
          [
           "X11"
          ],
          [
           "SHA-256"
          ],
          [
           "Multiple"
          ],
          [
           "SHA-256"
          ],
          [
           "PHI1612"
          ],
          [
           "X11"
          ],
          [
           "SHA-256"
          ],
          [
           "SHA-256"
          ],
          [
           "SHA-256"
          ],
          [
           "X11"
          ],
          [
           "Scrypt"
          ],
          [
           "Scrypt"
          ],
          [
           "Scrypt"
          ],
          [
           "Scrypt"
          ],
          [
           "Lyra2REv2"
          ],
          [
           "Scrypt"
          ],
          [
           "X11"
          ],
          [
           "Multiple"
          ],
          [
           "SHA-256"
          ],
          [
           "X13"
          ],
          [
           "Scrypt"
          ],
          [
           "CryptoNight"
          ],
          [
           "CryptoNight"
          ],
          [
           "Shabal256"
          ],
          [
           "Counterparty"
          ],
          [
           "Scrypt"
          ],
          [
           "SHA-256"
          ],
          [
           "Groestl"
          ],
          [
           "Scrypt"
          ],
          [
           "Scrypt"
          ],
          [
           "Scrypt"
          ],
          [
           "X13"
          ],
          [
           "Scrypt"
          ],
          [
           "Scrypt"
          ],
          [
           "Scrypt"
          ],
          [
           "Scrypt"
          ],
          [
           "X13"
          ],
          [
           "Scrypt"
          ],
          [
           "Stanford Folding"
          ],
          [
           "X11"
          ],
          [
           "Multiple"
          ],
          [
           "QuBit"
          ],
          [
           "Scrypt"
          ],
          [
           "Scrypt"
          ],
          [
           "Scrypt"
          ],
          [
           "M7 POW"
          ],
          [
           "Scrypt"
          ],
          [
           "SHA-256"
          ],
          [
           "Scrypt"
          ],
          [
           "X11"
          ],
          [
           "SHA3"
          ],
          [
           "X11"
          ],
          [
           "Lyra2RE"
          ],
          [
           "SHA-256"
          ],
          [
           "QUAIT"
          ],
          [
           "X11"
          ],
          [
           "X11"
          ],
          [
           "Scrypt"
          ],
          [
           "Scrypt"
          ],
          [
           "Scrypt"
          ],
          [
           "Ethash"
          ],
          [
           "X13"
          ],
          [
           "Blake2b"
          ],
          [
           "SHA-256"
          ],
          [
           "X15"
          ],
          [
           "X11"
          ],
          [
           "SHA-256"
          ],
          [
           "BLAKE256"
          ],
          [
           "Scrypt"
          ],
          [
           "1GB AES Pattern Search"
          ],
          [
           "SHA-256"
          ],
          [
           "X11"
          ],
          [
           "Scrypt"
          ],
          [
           "SHA-256"
          ],
          [
           "SHA-256"
          ],
          [
           "NIST5"
          ],
          [
           "Scrypt"
          ],
          [
           "Scrypt"
          ],
          [
           "X11"
          ],
          [
           "Dagger"
          ],
          [
           "Scrypt"
          ],
          [
           "X11GOST"
          ],
          [
           "X11"
          ],
          [
           "Scrypt"
          ],
          [
           "SHA-256"
          ],
          [
           "Scrypt"
          ],
          [
           "PoS"
          ],
          [
           "Scrypt"
          ],
          [
           "X11"
          ],
          [
           "X11"
          ],
          [
           "SHA-256"
          ],
          [
           "SHA-256"
          ],
          [
           "NIST5"
          ],
          [
           "X11"
          ],
          [
           "Scrypt"
          ],
          [
           "POS 3.0"
          ],
          [
           "Scrypt"
          ],
          [
           "Scrypt"
          ],
          [
           "Scrypt"
          ],
          [
           "X13"
          ],
          [
           "X11"
          ],
          [
           "X11"
          ],
          [
           "Equihash"
          ],
          [
           "X11"
          ],
          [
           "Scrypt"
          ],
          [
           "CryptoNight"
          ],
          [
           "SHA-256"
          ],
          [
           "SHA-256"
          ],
          [
           "X11"
          ],
          [
           "Scrypt"
          ],
          [
           "Multiple"
          ],
          [
           "Scrypt"
          ],
          [
           "Scrypt"
          ],
          [
           "Scrypt"
          ],
          [
           "SHA-256"
          ],
          [
           "Scrypt"
          ],
          [
           "Scrypt"
          ],
          [
           "SHA-256D"
          ],
          [
           "PoS"
          ],
          [
           "Scrypt"
          ],
          [
           "X11"
          ],
          [
           "Lyra2Z"
          ],
          [
           "PoS"
          ],
          [
           "X13"
          ],
          [
           "X14"
          ],
          [
           "PoS"
          ],
          [
           "SHA-256D"
          ],
          [
           "Ethash"
          ],
          [
           "Equihash"
          ],
          [
           "DPoS"
          ],
          [
           "X11"
          ],
          [
           "Scrypt"
          ],
          [
           "X11"
          ],
          [
           "X13"
          ],
          [
           "X11"
          ],
          [
           "PoS"
          ],
          [
           "Scrypt"
          ],
          [
           "Scrypt"
          ],
          [
           "X11"
          ],
          [
           "PoS"
          ],
          [
           "X11"
          ],
          [
           "SHA-256"
          ],
          [
           "Scrypt"
          ],
          [
           "X11"
          ],
          [
           "Scrypt"
          ],
          [
           "Scrypt"
          ],
          [
           "X11"
          ],
          [
           "CryptoNight"
          ],
          [
           "Scrypt"
          ],
          [
           "Scrypt"
          ],
          [
           "Scrypt"
          ],
          [
           "Scrypt"
          ],
          [
           "Quark"
          ],
          [
           "QuBit"
          ],
          [
           "Scrypt"
          ],
          [
           "CryptoNight"
          ],
          [
           "Lyra2RE"
          ],
          [
           "Scrypt"
          ],
          [
           "SHA-256"
          ],
          [
           "X11"
          ],
          [
           "Scrypt"
          ],
          [
           "X11"
          ],
          [
           "Scrypt"
          ],
          [
           "CryptoNight-V7"
          ],
          [
           "Scrypt"
          ],
          [
           "Scrypt"
          ],
          [
           "Scrypt"
          ],
          [
           "X13"
          ],
          [
           "X11"
          ],
          [
           "Equihash"
          ],
          [
           "Scrypt"
          ],
          [
           "Scrypt"
          ],
          [
           "Lyra2RE"
          ],
          [
           "Scrypt"
          ],
          [
           "Dagger-Hashimoto"
          ],
          [
           "X11"
          ],
          [
           "Blake2S"
          ],
          [
           "X11"
          ],
          [
           "Scrypt"
          ],
          [
           "PoS"
          ],
          [
           "X11"
          ],
          [
           "NIST5"
          ],
          [
           "PoS"
          ],
          [
           "X11"
          ],
          [
           "Scrypt"
          ],
          [
           "Scrypt"
          ],
          [
           "Scrypt"
          ],
          [
           "SHA-256"
          ],
          [
           "X11"
          ],
          [
           "Scrypt"
          ],
          [
           "Scrypt"
          ],
          [
           "SHA-256"
          ],
          [
           "PoS"
          ],
          [
           "Scrypt"
          ],
          [
           "X15"
          ],
          [
           "SHA-256"
          ],
          [
           "Scrypt"
          ],
          [
           "POS 3.0"
          ],
          [
           "CryptoNight-V7"
          ],
          [
           "536"
          ],
          [
           "Argon2d"
          ],
          [
           "Blake2b"
          ],
          [
           "Cloverhash"
          ],
          [
           "CryptoNight"
          ],
          [
           "NIST5"
          ],
          [
           "X11"
          ],
          [
           "NIST5"
          ],
          [
           "Skein"
          ],
          [
           "Scrypt"
          ],
          [
           "X13"
          ],
          [
           "Scrypt"
          ],
          [
           "X11"
          ],
          [
           "X11"
          ],
          [
           "Scrypt"
          ],
          [
           "CryptoNight"
          ],
          [
           "X13"
          ],
          [
           "Time Travel"
          ],
          [
           "Scrypt"
          ],
          [
           "Keccak"
          ],
          [
           "SkunkHash v2 Raptor"
          ],
          [
           "X11"
          ],
          [
           "Skein"
          ],
          [
           "SHA-256"
          ],
          [
           "X11"
          ],
          [
           "Scrypt"
          ],
          [
           "VeChainThor Authority"
          ],
          [
           "Scrypt"
          ],
          [
           "PoS"
          ],
          [
           "Scrypt"
          ],
          [
           "Scrypt"
          ],
          [
           "Scrypt"
          ],
          [
           "Scrypt"
          ],
          [
           "Scrypt"
          ],
          [
           "Scrypt"
          ],
          [
           "Scrypt"
          ],
          [
           "CryptoNight"
          ],
          [
           "SHA-512"
          ],
          [
           "Ouroboros"
          ],
          [
           "X11"
          ],
          [
           "Equihash"
          ],
          [
           "NeoScrypt"
          ],
          [
           "X11"
          ],
          [
           "Scrypt"
          ],
          [
           "NeoScrypt"
          ],
          [
           "Lyra2REv2"
          ],
          [
           "Equihash"
          ],
          [
           "Scrypt"
          ],
          [
           "SHA-256"
          ],
          [
           "NIST5"
          ],
          [
           "PHI1612"
          ],
          [
           "Dagger"
          ],
          [
           "Scrypt"
          ],
          [
           "Quark"
          ],
          [
           "Scrypt"
          ],
          [
           "POS 2.0"
          ],
          [
           "Scrypt"
          ],
          [
           "SHA-256"
          ],
          [
           "X11"
          ],
          [
           "NeoScrypt"
          ],
          [
           "Ethash"
          ],
          [
           "NeoScrypt"
          ],
          [
           "X11"
          ],
          [
           "DPoS"
          ],
          [
           "NIST5"
          ],
          [
           "X13"
          ],
          [
           "Multiple"
          ],
          [
           "Scrypt"
          ],
          [
           "CryptoNight"
          ],
          [
           "CryptoNight"
          ],
          [
           "Ethash"
          ],
          [
           "NIST5"
          ],
          [
           "Quark"
          ],
          [
           "X11"
          ],
          [
           "CryptoNight-V7"
          ],
          [
           "Scrypt"
          ],
          [
           "Scrypt"
          ],
          [
           "Scrypt"
          ],
          [
           "X11"
          ],
          [
           "BLAKE256"
          ],
          [
           "X11"
          ],
          [
           "NeoScrypt"
          ],
          [
           "Quark"
          ],
          [
           "NeoScrypt"
          ],
          [
           "Scrypt"
          ],
          [
           "Scrypt"
          ],
          [
           "Scrypt"
          ],
          [
           "X11"
          ],
          [
           "X11"
          ],
          [
           "SHA-256"
          ],
          [
           "C11"
          ],
          [
           "POS 3.0"
          ],
          [
           "Ethash"
          ],
          [
           "Scrypt"
          ],
          [
           "CryptoNight"
          ],
          [
           "SkunkHash"
          ],
          [
           "Scrypt"
          ],
          [
           "CryptoNight"
          ],
          [
           "Scrypt"
          ],
          [
           "Dagger"
          ],
          [
           "Lyra2REv2"
          ],
          [
           "X13"
          ],
          [
           "Proof-of-BibleHash"
          ],
          [
           "SHA-256 + Hive"
          ],
          [
           "Scrypt"
          ],
          [
           "Scrypt"
          ],
          [
           "X11"
          ],
          [
           "C11"
          ],
          [
           "Proof-of-Authority"
          ],
          [
           "X11"
          ],
          [
           "XEVAN"
          ],
          [
           "Scrypt"
          ],
          [
           "VBFT"
          ],
          [
           "Ethash"
          ],
          [
           "CryptoNight"
          ],
          [
           "Scrypt"
          ],
          [
           "IMesh"
          ],
          [
           "NIST5"
          ],
          [
           "Scrypt"
          ],
          [
           "Scrypt"
          ],
          [
           "Equihash"
          ],
          [
           "Scrypt"
          ],
          [
           "Lyra2Z"
          ],
          [
           "Green Protocol"
          ],
          [
           "PoS"
          ],
          [
           "Scrypt"
          ],
          [
           "Semux BFT consensus"
          ],
          [
           "X11"
          ],
          [
           "Quark"
          ],
          [
           "PoS"
          ],
          [
           "CryptoNight"
          ],
          [
           "X16R"
          ],
          [
           "Scrypt"
          ],
          [
           "NIST5"
          ],
          [
           "Lyra2RE"
          ],
          [
           "XEVAN"
          ],
          [
           "Tribus"
          ],
          [
           "Scrypt"
          ],
          [
           "Lyra2Z"
          ],
          [
           "CryptoNight"
          ],
          [
           "CryptoNight Heavy"
          ],
          [
           "CryptoNight"
          ],
          [
           "Scrypt"
          ],
          [
           "Scrypt"
          ],
          [
           "Jump Consistent Hash"
          ],
          [
           "SHA-256D"
          ],
          [
           "CryptoNight"
          ],
          [
           "Scrypt"
          ],
          [
           "X15"
          ],
          [
           "Scrypt"
          ],
          [
           "Quark"
          ],
          [
           "SHA-256"
          ],
          [
           "DPoS"
          ],
          [
           "X16R"
          ],
          [
           "HMQ1725"
          ],
          [
           "X11"
          ],
          [
           "X16R"
          ],
          [
           "Quark"
          ],
          [
           "Quark"
          ],
          [
           "Scrypt"
          ],
          [
           "Lyra2REv2"
          ],
          [
           "Quark"
          ],
          [
           "Scrypt"
          ],
          [
           "Scrypt"
          ],
          [
           "CryptoNight-V7"
          ],
          [
           "Cryptonight-GPU"
          ],
          [
           "XEVAN"
          ],
          [
           "CryptoNight Heavy"
          ],
          [
           "X11"
          ],
          [
           "X11"
          ],
          [
           "Scrypt"
          ],
          [
           "PoS"
          ],
          [
           "SHA-256"
          ],
          [
           "Keccak"
          ],
          [
           "X11"
          ],
          [
           "X11"
          ],
          [
           "Scrypt"
          ],
          [
           "SHA-512"
          ],
          [
           "X16R"
          ],
          [
           "ECC 256K1"
          ],
          [
           "Equihash"
          ],
          [
           "XEVAN"
          ],
          [
           "Lyra2Z"
          ],
          [
           "SHA-256"
          ],
          [
           "XEVAN"
          ],
          [
           "X11"
          ],
          [
           "CryptoNight"
          ],
          [
           "Quark"
          ],
          [
           "Blake"
          ],
          [
           "Blake"
          ],
          [
           "Equihash"
          ],
          [
           "Exosis"
          ],
          [
           "Scrypt"
          ],
          [
           "Scrypt"
          ],
          [
           "Equihash"
          ],
          [
           "Quark"
          ],
          [
           "Equihash"
          ],
          [
           "Quark"
          ],
          [
           "Scrypt"
          ],
          [
           "QuBit"
          ],
          [
           "X11"
          ],
          [
           "Scrypt"
          ],
          [
           "XEVAN"
          ],
          [
           "SHA-256D"
          ],
          [
           "X11"
          ],
          [
           "SHA-256"
          ],
          [
           "X13"
          ],
          [
           "SHA-256"
          ],
          [
           "X11"
          ],
          [
           "DPoS"
          ],
          [
           "Scrypt"
          ],
          [
           "Scrypt"
          ],
          [
           "X11"
          ],
          [
           "NeoScrypt"
          ],
          [
           "Scrypt"
          ],
          [
           "Blake"
          ],
          [
           "Scrypt"
          ],
          [
           "SHA-256"
          ],
          [
           "Scrypt"
          ],
          [
           "X11"
          ],
          [
           "Scrypt"
          ],
          [
           "Scrypt"
          ],
          [
           "SHA-256"
          ],
          [
           "X11"
          ],
          [
           "SHA-256"
          ],
          [
           "Scrypt"
          ],
          [
           "Scrypt"
          ],
          [
           "Scrypt"
          ],
          [
           "Groestl"
          ],
          [
           "X11"
          ],
          [
           "Scrypt"
          ],
          [
           "PoS"
          ],
          [
           "Scrypt"
          ],
          [
           "Scrypt"
          ],
          [
           "X11"
          ],
          [
           "SHA-256"
          ],
          [
           "DPoS"
          ],
          [
           "Scrypt"
          ],
          [
           "Scrypt"
          ],
          [
           "NeoScrypt"
          ],
          [
           "Multiple"
          ],
          [
           "X13"
          ],
          [
           "Equihash+Scrypt"
          ],
          [
           "DPoS"
          ],
          [
           "Ethash"
          ],
          [
           "DPoS"
          ],
          [
           "SHA-256"
          ],
          [
           "Leased POS"
          ],
          [
           "PoS"
          ],
          [
           "TRC10"
          ],
          [
           "PoS"
          ],
          [
           "SHA-256"
          ],
          [
           "Scrypt"
          ],
          [
           "CryptoNight"
          ],
          [
           "Equihash"
          ],
          [
           "Scrypt"
          ]
         ],
         "hovertemplate": "<b>%{hovertext}</b><br><br>PC 1=%{x}<br>PC 2=%{y}<br>PC 3=%{z}<br>Algorithm=%{customdata[0]}<br>Class=%{marker.color}<extra></extra>",
         "hovertext": [
          "42 Coin",
          "404Coin",
          "EliteCoin",
          "Bitcoin",
          "Ethereum",
          "Litecoin",
          "Dash",
          "Monero",
          "Ethereum Classic",
          "ZCash",
          "Bitshares",
          "DigiByte",
          "BitcoinDark",
          "PayCoin",
          "ProsperCoin",
          "KoboCoin",
          "Spreadcoin",
          "Argentum",
          "Aurora Coin",
          "BlueCoin",
          "MyriadCoin",
          "MoonCoin",
          "ZetaCoin",
          "SexCoin",
          "Quatloo",
          "EnergyCoin",
          "QuarkCoin",
          "Riecoin",
          "Digitalcoin ",
          "BitBar",
          "Catcoin",
          "CryptoBullion",
          "CannaCoin",
          "CryptCoin",
          "CasinoCoin",
          "Diamond",
          "Verge",
          "DevCoin",
          "EarthCoin",
          "E-Gulden",
          "Einsteinium",
          "Emerald",
          "Exclusive Coin",
          "FlutterCoin",
          "Franko",
          "FeatherCoin",
          "GrandCoin",
          "GlobalCoin",
          "GoldCoin",
          "HoboNickels",
          "HyperStake",
          "Infinite Coin",
          "IOCoin",
          "IXcoin",
          "KrugerCoin",
          "LuckyCoin",
          "Litebar ",
          "MaxCoin",
          "MegaCoin",
          "MediterraneanCoin",
          "MintCoin",
          "MinCoin",
          "MazaCoin",
          "Nautilus Coin",
          "NavCoin",
          "NobleCoin",
          "Namecoin",
          "NyanCoin",
          "OpalCoin",
          "Orbitcoin",
          "PotCoin",
          "PhoenixCoin",
          "Reddcoin",
          "RonPaulCoin",
          "StableCoin",
          "SmartCoin",
          "SuperCoin",
          "SyncCoin",
          "SysCoin",
          "TeslaCoin",
          "TigerCoin",
          "TittieCoin",
          "TorCoin",
          "TerraCoin",
          "UnbreakableCoin",
          "Unobtanium",
          "UroCoin",
          "UnitaryStatus Dollar",
          "UltraCoin",
          "ViaCoin",
          "VeriCoin",
          "Vertcoin",
          "WorldCoin",
          "X11 Coin",
          "Crypti",
          "JouleCoin",
          "StealthCoin",
          "ZCC Coin",
          "ByteCoin",
          "DigitalNote ",
          "BurstCoin",
          "StorjCoin",
          "MonaCoin",
          "Neutron",
          "FairCoin",
          "Gulden",
          "RubyCoin",
          "PesetaCoin",
          "Kore",
          "Wild Beast Coin",
          "Dnotes",
          "Flo",
          "8BIT Coin",
          "Sativa Coin",
          "ArtByte",
          "Folding Coin",
          "Ucoin",
          "Unitus",
          "CypherPunkCoin",
          "OmniCron",
          "Vtorrent",
          "GreenCoin",
          "Cryptonite",
          "MasterCoin",
          "SoonCoin",
          "1Credit",
          "IslaCoin",
          "Nexus",
          "MarsCoin ",
          "Crypto",
          "Anarchists Prime",
          "Droidz",
          "BowsCoin",
          "Squall Coin",
          "Song Coin",
          "BitZeny",
          "Diggits",
          "Expanse",
          "Paycon",
          "Siacoin",
          "Emercoin",
          "EverGreenCoin",
          "MindCoin",
          "I0coin",
          "Decred",
          "Revolution VR",
          "HOdlcoin",
          "EDRCoin",
          "Hitcoin",
          "Gamecredits",
          "DubaiCoin",
          "CarpeDiemCoin",
          "PWR Coin",
          "BillaryCoin",
          "GPU Coin",
          "Adzcoin",
          "SoilCoin",
          "YoCoin",
          "SibCoin",
          "EuropeCoin",
          "ZeitCoin",
          "SwingCoin",
          "SafeExchangeCoin",
          "Nebuchadnezzar",
          "Francs",
          "BolivarCoin",
          "Ratecoin",
          "Revenu",
          "Clockcoin",
          "VIP Tokens",
          "BitSend",
          "Omni",
          "Let it Ride",
          "PutinCoin",
          "iBankCoin",
          "Frankywillcoin",
          "MudraCoin",
          "PizzaCoin",
          "Lutetium Coin",
          "Komodo",
          "GoldBlocks",
          "CarterCoin",
          "Karbo",
          "BitTokens",
          "ZayedCoin",
          "MustangCoin",
          "ZoneCoin",
          "Circuits of Value",
          "RootCoin",
          "DopeCoin",
          "BitCurrency",
          "DollarCoin",
          "Swiscoin",
          "Shilling",
          "BuzzCoin",
          "Opair",
          "PesoBit",
          "Halloween Coin",
          "ZCoin",
          "CoffeeCoin",
          "RoyalCoin",
          "GanjaCoin V2",
          "TeamUP",
          "LanaCoin",
          "Elementrem",
          "ZClassic",
          "ARK",
          "InsaneCoin",
          "KiloCoin",
          "ArtexCoin",
          "EmberCoin",
          "XenixCoin",
          "FreeCoin",
          "PLNCoin",
          "AquariusCoin",
          "Kurrent",
          "Creatio",
          "Eternity",
          "Eurocoin",
          "BitcoinFast",
          "Stakenet",
          "BitConnect Coin",
          "MoneyCoin",
          "Enigma",
          "Cannabis Industry Coin",
          "Russiacoin",
          "PandaCoin",
          "GameUnits",
          "GAKHcoin",
          "Allsafe",
          "LiteCreed",
          "OsmiumCoin",
          "Bikercoins",
          "HexxCoin",
          "Klingon Empire Darsek",
          "Internet of People",
          "KushCoin",
          "Printerium",
          "PacCoin",
          "Impeach",
          "Citadel",
          "Zilbercoin",
          "FirstCoin",
          "BeaverCoin",
          "FindCoin",
          "VaultCoin",
          "Zero",
          "OpenChat",
          "Canada eCoin",
          "Zoin",
          "RenosCoin",
          "DubaiCoin",
          "VirtacoinPlus",
          "TajCoin",
          "Impact",
          "EB3coin",
          "Atmos",
          "HappyCoin",
          "Coinonat",
          "MacronCoin",
          "Condensate",
          "Independent Money System",
          "ArgusCoin",
          "LomoCoin",
          "ProCurrency",
          "GoldReserve",
          "BenjiRolls",
          "GrowthCoin",
          "ILCoin",
          "Phreak",
          "Degas Coin",
          "HTML5 Coin",
          "Ultimate Secure Cash",
          "EquiTrader",
          "QTUM",
          "Quantum Resistant Ledger",
          "Espers",
          "Dynamic",
          "Nano",
          "ChanCoin",
          "Dinastycoin",
          "Denarius",
          "DigitalPrice",
          "Virta Unique Coin",
          "Bitcoin Planet",
          "Unify",
          "BritCoin",
          "SocialCoin",
          "ArcticCoin",
          "DAS",
          "Linda",
          "LeviarCoin",
          "DeepOnion",
          "Bitcore",
          "gCn Coin",
          "SmartCash",
          "Signatum",
          "Onix",
          "Cream",
          "Bitcoin Cash",
          "Monoeci",
          "Draftcoin",
          "Vechain",
          "Sojourn Coin",
          "Stakecoin",
          "NewYorkCoin",
          "FrazCoin",
          "Kronecoin",
          "AdCoin",
          "Linx",
          "CoinonatX",
          "Ethereum Dark",
          "Sumokoin",
          "Obsidian",
          "Cardano",
          "Regalcoin",
          "BitcoinZ",
          "TrezarCoin",
          "Elements",
          "TerraNovaCoin",
          "VIVO Coin",
          "Rupee",
          "Bitcoin Gold",
          "WomenCoin",
          "Theresa May Coin",
          "NamoCoin",
          "LUXCoin",
          "Pirl",
          "Xios",
          "Bitcloud 2.0",
          "eBoost",
          "KekCoin",
          "BlackholeCoin",
          "Infinity Economics",
          "Pura",
          "Innova",
          "Ellaism",
          "GoByte",
          "Magnet",
          "Lamden Tau",
          "Electra",
          "Bitcoin Diamond",
          "SHIELD",
          "Cash & Back Coin",
          "UltraNote",
          "BitCoal",
          "DaxxCoin",
          "Bulwark",
          "Kalkulus",
          "AC3",
          "Lethean",
          "GermanCoin",
          "LiteCoin Ultra",
          "PopularCoin",
          "PhantomX",
          "Photon",
          "Sucre",
          "SparksPay",
          "Digiwage",
          "GunCoin",
          "IrishCoin",
          "Trollcoin",
          "Litecoin Plus",
          "Monkey Project",
          "Pioneer Coin",
          "UnitedBitcoin",
          "Interzone",
          "TokenPay",
          "1717 Masonic Commemorative Token",
          "My Big Coin",
          "TurtleCoin",
          "MUNcoin",
          "Unified Society USDEX",
          "Niobio Cash",
          "ShareChain",
          "Travelflex",
          "KREDS",
          "Tokyo Coin",
          "BiblePay",
          "LitecoinCash",
          "BitFlip",
          "LottoCoin",
          "Crypto Improvement Fund",
          "Stipend",
          "Poa Network",
          "Pushi",
          "Ellerium",
          "Velox",
          "Ontology",
          "Callisto Network",
          "BitTube",
          "Poseidon",
          "Aidos Kuneen",
          "Bitspace",
          "Briacoin",
          "Ignition",
          "Bitrolium",
          "MedicCoin",
          "Alpenschillling",
          "Bitcoin Green",
          "Deviant Coin",
          "Abjcoin",
          "Semux",
          "FuturoCoin",
          "Carebit",
          "Zealium",
          "Monero Classic",
          "Proton",
          "iDealCash",
          "Jumpcoin",
          "Infinex",
          "Bitcoin Incognito",
          "KEYCO",
          "HollyWoodCoin",
          "GINcoin",
          "PlatinCoin",
          "Loki",
          "Newton Coin",
          "Swisscoin",
          "Xt3ch",
          "MassGrid",
          "TheVig",
          "PluraCoin",
          "EmaratCoin",
          "Dekado",
          "Lynx",
          "Poseidon Quark",
          "BitcoinWSpectrum",
          "Muse",
          "Motion",
          "PlusOneCoin",
          "Axe",
          "Trivechain",
          "Dystem",
          "Giant",
          "Peony Coin",
          "Absolute Coin",
          "Vitae",
          "HexCoin",
          "TPCash",
          "Webchain",
          "Ryo",
          "Urals Coin",
          "Qwertycoin",
          "ARENON",
          "EUNO",
          "MMOCoin",
          "Ketan",
          "Project Pai",
          "XDNA",
          "PAXEX",
          "Azart",
          "ThunderStake",
          "Kcash",
          "Xchange",
          "Acute Angle Cloud",
          "CrypticCoin",
          "Bettex coin",
          "Actinium",
          "Bitcoin SV",
          "BitMoney",
          "Junson Ming Chan Coin",
          "FREDEnergy",
          "HerbCoin",
          "Universal Molecule",
          "Lithium",
          "PirateCash",
          "Exosis",
          "Block-Logic",
          "Oduwa",
          "Beam",
          "Galilel",
          "Bithereum",
          "Crypto Sports",
          "Credit",
          "SLICE",
          "Dash Platinum",
          "Nasdacoin",
          "Beetle Coin",
          "Titan Coin",
          "Award",
          "BLAST",
          "Bitcoin Rhodium",
          "GlobalToken",
          "Insane Coin",
          "ALAX",
          "LiteDoge",
          "SolarCoin",
          "TruckCoin",
          "UFO Coin",
          "OrangeCoin",
          "BlakeCoin",
          "BitstarCoin",
          "NeosCoin",
          "HyperCoin",
          "PinkCoin",
          "Crypto Escudo",
          "AudioCoin",
          "IncaKoin",
          "Piggy Coin",
          "Crown Coin",
          "Genstake",
          "SmileyCoin",
          "XiaoMiCoin",
          "Groestlcoin",
          "CapriCoin",
          " ClubCoin",
          "Radium",
          "Bata",
          "Pakcoin",
          "Creditbit ",
          "OKCash",
          "Lisk",
          "HiCoin",
          "WhiteCoin",
          "FriendshipCoin",
          "JoinCoin",
          "Triangles Coin",
          "Vollar",
          "EOS",
          "Reality Clash",
          "Oxycoin",
          "TigerCash",
          "Waves",
          "Particl",
          "BitTorrent",
          "Nxt",
          "ZEPHYR",
          "Gapcoin",
          "Beldex",
          "Horizen",
          "BitcoinPlus"
         ],
         "legendgroup": "",
         "marker": {
          "color": [
           1,
           1,
           1,
           0,
           0,
           0,
           1,
           0,
           0,
           0,
           1,
           0,
           1,
           1,
           0,
           1,
           0,
           0,
           1,
           1,
           0,
           0,
           0,
           0,
           0,
           1,
           0,
           0,
           0,
           1,
           0,
           1,
           0,
           0,
           1,
           1,
           0,
           0,
           0,
           0,
           0,
           0,
           1,
           1,
           0,
           0,
           0,
           0,
           0,
           1,
           1,
           0,
           1,
           0,
           0,
           0,
           0,
           1,
           0,
           0,
           1,
           0,
           1,
           1,
           1,
           0,
           0,
           0,
           1,
           1,
           1,
           1,
           1,
           0,
           0,
           0,
           1,
           1,
           0,
           1,
           0,
           1,
           1,
           0,
           0,
           0,
           0,
           1,
           1,
           0,
           1,
           0,
           0,
           1,
           1,
           0,
           1,
           1,
           0,
           0,
           1,
           1,
           0,
           1,
           1,
           0,
           1,
           0,
           1,
           0,
           1,
           0,
           1,
           1,
           0,
           0,
           1,
           0,
           0,
           0,
           1,
           0,
           0,
           0,
           0,
           0,
           1,
           1,
           0,
           0,
           0,
           1,
           0,
           1,
           0,
           0,
           1,
           0,
           1,
           0,
           1,
           1,
           0,
           0,
           1,
           0,
           0,
           1,
           1,
           0,
           1,
           0,
           1,
           1,
           1,
           0,
           0,
           0,
           0,
           1,
           1,
           1,
           1,
           1,
           0,
           0,
           1,
           1,
           1,
           1,
           1,
           0,
           1,
           1,
           1,
           1,
           1,
           0,
           1,
           0,
           1,
           1,
           0,
           1,
           0,
           1,
           1,
           0,
           1,
           0,
           1,
           0,
           1,
           0,
           1,
           1,
           1,
           1,
           0,
           1,
           1,
           1,
           1,
           1,
           0,
           0,
           1,
           1,
           0,
           0,
           1,
           1,
           1,
           1,
           1,
           0,
           1,
           1,
           1,
           1,
           1,
           1,
           1,
           1,
           0,
           1,
           1,
           1,
           1,
           1,
           1,
           0,
           0,
           0,
           1,
           1,
           1,
           1,
           0,
           1,
           0,
           1,
           1,
           0,
           1,
           0,
           0,
           1,
           0,
           0,
           1,
           0,
           1,
           1,
           1,
           0,
           1,
           1,
           0,
           1,
           1,
           1,
           1,
           1,
           1,
           1,
           0,
           1,
           0,
           1,
           1,
           1,
           1,
           0,
           1,
           0,
           1,
           0,
           0,
           0,
           0,
           1,
           0,
           1,
           1,
           0,
           1,
           0,
           0,
           0,
           1,
           0,
           1,
           0,
           0,
           0,
           1,
           0,
           1,
           0,
           1,
           1,
           1,
           0,
           1,
           0,
           0,
           0,
           0,
           0,
           1,
           1,
           0,
           1,
           1,
           1,
           0,
           1,
           0,
           1,
           0,
           1,
           0,
           1,
           1,
           1,
           1,
           0,
           1,
           1,
           0,
           1,
           1,
           1,
           0,
           0,
           0,
           0,
           1,
           1,
           1,
           1,
           0,
           1,
           0,
           0,
           0,
           1,
           1,
           0,
           0,
           1,
           1,
           0,
           1,
           0,
           0,
           0,
           1,
           0,
           0,
           1,
           1,
           1,
           0,
           0,
           0,
           1,
           1,
           1,
           0,
           0,
           1,
           0,
           0,
           0,
           0,
           1,
           1,
           0,
           0,
           0,
           0,
           1,
           1,
           1,
           1,
           1,
           1,
           0,
           0,
           0,
           0,
           1,
           1,
           1,
           0,
           1,
           0,
           1,
           1,
           1,
           1,
           0,
           1,
           1,
           0,
           1,
           1,
           0,
           0,
           1,
           0,
           1,
           0,
           0,
           0,
           0,
           1,
           1,
           0,
           1,
           0,
           1,
           1,
           1,
           1,
           1,
           1,
           0,
           0,
           0,
           1,
           1,
           1,
           1,
           1,
           1,
           0,
           1,
           0,
           0,
           0,
           0,
           1,
           1,
           1,
           1,
           0,
           1,
           1,
           0,
           1,
           1,
           0,
           1,
           0,
           1,
           0,
           0,
           1,
           1,
           0,
           1,
           0,
           0,
           1,
           0,
           0,
           1,
           0,
           1,
           0,
           1,
           1,
           0,
           1,
           1,
           1,
           1,
           1,
           0,
           0,
           0,
           1,
           1,
           1,
           0,
           1,
           0,
           1,
           0,
           1,
           1,
           1,
           1,
           0,
           1,
           1,
           1,
           0,
           1,
           0,
           1,
           0,
           1,
           1,
           1,
           0,
           0,
           1,
           1,
           1,
           1,
           1,
           1,
           0,
           1,
           0,
           1,
           0,
           1,
           1,
           1,
           1,
           2,
           1,
           1,
           1,
           0,
           0,
           1
          ],
          "coloraxis": "coloraxis",
          "symbol": "circle"
         },
         "mode": "markers",
         "name": "",
         "scene": "scene",
         "showlegend": false,
         "type": "scatter3d",
         "x": [
          -0.33134901073793516,
          -0.31473912532425,
          2.3349348192522643,
          -0.13345707277857755,
          -0.15440746361088872,
          -0.18388384230335136,
          -0.3976087077743867,
          -0.17289593319532617,
          -0.15285639283063052,
          -0.11593354177373269,
          -0.3817592040821246,
          0.14294321545294655,
          -0.27975709709041063,
          -0.2590346887754927,
          -0.18502617095837687,
          -0.21355627924587212,
          -0.2514926408156208,
          -0.18464429920073172,
          -0.33100973317565546,
          -0.32360742543829063,
          -0.10953294589107065,
          2.524560101454666,
          -0.13055180932899535,
          -0.18190951331022004,
          -0.18444931985178845,
          -0.32984969546489806,
          -0.2232063244315698,
          -0.1765011258985445,
          -0.18449729634080897,
          -0.33134496439413497,
          -0.18500848505214962,
          -0.33132929485024293,
          -0.1850946055937921,
          -0.2515817154069434,
          0.6203181136845152,
          -0.3237307654397213,
          0.16668486140246364,
          0.24309707808188913,
          0.06278903113527427,
          -0.1848416887510327,
          -0.18046247934916188,
          -0.18478128763392307,
          -0.37968131264065047,
          -0.3023927734386615,
          -0.18515142970163956,
          -0.1838716051602944,
          -0.16444810045565406,
          -0.18395055271725638,
          -0.18422727693503965,
          -0.32941462806367106,
          -0.3567649984149051,
          1.5578588753487375,
          -0.39750369200878727,
          -0.13341854693417593,
          -0.18152648528219564,
          -0.18486804589171513,
          -0.1852216594336574,
          -0.3449609257607073,
          -0.18448343697079886,
          -0.10389684765121504,
          -0.05125884764528058,
          -0.1851033582536925,
          -0.2431943634341847,
          -0.31037869919125044,
          -0.237935055673607,
          -0.05056630016051017,
          -0.133495947078731,
          -0.17878862812751678,
          -0.23855556215181103,
          -0.3348234999563171,
          -0.32567221001390834,
          -0.32975637572517696,
          0.025812542396613358,
          -0.18508299592011437,
          -0.18318542307999294,
          -0.18457151616538223,
          -0.37659719246127005,
          -0.3978739669475932,
          -0.12069393342063359,
          -0.2679769344031709,
          -0.1329615011638674,
          -0.2695257095744646,
          -0.39778597578325287,
          -0.13324786346712492,
          -0.1332313799801991,
          -0.13381946614040507,
          -0.2517549084220004,
          -0.3066692441855062,
          -0.3300313005161708,
          -0.1848002794645142,
          -0.25704939693659606,
          -0.18057271007648604,
          -0.18191441149791743,
          -0.3977504916905948,
          -0.2684421192179461,
          -0.13302858780823387,
          -0.2383370251635749,
          -0.3224892128194817,
          3.815438525673704,
          0.42585597904353056,
          -0.062215024684407795,
          -0.3662340469425707,
          -0.18367199266131728,
          -0.2789715547676409,
          -0.3231538552646592,
          -0.16833276341666992,
          -0.3103588064831827,
          -0.18239506627816943,
          -0.23863089553036052,
          -0.18522387908298124,
          -0.3050338396365625,
          -0.18226038993724294,
          -0.3313311283384526,
          -0.23858318632702144,
          -0.16853210587359135,
          -0.13953486674560195,
          -0.37704107463937164,
          -0.14342179205053976,
          -0.13011474028203412,
          -0.18509731027906354,
          -0.33106649159608637,
          -0.05850745634515663,
          -0.1345759767675355,
          -0.1852327218596728,
          -0.1335236493160249,
          0.46398048658513036,
          -0.39785554637203435,
          -0.2908116700858418,
          -0.2511441772102268,
          -0.13841763047103153,
          -0.13326463528167173,
          -0.34608965038398254,
          -0.25142815050155803,
          -0.30269786909626134,
          -0.1833642684401746,
          -0.18255920765387446,
          -0.3087659919753067,
          -0.15547224489578668,
          -0.23810664224504144,
          0.3708782424489515,
          -0.2723466536186532,
          -0.2159869201141115,
          -0.2514633874202192,
          -0.1334196662437206,
          -0.014821544064230934,
          -0.1812042145975937,
          -0.20075651063172392,
          -0.27972809062834264,
          -0.07654450083091782,
          -0.18380103387986524,
          -0.27979146421534223,
          0.2836537840395991,
          -0.18953363059484366,
          -0.33094299189420967,
          -0.3086369382976737,
          -0.2506272532406367,
          -0.15604196790623368,
          -0.18404886783076624,
          -0.21608070235769133,
          -0.3950373882854924,
          0.8383647095260427,
          -0.279592450160322,
          -0.10796897181665817,
          -0.37936570793861946,
          -0.18502345063888384,
          -0.25142684556773404,
          -0.3957054008628624,
          -0.27834176144313516,
          -0.27602022897677686,
          -0.31056134748647873,
          -0.3965959715162636,
          -0.18523278015724937,
          -0.35979685263624217,
          -0.3073292638911838,
          -0.330981015078236,
          -0.3294249991194537,
          -0.21660893682251814,
          -0.2515764102792308,
          -0.364574219557513,
          -0.07788078090141227,
          -0.3973315292118007,
          -0.3301880010501896,
          0.27130870584670913,
          -0.27977260220434974,
          -0.1336789024396402,
          -0.3978448057867217,
          -0.33116936207805453,
          -0.12356360871643182,
          -0.3313253772166597,
          -0.18240971879043186,
          -0.3086237266154725,
          -0.13363765574786302,
          -0.23708017267406903,
          -0.1848974681917758,
          0.07675868125149689,
          -0.37832632934856236,
          -0.33094058992668196,
          -0.38406414563896596,
          -0.1300018588345198,
          -0.3776563721220165,
          -0.2180331074674843,
          -0.4235549353565802,
          -0.37740932760426704,
          -0.23674727117926142,
          -0.15521521939862482,
          -0.1159551002719297,
          3.8012632702107183,
          -0.39743880810152166,
          -0.11228524375939154,
          -0.2382021528469429,
          0.8904746532853531,
          -0.3977998498581421,
          -0.3787885042106512,
          -0.3308688346964438,
          -0.3310227826152931,
          -0.24941304247907187,
          -0.37936570793861946,
          -0.3973766347830156,
          -0.27963563818963755,
          -0.3308694978561164,
          -0.5150374559318371,
          -0.33101642139678367,
          -0.3266244721034277,
          -0.397828779013604,
          0.2713029441698525,
          -0.3302307642837798,
          0.33071777862153656,
          -0.33121496082820273,
          -0.3312852153536166,
          -0.35332299369645664,
          -0.27537206367109246,
          -0.18521459434188506,
          0.2714332548230791,
          -0.13895589679304576,
          -0.3275286416547502,
          -0.2797490804432757,
          -0.39773903248583653,
          -0.33106384773797076,
          0.46045093626145533,
          -0.3311904781207495,
          -0.17166635275200381,
          -0.3102662741241862,
          -0.3646016451100435,
          -0.18518297565110425,
          -0.21780175021645704,
          -0.24434263691374739,
          -0.11596739032866239,
          -0.31210888728040037,
          -0.1833225360767105,
          -0.1386751806137437,
          -0.31000785070603804,
          -0.21871868358699503,
          -0.39700794376444226,
          -0.40670526638375026,
          -0.3957498944447528,
          -0.15623660391006755,
          -0.37761821178765215,
          -0.39690610841951784,
          -0.16564495354304173,
          -0.3720371433044836,
          -0.39286330505849965,
          -0.3311339106531439,
          -0.3311331971241016,
          -0.3242861366955872,
          0.27121467977586244,
          -0.39738251221315407,
          -0.18474695030031987,
          -0.2929807019889151,
          -0.10012715290600385,
          -0.37940003592044735,
          -0.3303478282051457,
          0.9141358482790747,
          -0.2577310773308914,
          -0.18456996453004976,
          -0.35857939524761556,
          -0.1715234490151485,
          0.6419565750204452,
          -0.16807621805291625,
          -0.028344885197361742,
          -0.10662273704684706,
          0.307301756395269,
          -0.3120917734946553,
          -0.25063582905571036,
          -0.3105995039462041,
          -0.3287572357301785,
          -0.18488768559571161,
          -0.23826939739359584,
          -0.18465242118940212,
          -0.2510289274928917,
          -0.2516042887746598,
          0.13168762622663685,
          0.27169643901696056,
          -0.23833983438905573,
          -0.10669244937508933,
          3.212667863893073,
          -0.09256972610189045,
          -0.415152673439691,
          -0.2425149935164583,
          -0.32826347609951034,
          -0.13345623925959962,
          -0.3976537619814183,
          -0.31033979348425067,
          4.422893869884301,
          -0.111142505776917,
          -0.37926707946269567,
          1.5570543943039021,
          -0.18498527737617887,
          -0.18443922592404544,
          -0.18414121611550932,
          -0.18412818243890042,
          -0.3307704501787407,
          -0.33126820302409954,
          0.2718791043837004,
          -0.4396196363549293,
          0.6478101233777311,
          -0.39759497487712475,
          0.09551489319337392,
          -0.32984148270103547,
          -0.20613759524860062,
          -0.3312240868637574,
          -0.18854368249312367,
          -0.30677254752160177,
          -0.11581390983365429,
          0.43546884969271915,
          -0.2781008843541238,
          -0.2969154899709219,
          -0.32565607593360646,
          -0.15480604370519682,
          -0.3311746287171056,
          -0.372430468269697,
          -0.18332075008202675,
          -0.43284242651004357,
          -0.33104530342207417,
          -0.0861079235528789,
          -0.24716502880474064,
          -0.18838974384440998,
          -0.15358810276488863,
          -0.18848950835380388,
          -0.3963924250564047,
          3.806101206654977,
          0.2454868662293319,
          -0.2350222352142258,
          -0.13368852491540203,
          -0.32851501671121075,
          1.1058864119738534,
          0.271285869473543,
          -0.07880538320208755,
          -0.2911971739967997,
          -0.3532092735261295,
          -0.2469098669979967,
          -0.16067647414122077,
          0.08132863047311893,
          -0.3301879176188177,
          -0.10166350885352973,
          -0.3969707763264187,
          1.1327115710431337,
          -0.2515783693416402,
          -0.18854117083410452,
          -0.3523775717623411,
          -0.18160403873475392,
          -0.18423887106613404,
          -0.31779727495580923,
          -0.33129027140333883,
          -0.3770130936988775,
          -0.2515040198414583,
          -0.13343568176714396,
          -0.1896723590976051,
          -0.3600778891898143,
          -0.2811336497779415,
          -0.3845781374070052,
          7.975346752182909,
          -0.16036935447904038,
          -0.326850625689548,
          0.27514565873469554,
          0.007156601962775887,
          -0.1543098827561799,
          -0.16618290011771658,
          -0.20962997326506386,
          -0.09157184051553628,
          -0.35180428260388596,
          -0.1848107342846564,
          0.12119839640329567,
          -0.24566691470112365,
          -0.33581065850274516,
          -0.5039942471584058,
          -0.39767115738769765,
          -0.19851494424250657,
          -0.30950343509597456,
          -0.34356021064101083,
          -0.10683357958420531,
          0.2791748831094343,
          -0.18504685946368898,
          -0.08414391124964057,
          -0.311692341401394,
          -0.33131753850255896,
          -0.3312993250508095,
          -0.11480836157584119,
          -0.30390503404998737,
          -0.12779494733542499,
          -0.31490104822488113,
          -0.37886298358468,
          -0.3310169305201247,
          4.011387761486467,
          -0.2506764911248749,
          -0.371102142397645,
          -0.3790510341713151,
          0.2714678183766543,
          -0.30019817437457563,
          -0.27809718220901697,
          -0.1657039043648944,
          -0.13880176319537396,
          -0.10349029958478134,
          -0.17101357359272643,
          -0.3100349497771199,
          -0.13008586703251762,
          0.2753779352679071,
          0.5788021441429435,
          2.0726961620863844,
          -0.13509974403674355,
          -0.3102865470492815,
          -0.13849917698449124,
          -0.3017892117791061,
          0.28502333602426555,
          -0.3304930896364447,
          -0.19467426645788782,
          2.151110399072161,
          -0.3489369848075711,
          -0.25785718203605607,
          1.0502923968663531,
          -0.17486923529303727,
          -0.20056910805123637,
          -0.25156059324871155,
          -0.3201960295824282,
          -0.3533225074096672,
          -0.3741075255479871,
          -0.19155880913228476,
          -0.32736040069923444,
          -0.3520465518177622,
          -0.18507138895591077,
          -0.3242263919971624,
          -0.1605663111421642,
          -0.19002639858475825,
          -0.051177506674970424,
          3.092164566345437,
          -0.3765920911129744,
          -0.3971462540618162,
          -0.3075423168155394,
          -0.37815495033055735,
          -0.09341941715529306,
          -0.29862128222144707,
          -0.37645442132862844,
          -0.25153208771841484,
          -0.19141313221093906,
          -0.5863917292865419,
          -0.1742995072815005,
          -0.5144445759407517,
          -0.010942324356601882,
          -0.17784891983272486,
          -0.12948619313115223,
          -0.13345627672337323,
          0.8190434881404097,
          -0.16754061035842605,
          0.35090860908937344,
          -0.37340470750593313,
          -0.145710815846972,
          -0.14610075346302706,
          -0.24071190425786243,
          -0.15221976148666996,
          -0.18396794096734295,
          -0.3310207791745584,
          -0.11388236866472141,
          -0.3738591324215134,
          -0.11564730808507781,
          -0.3534390667353747,
          0.5720585094495454,
          -0.1293291330887862,
          -0.3770672434482905,
          -0.33050591639764365,
          -0.1929913365505791,
          -0.25669525248128416,
          -0.39472226943160743,
          -0.13273493034125383,
          -0.09260676913805328,
          -0.13160726828124278,
          -0.39737261421454406,
          3.8183030336832897,
          0.10227362611174515,
          0.5077027575314325,
          -0.3949186252816613,
          -0.11396039627668413,
          -0.32989456060511674,
          -0.09678980764431944,
          -0.3307154469703327,
          -0.25906733699444845,
          -0.3312316713514344,
          -0.38902935171306646,
          -0.1686822844366517,
          -0.24530418924279052,
          -0.06002147095003658,
          -0.3847957025516195,
          -0.13324723562196802,
          -0.3305121593331732,
          0.5280263508986219,
          -0.32360037274591064,
          -0.17606358374592743,
          -0.3939528871592052,
          -0.3289574655759472,
          -0.3796404438350719,
          -0.1851477997653475,
          -0.1831113166656506,
          -0.5169189471261859,
          -0.27827728276162655,
          3.8016535677289975,
          -0.11822342959339008,
          -0.3261617068479898,
          -0.33445109830927705,
          -0.14415472449349023,
          -0.23873765535070288,
          -0.11794166138143368,
          3.8114965514354364,
          -0.15524826613869533,
          3.812737275604552,
          -0.24002891755596453,
          -0.3728712584402868,
          -0.3795764815388183,
          34.014982231167544,
          -0.4333892855731905,
          2.528330993699542,
          -0.3294029057229749,
          0.29296628822607584,
          -0.1159345958611742,
          -0.3106813841671212
         ],
         "y": [
          0.9835230013361229,
          0.9839078444437608,
          1.49646278707242,
          -1.3700322943985161,
          -2.0555319973351667,
          -1.0611398157608967,
          1.182747294987335,
          -2.1553380252959964,
          -2.055600292453714,
          -2.0922658693569858,
          1.8000331970244883,
          -1.7589153486530749,
          0.6746265183758727,
          0.6697919576745172,
          -1.0611491110197164,
          1.698831442319543,
          -0.8619189605274364,
          -1.0611602677403227,
          0.9835270251821343,
          0.9838635792916424,
          -1.7576697279678795,
          -1.191590039806475,
          -1.37000122195476,
          -1.0611608836783057,
          -1.0611750954141388,
          0.9835889611984872,
          -0.4708334367452132,
          -1.4124269344222469,
          -1.0611435060971273,
          0.9835228542996404,
          -1.0611483329582376,
          0.9835232185788417,
          -1.0611470114934685,
          -0.8619215789098288,
          0.2529798909760857,
          0.6322433967323849,
          -1.7549809510196375,
          -1.367105964311176,
          -1.0590102953723977,
          -1.0611409950375832,
          -1.0611295965204162,
          -1.0611454894610826,
          1.9616706844991836,
          0.37198798621761825,
          -1.0611482733634658,
          -1.637163495610999,
          -1.0611537721942532,
          -1.0611336484492246,
          -1.061147282507907,
          0.9835300830519526,
          1.1788060637284734,
          -1.0433639240663048,
          1.1827519149780137,
          -1.370030599519263,
          -1.0611540588679824,
          -1.0611415044236652,
          -1.0611449357237581,
          1.562564864869609,
          -1.061138887542466,
          -2.5047412177713473,
          0.9900927091298412,
          -1.0611453550756853,
          0.6746764903234402,
          0.9786826508499878,
          1.5875249054571297,
          -1.0649723986039055,
          -1.3700340046074784,
          -1.0610801488173773,
          1.5874976073259839,
          0.4075073160424068,
          0.9834996788938172,
          0.9835293517792388,
          0.999235718732615,
          -1.0611516109376258,
          -1.0612170151667737,
          -1.0611487438327036,
          1.1779335799543211,
          1.1827499280459186,
          -1.3700344832005933,
          0.2819383856064823,
          -1.3700274042892804,
          1.5088729700339207,
          1.1827472982016163,
          -1.370036743774275,
          -1.3700607243744316,
          -1.370034746633409,
          -0.8619174955131212,
          0.9835685032139209,
          0.983515956625553,
          -1.0611404736095136,
          0.24072798518774263,
          -1.3587270181478475,
          -1.061171125024556,
          1.1827517849466378,
          0.2819829357551559,
          -1.3700290475681867,
          1.5875072214905004,
          0.9832626214970703,
          -2.152117032346673,
          -2.1878056763842118,
          0.06290984703121485,
          1.776553400290275,
          -1.0611442269979876,
          0.6746311700028224,
          0.6322716245823308,
          -1.0614933144503018,
          0.9786940454498989,
          -1.0611278829771882,
          1.5874864913416675,
          -1.0611458642672962,
          0.9786032325118543,
          -1.061117806251233,
          0.9835237880692984,
          1.5874898905305603,
          -1.0610599810523622,
          -2.1145320301068895,
          1.1779010490767103,
          -1.7578603070065328,
          -1.8010782048721352,
          -1.0611407793690093,
          0.983522427281107,
          -1.0620709979946594,
          -2.0749493375710926,
          -1.061144947446354,
          -1.3700352233204705,
          -1.0923974626836697,
          1.1827507390780816,
          1.3957675538594414,
          -0.8619120824331739,
          -2.286382779310181,
          -1.3700451274054084,
          1.6042642006693855,
          -0.8619167735370032,
          0.7440820477384725,
          -1.061199033135203,
          -1.0611894658801373,
          0.9786991034589603,
          -2.055589832305806,
          1.5874848492134457,
          -2.1937860576532238,
          0.6743166799529693,
          1.6989349657868964,
          -0.8619150729672155,
          -1.3700306487613894,
          0.5148749481970187,
          -1.061103849189912,
          -2.0976211379265295,
          0.6746277944660244,
          1.1796247474281245,
          -1.0611361727446096,
          0.6746324831965786,
          -1.3657289177344893,
          1.3321121756708756,
          0.983513557104628,
          0.9786260783867077,
          -0.8619224989738558,
          -2.209832139992112,
          -1.0612019169174212,
          -1.9847113684389472,
          1.1826250609291125,
          0.9648651754393759,
          0.6746220590086369,
          0.2455500111279314,
          1.9616715659600192,
          -1.061148341192205,
          -0.8619193167353073,
          1.1827965697118263,
          0.6745582819768113,
          0.6744638892698928,
          1.3267292526812284,
          1.1827157808583781,
          -1.061144948041097,
          1.7017626916304638,
          0.98327940609965,
          0.983510367318739,
          0.9835426298282074,
          1.5825806972042842,
          -0.8619258965813723,
          1.1780353606326526,
          -1.7407537412169083,
          1.1827412847419672,
          0.9835155643677073,
          -2.188109706685324,
          0.6746264864063206,
          -1.3700347301102447,
          1.1827492611369415,
          0.9835172515168886,
          -1.7577668618745959,
          0.9835240410801575,
          -1.0611503817876744,
          0.9787703773488249,
          -1.3700335021624732,
          0.36170677247287897,
          -1.0611493003245451,
          1.6976290307550268,
          1.9616821834701457,
          0.983540969145011,
          1.1823822408895879,
          -2.3421761599957067,
          1.9617337623260716,
          1.5826464481028562,
          1.896037915752009,
          1.9615749409804064,
          1.6919598624614218,
          -2.0555845707571985,
          -2.0922668177865855,
          1.4121253419209772,
          1.1827495682222646,
          -1.064436860632908,
          -0.8616463408269107,
          1.6366147497537529,
          1.1827506841050233,
          1.9616774545101183,
          0.9835190690496524,
          0.9835100468470487,
          -0.8619627036683408,
          1.9616715659600192,
          1.182732798882146,
          0.6746331620577453,
          0.9835226417152853,
          1.0967539259643033,
          0.9835194288213754,
          0.9833078218624045,
          1.1827486659043416,
          -2.1881171118288387,
          0.9834785748818414,
          0.9857574962671267,
          0.9835204466904491,
          0.9835236521675371,
          1.5689364362670122,
          0.24357587507782935,
          -1.06114551189983,
          -2.1881139796391005,
          -2.2863701880481475,
          0.9833659961961198,
          0.6746275212063447,
          1.182749783390422,
          0.9835225435931654,
          -0.8956003725187354,
          0.9835157157443654,
          -2.1554042100455972,
          0.9786623579127249,
          0.7191541510441859,
          -1.0611445407011342,
          1.5826488083765295,
          -0.8622415568512662,
          -2.0922647578601516,
          0.9837192863311328,
          -1.0611255244711335,
          -2.2863649900844303,
          0.9786871027584657,
          -2.0301074390366143,
          1.1827230127522486,
          1.8160872133033812,
          1.1827718569838368,
          -1.0624695162687459,
          1.9616897418790362,
          1.1827274928257026,
          -0.7179639381868339,
          1.961746916111508,
          1.1826452884439667,
          0.9835186732314389,
          0.9835139013801144,
          0.9831835688757808,
          0.6443661322993967,
          1.1827455433478469,
          -1.0611462676421888,
          0.978158262384165,
          -1.3701777270219195,
          1.9616635542419842,
          0.9834987807678686,
          1.6901562500665814,
          0.6697273496714471,
          -1.0611621987257487,
          1.7017730165198013,
          -2.1553459111046984,
          1.5736425801773513,
          -2.1853510274798458,
          -2.2115704378726786,
          -2.409345891123413,
          -2.1878200552232157,
          1.3267139363152207,
          -0.8619332786789348,
          1.3267080695025113,
          1.4440611448385618,
          -1.0611418982494825,
          1.5874906921097325,
          -1.0611677767217575,
          -0.8619245663120646,
          -0.861923157123392,
          0.9713859304510325,
          -2.188121255694678,
          1.5874948112152552,
          -2.494642442359167,
          -1.041689998511075,
          -1.4265267953427891,
          1.86058395328734,
          -0.8622261679431003,
          1.4440828669569055,
          -1.370032257729255,
          1.1827534350723896,
          0.9786835654254449,
          2.75441298317554,
          -1.0647116636436207,
          1.9616488586662355,
          -0.9844955750812099,
          -1.0611466618241916,
          -1.0611642489222655,
          -1.0611615409122996,
          -1.0611609675177816,
          0.9835170830368483,
          0.9835238257248964,
          -2.1881359027099614,
          1.7997692255713553,
          1.7879278194416863,
          1.1827446483845672,
          -2.096603085491525,
          0.4074688818563539,
          -0.8610809121076435,
          0.9835182681249793,
          -1.637168138872866,
          0.681103343157535,
          -2.0922606063524816,
          1.0010040622640355,
          0.6746486688191837,
          1.3266079107144744,
          1.5136123337833662,
          -2.2098598861334473,
          0.983517019820027,
          1.573727941625004,
          -1.0611254458993236,
          1.9997803978433872,
          0.9835267478299592,
          0.6715563396290296,
          -0.8619431246187054,
          -1.6371730693327968,
          -2.0556779934089757,
          -1.637168876301384,
          1.1827214847816778,
          1.412094371863597,
          1.3317456154240677,
          1.5875165182084112,
          -1.7578612085088934,
          0.9835111462793696,
          -2.206650264511128,
          -2.188112336712028,
          -2.0587075285456597,
          1.3218692562668461,
          1.5689381884349027,
          -0.8620619295401701,
          -2.1554502654699377,
          0.9691704717592263,
          0.9834765589382843,
          -1.0607188170817425,
          1.1827571554539131,
          -1.5442369579329935,
          -0.8619226019783509,
          -1.6371641274666981,
          1.5689097625783883,
          -1.6371703627410943,
          -1.0611424316164828,
          0.9835340505199494,
          0.9835229848942761,
          1.1779016298991134,
          -0.8619214115833901,
          -1.3700308111107184,
          -1.2142748172546618,
          1.7017558541926108,
          -0.015764852916664372,
          0.7046614010334201,
          -2.4993287688288772,
          -2.1973586291367893,
          0.9835700650056772,
          -2.188152855886694,
          -1.0591822190080884,
          -2.2098014504572014,
          -1.3587545169309634,
          1.5824976338826564,
          2.5011446727779183,
          2.6574992505367003,
          -1.0611519861299008,
          -1.0596309554226202,
          -0.8619747403766763,
          0.830394139653536,
          4.6497537397315005,
          1.1827425971674235,
          1.157777050468231,
          0.9786510572584242,
          1.8331076189024738,
          -2.0576650507313023,
          -2.188407297692241,
          -1.0611500211754532,
          -2.511403556743168,
          1.3267055025868184,
          0.9835224354761102,
          0.9835219364427317,
          -2.092248226392181,
          0.9786528924010303,
          -2.342260202917224,
          1.453635848960788,
          1.9616494721530178,
          0.9835181061200287,
          1.367713569955457,
          -0.8619350675377714,
          1.5737863790710804,
          1.9616464003993972,
          -2.1881081680731413,
          0.6499849713584188,
          0.9825356802226706,
          -0.7179488136952079,
          -2.286373991671418,
          0.7191278624988946,
          -2.1727388053618952,
          0.9786913890336846,
          -2.3421727691408996,
          -2.188314277650271,
          -2.2578716367415117,
          -2.2284821224244986,
          0.985525108361038,
          0.9786686177080399,
          -2.3278888926071386,
          1.693913475713496,
          -2.1881500049156495,
          0.98350604342227,
          1.6940787795271273,
          0.711234036090808,
          1.5687165449899012,
          0.6697867013447718,
          1.554721696172788,
          -1.389829790273215,
          -1.8881240808666186,
          -0.8619226001312582,
          0.6548331730258082,
          1.5689325567503918,
          1.5737808437331822,
          0.9729458899534892,
          0.685931470502553,
          1.5689373282732648,
          -1.0611518188974807,
          0.983186197242559,
          -2.1559333698767453,
          -2.0805105551015237,
          -0.8869342959689976,
          -2.2671364702456436,
          1.177898046037971,
          1.1827494356082675,
          0.9786489127080128,
          1.9616013023733505,
          -1.3696225708872682,
          0.6185168029934479,
          1.177874845761987,
          -0.8619239466854082,
          0.9779765132837628,
          1.9859623179493298,
          -1.3898553886679903,
          5.6249584582803,
          -2.092574458101907,
          1.1529403343283353,
          -2.3421941736509826,
          -1.3700322593774101,
          0.49877832342809947,
          1.1871306700664015,
          -2.189854567742335,
          1.5737800037634755,
          -2.1578014255616704,
          -2.1577666388088326,
          -0.052466594508813705,
          -2.2953081457503335,
          -1.0611669209990287,
          0.9835237881699748,
          -2.092332838143859,
          1.5737827440127081,
          -2.092259704390188,
          1.5689323895775467,
          0.9746355400415577,
          -1.8011086585811793,
          1.1779000928698005,
          0.983505479130644,
          1.1577339854974509,
          1.6927115648933235,
          1.1826155185892564,
          -1.3700284814871064,
          -0.4571786727444046,
          -1.3700464876785086,
          1.1827524803101659,
          1.4123060947373562,
          0.9798441863151313,
          -1.0944399006056256,
          1.1828799439452446,
          -1.6364700261282485,
          0.9834569570998448,
          -2.1601319464003854,
          0.9835155992218475,
          0.6697849950822974,
          0.9835281635109265,
          1.1828139567252935,
          -1.0610665879037873,
          0.9804818050212015,
          0.684184189456653,
          1.1826751331147776,
          -1.3700367161532911,
          0.9835500649480947,
          -1.0622735035087492,
          0.9836038288972621,
          -1.4124213386815432,
          1.1827871984115035,
          0.9835241890744383,
          1.961666631088063,
          -1.0611440594463708,
          -1.0611695446674805,
          1.132330049711737,
          0.674637657711808,
          1.4121198101431214,
          0.9806394546656871,
          0.9835561625096764,
          0.4074870318740623,
          -1.757894371552167,
          1.5874895184260303,
          -2.2148172223343385,
          1.4126568067475824,
          -2.055584907895287,
          1.412711390305169,
          0.6699860596083851,
          2.6447329644808053,
          1.9616696828653988,
          1.8584960418059238,
          2.8296647675020807,
          0.5275740679938185,
          0.9834460790401394,
          -2.18806077358766,
          -2.092265915729776,
          0.9786792040395923
         ],
         "z": [
          -0.3992372462279137,
          -0.39953630420808367,
          -0.5081114217506167,
          0.14269603545538664,
          0.3107857712987723,
          0.02008054335725557,
          -0.41038886692843024,
          0.24076179138510465,
          0.31076597979338605,
          0.29794603357756433,
          -0.3194932582852344,
          0.2576307761924533,
          -0.2766403128117805,
          -0.049437427990002725,
          0.0200997705266305,
          -0.5200000837449869,
          0.008951041694852049,
          0.020094456323863696,
          -0.39924305538136706,
          -0.3993892142594519,
          0.26162277796880623,
          -0.013605179201056793,
          0.14264655529143255,
          0.02005021053587484,
          0.020092455631010517,
          -0.39926667792635673,
          0.04440191097434306,
          0.07452486532243703,
          0.020090767170058605,
          -0.39923730028834536,
          0.020099423350669225,
          -0.39923758251112834,
          0.020100715060093376,
          0.008952688750045998,
          -0.41026368041559585,
          -0.3447973254616663,
          0.2569391701972462,
          0.1363687929527733,
          0.01591910838489483,
          0.020096149123981475,
          0.02002433177515108,
          0.02009552162412812,
          -0.07691030679185014,
          -0.2116648843607318,
          0.02010173389723577,
          0.16985482649072126,
          0.019766842347730462,
          0.020081142478378312,
          0.020086688555057068,
          -0.3992691291071831,
          -0.18358159938647864,
          -0.009516918106298834,
          -0.41039092839753855,
          0.14269527918953182,
          0.020043474167484907,
          0.020096615773469002,
          0.020102610871562263,
          -0.6477835519440156,
          0.020090182224308594,
          0.28686154676974845,
          -0.1771252921567247,
          0.0201007275407018,
          -0.2772364000654891,
          -0.17203792467576046,
          -0.4735473226644418,
          0.018220399335934705,
          0.1426967985614677,
          0.019993361966840224,
          -0.4735351420653687,
          -0.24940711442249666,
          -0.3993273700363159,
          -0.3992635369284756,
          -0.4062483602730404,
          0.020100886005840746,
          0.02007525676166816,
          0.02009237806810812,
          -0.18319229159855602,
          -0.41038477617501773,
          0.14248948856164764,
          0.07003850290812384,
          0.14268762728007936,
          -0.18899549023910261,
          -0.4103859960643737,
          0.14269299427304813,
          0.14269459895753842,
          0.14270209634059045,
          0.008955175159991117,
          -0.399640522548708,
          -0.3992580386424127,
          0.020095437743092328,
          -0.05818620133142149,
          0.13355181084214796,
          0.020051089194675954,
          -0.41038692096657275,
          0.07004256016856679,
          0.14268884210255847,
          -0.4735394319664895,
          -0.3993604212743835,
          0.23650714288258026,
          0.2941918528714889,
          -0.7056955262204571,
          -0.02492827755693091,
          0.020077456434212305,
          -0.27665339887395674,
          -0.3448088725182845,
          0.019856261040249006,
          -0.17203913620291358,
          0.02005549910968426,
          -0.47353305434102316,
          0.020102719293804666,
          -0.1721182939897979,
          0.020052531352122867,
          -0.3992375972631878,
          -0.4735340923642626,
          0.019825668502058406,
          0.25824545451545977,
          -0.1831825632786652,
          0.26218653192418045,
          0.18466573899090552,
          0.020100272456172495,
          -0.3992417772346836,
          0.018122566953486373,
          0.2575986407181286,
          0.020102790958682358,
          0.14269734235892628,
          0.012027056025585443,
          -0.41038513782334907,
          -0.766384773150072,
          0.008944860989138156,
          0.2650465122635123,
          0.14269392025005745,
          -0.40979871737233564,
          0.00894982648767407,
          -0.3639677597455619,
          0.02007674994690157,
          0.02006296409542364,
          -0.17206532893764614,
          0.310807530944512,
          -0.4735414172242422,
          0.3263550709349698,
          -0.2767361532546395,
          -0.519968795847068,
          0.008950264473612178,
          0.14269530116168067,
          -0.35570012810884727,
          0.020034335713410758,
          0.2599638370753794,
          -0.27664088221129096,
          -0.41534526049926607,
          0.020078917820306564,
          -0.27664022173338154,
          0.13560444079804293,
          -0.41854549583189454,
          -0.39924308518592816,
          -0.1720617196266758,
          0.008937301647876084,
          0.3254908396022244,
          0.020088063112229926,
          0.3462470480855263,
          -0.41042097298212943,
          -0.18956506763931366,
          -0.27664263146129386,
          -0.3978881111356533,
          -0.07691548726906801,
          0.02009966638290803,
          0.008950003846108607,
          -0.41042353960678246,
          -0.2766579104709595,
          -0.27668814384408913,
          -0.41616514372585006,
          -0.4104028100326979,
          0.020102791949315964,
          -0.07403576679757151,
          -0.39960726886082554,
          -0.39924222038561935,
          -0.3992699403944337,
          -0.24634565795137706,
          0.00895293981511178,
          -0.18339496511320139,
          0.37137395914657195,
          -0.410392887148195,
          -0.3992554700325723,
          0.29671870144048823,
          -0.27664005918857315,
          0.14269981841605558,
          -0.4103851964312195,
          -0.399239707134087,
          0.261857606285747,
          -0.3992377101582361,
          0.02005749243525856,
          -0.17207319597983947,
          0.14269905452556342,
          -0.14432670294059097,
          0.020097700771930942,
          -0.5865130341366912,
          -0.07693315021164007,
          -0.3992452635680269,
          -0.4105797488825472,
          0.3468538736308152,
          -0.07694802682105877,
          -0.24632772320597665,
          -0.560113200113573,
          -0.07693963224247695,
          -0.580992874094093,
          0.31080295738238545,
          0.2979464567728608,
          0.156420822761111,
          -0.41039179612577814,
          0.01917822985234005,
          0.008714505125804621,
          -0.495654976675614,
          -0.4103860356193467,
          -0.07692529552314324,
          -0.399244716471382,
          -0.3992415188867559,
          0.00892077365786328,
          -0.07691548726906801,
          -0.4103914942856826,
          -0.27664279854834406,
          -0.39924498457304813,
          -0.2768930760852865,
          -0.3992423541684771,
          -0.39929697253356017,
          -0.4103854095510432,
          0.2967193727223478,
          -0.39925189043190357,
          -0.18297360438085916,
          -0.39923921797525047,
          -0.39923833028421557,
          -0.14765379163402392,
          -0.234687127952647,
          0.020102541411947675,
          0.29671701768667974,
          0.26505424754087814,
          -0.3992868686248485,
          -0.27664052092290015,
          -0.41038695034597367,
          -0.399241829133861,
          4.886924568306164e-05,
          -0.3992392452635549,
          0.24074704217448423,
          -0.17203816172353403,
          -0.14297241013930548,
          0.02010195350000167,
          -0.24633165459205442,
          0.008860415191837256,
          0.29794649505339643,
          -0.39956418801668586,
          0.020070336762169176,
          0.26504929523619947,
          -0.17204427857632104,
          0.31090556132395836,
          -0.41039670198013617,
          -0.6213141347723761,
          -0.410420890167643,
          0.019736537474882444,
          -0.07694520913748702,
          -0.4103987010172963,
          0.003196297632077579,
          -0.07704006509642877,
          -0.4104577641775046,
          -0.3992403922850257,
          -0.3992400314040799,
          -0.3993251474939014,
          -0.05604113591893565,
          -0.4103923937832162,
          0.02009502621689444,
          -0.17227878278521477,
          0.14216755945932188,
          -0.07691430597162371,
          -0.39925157145684304,
          -0.5375876197690673,
          -0.04945349930435332,
          0.020093403076271707,
          -0.07405629114827435,
          0.24074017747291807,
          -0.5034054544750376,
          0.18616950888191627,
          0.3342091246958285,
          0.4113095471950304,
          0.29611313432396813,
          -0.4161391608110615,
          0.008938281889533599,
          -0.4161628724030065,
          -0.53379053023484,
          0.02009696460488734,
          -0.4735392371977766,
          0.020095173938860948,
          0.008943968703853156,
          0.008953177536565595,
          -0.4057895178120408,
          0.2967133229212561,
          -0.4735384178590374,
          0.23438705937403864,
          -0.036449620327416006,
          0.04034034242933458,
          -0.06538371224193977,
          0.008829612744469511,
          -0.5338002227816724,
          0.1426960190933365,
          -0.4103886164362729,
          -0.17203862619222282,
          1.6502384081866819,
          0.019181169601607546,
          -0.07691531242305652,
          -0.014098496349730302,
          0.02009891703826031,
          0.02009144558866203,
          0.020086407526411415,
          0.02008615167414424,
          -0.3992461549466311,
          -0.39923861936975397,
          0.2967115075711779,
          -0.3185355212032494,
          -0.15490360026576688,
          -0.410388882788455,
          0.29485983141962957,
          -0.24948480574096077,
          0.008151041601261162,
          -0.39923890013117574,
          0.16993086002442687,
          -0.058572051634621806,
          0.2979436851916091,
          -0.41302136112132726,
          -0.27666886641878013,
          -0.4163766877628579,
          -0.4156174613284228,
          0.3254729875553023,
          -0.39923960374947953,
          -0.37487947225122226,
          0.020070301702929873,
          -0.08004040447385638,
          -0.39924245762212773,
          -0.05237593813336383,
          0.008882835662634567,
          0.16992875157945875,
          0.3107838953785917,
          0.16993004015039007,
          -0.4104065519503653,
          0.15634488247552428,
          -0.4255626800401147,
          -0.47359384544091315,
          0.2620289577745636,
          -0.3992822216364152,
          0.28464856320752707,
          0.2967192765795909,
          0.309809131540205,
          -0.18893827507400238,
          -0.14765577025339022,
          0.008887975533232822,
          0.24057263957481767,
          -0.404800966107021,
          -0.39925242705425806,
          0.018716006215348663,
          -0.41039996876041945,
          0.04854783201112344,
          0.008952714404959563,
          0.169930506258722,
          -0.14766702227515555,
          0.16981863590444848,
          0.02008649773240013,
          -0.39945759880507314,
          -0.3992381963141659,
          -0.1831830618034918,
          0.008951417296976785,
          0.14269557322771081,
          0.057057153634638674,
          -0.07403068134486276,
          0.11867536781658367,
          -0.12444439136640217,
          0.1962308219503544,
          0.36034294914738696,
          -0.3993137774255812,
          0.2966599241174457,
          0.016833575466910163,
          0.32546039066397375,
          0.13332089305192787,
          -0.24645220948524904,
          9.376565856239035,
          29.1197676275192,
          0.02009650561339303,
          0.015021525016728087,
          0.008861039085588863,
          -0.36228260574232307,
          6.047709673462496,
          -0.4103874888059885,
          -0.46681510389556347,
          -0.1720496350151256,
          -0.09300434870011215,
          0.3101817250009861,
          0.29661452382473347,
          0.020100176643886993,
          0.34051376098146374,
          -0.4161449719556306,
          -0.3992377118021086,
          -0.39923796784663423,
          0.29792643262355517,
          -0.172140452546984,
          0.34682468892302376,
          0.00045579483235796975,
          -0.07692190522935033,
          -0.3992422426871368,
          0.15871067834376956,
          0.008939080089680381,
          -0.37490554740991017,
          -0.07691861972789929,
          0.29671600429318423,
          -0.11221977744575418,
          -0.4000226782570278,
          0.0031960719774934056,
          0.2650520479901008,
          -0.4203970933757349,
          0.34294717261152324,
          -0.17204417420611964,
          0.34685496961419193,
          0.29666876084483207,
          0.25883985720276975,
          0.2706936156788264,
          -0.40257205259970985,
          -0.17203832194376967,
          0.2501473160087795,
          -0.5800919019465991,
          0.2964997181576592,
          -0.3992497855772526,
          -0.2927737830623663,
          -0.2246870641684379,
          -0.14770766720390796,
          -0.049456089184943985,
          0.03932381198608416,
          0.07991697296814225,
          0.20529095061144143,
          0.008952426350946866,
          -0.33943546212780973,
          -0.14765349671827036,
          -0.3748564388030228,
          -0.17351463905557227,
          -0.2857766136576596,
          -0.14767453509905173,
          0.020100714245093923,
          -0.3993263202878105,
          0.24060856107578305,
          0.2538300932809213,
          -0.047491457861941755,
          0.2188553829531143,
          -0.18318960084041788,
          -0.4103965241163808,
          -0.1720812308170425,
          -0.07692961326770006,
          0.1420155885508447,
          -0.3780582743808369,
          -0.18319001984885047,
          0.008952069759178265,
          -0.40107081553505913,
          -0.6873219497492216,
          0.07990974331463957,
          2.104455823043852,
          0.2962696321054647,
          -0.23961113762435668,
          0.34684692761520985,
          0.14269601982875393,
          -0.3995103159698857,
          -0.18729609147762488,
          0.2955656489024988,
          -0.3748677564114618,
          0.31742187897338553,
          0.3174254795172741,
          0.10580157449553872,
          0.24994402087005738,
          0.020084020991388438,
          -0.3992426238301091,
          0.2979180386641236,
          -0.3748606102080214,
          0.2979409164352481,
          -0.14765159582169507,
          -0.41317559732284176,
          0.18465539180978746,
          -0.18318206480562665,
          -0.3992495337867541,
          -0.46690120563653775,
          -0.5807284568566452,
          -0.4104253320244828,
          0.1426840417079759,
          -0.05419174179044123,
          0.14266718293285882,
          -0.41039309551784997,
          0.15613073129260352,
          -0.4059732723121415,
          0.011478319805267033,
          -0.4104427898536953,
          0.16866838760409986,
          -0.3992556484992743,
          0.3168114261377025,
          -0.39924692999403544,
          -0.049436355781858975,
          -0.39923954961296404,
          -0.4105330250332839,
          0.019828616521023988,
          -0.4003935061531675,
          -0.2809452183796489,
          -0.4105907601539244,
          0.14269298194839014,
          -0.39925291254584844,
          0.008638598579838818,
          -0.3993690552639196,
          0.07451734194548267,
          -0.4104511927125303,
          -0.3992760735046903,
          -0.07691065235783967,
          0.020101346213644605,
          0.020070351481068224,
          -0.3142194035634338,
          -0.27666514998385683,
          0.15641493307040244,
          -0.1753028869066239,
          -0.399323850400731,
          -0.24941156285599503,
          0.26220106153733574,
          -0.4735315614699426,
          0.22394223703278693,
          0.1562135995620188,
          0.3108035189359679,
          0.15618924403279388,
          -0.049760403715734806,
          6.715362930240539,
          -0.07691192650863504,
          -0.509240206529747,
          0.004421409576524861,
          0.06704057683747966,
          -0.3992627625496338,
          0.29636410601405994,
          0.2979460542693972,
          -0.1720327532297933
         ]
        }
       ],
       "layout": {
        "coloraxis": {
         "colorbar": {
          "title": {
           "text": "Class"
          }
         },
         "colorscale": [
          [
           0,
           "#0d0887"
          ],
          [
           0.1111111111111111,
           "#46039f"
          ],
          [
           0.2222222222222222,
           "#7201a8"
          ],
          [
           0.3333333333333333,
           "#9c179e"
          ],
          [
           0.4444444444444444,
           "#bd3786"
          ],
          [
           0.5555555555555556,
           "#d8576b"
          ],
          [
           0.6666666666666666,
           "#ed7953"
          ],
          [
           0.7777777777777778,
           "#fb9f3a"
          ],
          [
           0.8888888888888888,
           "#fdca26"
          ],
          [
           1,
           "#f0f921"
          ]
         ]
        },
        "legend": {
         "tracegroupgap": 0,
         "x": 0,
         "y": 1
        },
        "margin": {
         "t": 60
        },
        "scene": {
         "domain": {
          "x": [
           0,
           1
          ],
          "y": [
           0,
           1
          ]
         },
         "xaxis": {
          "title": {
           "text": "PC 1"
          }
         },
         "yaxis": {
          "title": {
           "text": "PC 2"
          }
         },
         "zaxis": {
          "title": {
           "text": "PC 3"
          }
         }
        },
        "template": {
         "data": {
          "bar": [
           {
            "error_x": {
             "color": "#2a3f5f"
            },
            "error_y": {
             "color": "#2a3f5f"
            },
            "marker": {
             "line": {
              "color": "#E5ECF6",
              "width": 0.5
             },
             "pattern": {
              "fillmode": "overlay",
              "size": 10,
              "solidity": 0.2
             }
            },
            "type": "bar"
           }
          ],
          "barpolar": [
           {
            "marker": {
             "line": {
              "color": "#E5ECF6",
              "width": 0.5
             },
             "pattern": {
              "fillmode": "overlay",
              "size": 10,
              "solidity": 0.2
             }
            },
            "type": "barpolar"
           }
          ],
          "carpet": [
           {
            "aaxis": {
             "endlinecolor": "#2a3f5f",
             "gridcolor": "white",
             "linecolor": "white",
             "minorgridcolor": "white",
             "startlinecolor": "#2a3f5f"
            },
            "baxis": {
             "endlinecolor": "#2a3f5f",
             "gridcolor": "white",
             "linecolor": "white",
             "minorgridcolor": "white",
             "startlinecolor": "#2a3f5f"
            },
            "type": "carpet"
           }
          ],
          "choropleth": [
           {
            "colorbar": {
             "outlinewidth": 0,
             "ticks": ""
            },
            "type": "choropleth"
           }
          ],
          "contour": [
           {
            "colorbar": {
             "outlinewidth": 0,
             "ticks": ""
            },
            "colorscale": [
             [
              0,
              "#0d0887"
             ],
             [
              0.1111111111111111,
              "#46039f"
             ],
             [
              0.2222222222222222,
              "#7201a8"
             ],
             [
              0.3333333333333333,
              "#9c179e"
             ],
             [
              0.4444444444444444,
              "#bd3786"
             ],
             [
              0.5555555555555556,
              "#d8576b"
             ],
             [
              0.6666666666666666,
              "#ed7953"
             ],
             [
              0.7777777777777778,
              "#fb9f3a"
             ],
             [
              0.8888888888888888,
              "#fdca26"
             ],
             [
              1,
              "#f0f921"
             ]
            ],
            "type": "contour"
           }
          ],
          "contourcarpet": [
           {
            "colorbar": {
             "outlinewidth": 0,
             "ticks": ""
            },
            "type": "contourcarpet"
           }
          ],
          "heatmap": [
           {
            "colorbar": {
             "outlinewidth": 0,
             "ticks": ""
            },
            "colorscale": [
             [
              0,
              "#0d0887"
             ],
             [
              0.1111111111111111,
              "#46039f"
             ],
             [
              0.2222222222222222,
              "#7201a8"
             ],
             [
              0.3333333333333333,
              "#9c179e"
             ],
             [
              0.4444444444444444,
              "#bd3786"
             ],
             [
              0.5555555555555556,
              "#d8576b"
             ],
             [
              0.6666666666666666,
              "#ed7953"
             ],
             [
              0.7777777777777778,
              "#fb9f3a"
             ],
             [
              0.8888888888888888,
              "#fdca26"
             ],
             [
              1,
              "#f0f921"
             ]
            ],
            "type": "heatmap"
           }
          ],
          "heatmapgl": [
           {
            "colorbar": {
             "outlinewidth": 0,
             "ticks": ""
            },
            "colorscale": [
             [
              0,
              "#0d0887"
             ],
             [
              0.1111111111111111,
              "#46039f"
             ],
             [
              0.2222222222222222,
              "#7201a8"
             ],
             [
              0.3333333333333333,
              "#9c179e"
             ],
             [
              0.4444444444444444,
              "#bd3786"
             ],
             [
              0.5555555555555556,
              "#d8576b"
             ],
             [
              0.6666666666666666,
              "#ed7953"
             ],
             [
              0.7777777777777778,
              "#fb9f3a"
             ],
             [
              0.8888888888888888,
              "#fdca26"
             ],
             [
              1,
              "#f0f921"
             ]
            ],
            "type": "heatmapgl"
           }
          ],
          "histogram": [
           {
            "marker": {
             "pattern": {
              "fillmode": "overlay",
              "size": 10,
              "solidity": 0.2
             }
            },
            "type": "histogram"
           }
          ],
          "histogram2d": [
           {
            "colorbar": {
             "outlinewidth": 0,
             "ticks": ""
            },
            "colorscale": [
             [
              0,
              "#0d0887"
             ],
             [
              0.1111111111111111,
              "#46039f"
             ],
             [
              0.2222222222222222,
              "#7201a8"
             ],
             [
              0.3333333333333333,
              "#9c179e"
             ],
             [
              0.4444444444444444,
              "#bd3786"
             ],
             [
              0.5555555555555556,
              "#d8576b"
             ],
             [
              0.6666666666666666,
              "#ed7953"
             ],
             [
              0.7777777777777778,
              "#fb9f3a"
             ],
             [
              0.8888888888888888,
              "#fdca26"
             ],
             [
              1,
              "#f0f921"
             ]
            ],
            "type": "histogram2d"
           }
          ],
          "histogram2dcontour": [
           {
            "colorbar": {
             "outlinewidth": 0,
             "ticks": ""
            },
            "colorscale": [
             [
              0,
              "#0d0887"
             ],
             [
              0.1111111111111111,
              "#46039f"
             ],
             [
              0.2222222222222222,
              "#7201a8"
             ],
             [
              0.3333333333333333,
              "#9c179e"
             ],
             [
              0.4444444444444444,
              "#bd3786"
             ],
             [
              0.5555555555555556,
              "#d8576b"
             ],
             [
              0.6666666666666666,
              "#ed7953"
             ],
             [
              0.7777777777777778,
              "#fb9f3a"
             ],
             [
              0.8888888888888888,
              "#fdca26"
             ],
             [
              1,
              "#f0f921"
             ]
            ],
            "type": "histogram2dcontour"
           }
          ],
          "mesh3d": [
           {
            "colorbar": {
             "outlinewidth": 0,
             "ticks": ""
            },
            "type": "mesh3d"
           }
          ],
          "parcoords": [
           {
            "line": {
             "colorbar": {
              "outlinewidth": 0,
              "ticks": ""
             }
            },
            "type": "parcoords"
           }
          ],
          "pie": [
           {
            "automargin": true,
            "type": "pie"
           }
          ],
          "scatter": [
           {
            "marker": {
             "colorbar": {
              "outlinewidth": 0,
              "ticks": ""
             }
            },
            "type": "scatter"
           }
          ],
          "scatter3d": [
           {
            "line": {
             "colorbar": {
              "outlinewidth": 0,
              "ticks": ""
             }
            },
            "marker": {
             "colorbar": {
              "outlinewidth": 0,
              "ticks": ""
             }
            },
            "type": "scatter3d"
           }
          ],
          "scattercarpet": [
           {
            "marker": {
             "colorbar": {
              "outlinewidth": 0,
              "ticks": ""
             }
            },
            "type": "scattercarpet"
           }
          ],
          "scattergeo": [
           {
            "marker": {
             "colorbar": {
              "outlinewidth": 0,
              "ticks": ""
             }
            },
            "type": "scattergeo"
           }
          ],
          "scattergl": [
           {
            "marker": {
             "colorbar": {
              "outlinewidth": 0,
              "ticks": ""
             }
            },
            "type": "scattergl"
           }
          ],
          "scattermapbox": [
           {
            "marker": {
             "colorbar": {
              "outlinewidth": 0,
              "ticks": ""
             }
            },
            "type": "scattermapbox"
           }
          ],
          "scatterpolar": [
           {
            "marker": {
             "colorbar": {
              "outlinewidth": 0,
              "ticks": ""
             }
            },
            "type": "scatterpolar"
           }
          ],
          "scatterpolargl": [
           {
            "marker": {
             "colorbar": {
              "outlinewidth": 0,
              "ticks": ""
             }
            },
            "type": "scatterpolargl"
           }
          ],
          "scatterternary": [
           {
            "marker": {
             "colorbar": {
              "outlinewidth": 0,
              "ticks": ""
             }
            },
            "type": "scatterternary"
           }
          ],
          "surface": [
           {
            "colorbar": {
             "outlinewidth": 0,
             "ticks": ""
            },
            "colorscale": [
             [
              0,
              "#0d0887"
             ],
             [
              0.1111111111111111,
              "#46039f"
             ],
             [
              0.2222222222222222,
              "#7201a8"
             ],
             [
              0.3333333333333333,
              "#9c179e"
             ],
             [
              0.4444444444444444,
              "#bd3786"
             ],
             [
              0.5555555555555556,
              "#d8576b"
             ],
             [
              0.6666666666666666,
              "#ed7953"
             ],
             [
              0.7777777777777778,
              "#fb9f3a"
             ],
             [
              0.8888888888888888,
              "#fdca26"
             ],
             [
              1,
              "#f0f921"
             ]
            ],
            "type": "surface"
           }
          ],
          "table": [
           {
            "cells": {
             "fill": {
              "color": "#EBF0F8"
             },
             "line": {
              "color": "white"
             }
            },
            "header": {
             "fill": {
              "color": "#C8D4E3"
             },
             "line": {
              "color": "white"
             }
            },
            "type": "table"
           }
          ]
         },
         "layout": {
          "annotationdefaults": {
           "arrowcolor": "#2a3f5f",
           "arrowhead": 0,
           "arrowwidth": 1
          },
          "autotypenumbers": "strict",
          "coloraxis": {
           "colorbar": {
            "outlinewidth": 0,
            "ticks": ""
           }
          },
          "colorscale": {
           "diverging": [
            [
             0,
             "#8e0152"
            ],
            [
             0.1,
             "#c51b7d"
            ],
            [
             0.2,
             "#de77ae"
            ],
            [
             0.3,
             "#f1b6da"
            ],
            [
             0.4,
             "#fde0ef"
            ],
            [
             0.5,
             "#f7f7f7"
            ],
            [
             0.6,
             "#e6f5d0"
            ],
            [
             0.7,
             "#b8e186"
            ],
            [
             0.8,
             "#7fbc41"
            ],
            [
             0.9,
             "#4d9221"
            ],
            [
             1,
             "#276419"
            ]
           ],
           "sequential": [
            [
             0,
             "#0d0887"
            ],
            [
             0.1111111111111111,
             "#46039f"
            ],
            [
             0.2222222222222222,
             "#7201a8"
            ],
            [
             0.3333333333333333,
             "#9c179e"
            ],
            [
             0.4444444444444444,
             "#bd3786"
            ],
            [
             0.5555555555555556,
             "#d8576b"
            ],
            [
             0.6666666666666666,
             "#ed7953"
            ],
            [
             0.7777777777777778,
             "#fb9f3a"
            ],
            [
             0.8888888888888888,
             "#fdca26"
            ],
            [
             1,
             "#f0f921"
            ]
           ],
           "sequentialminus": [
            [
             0,
             "#0d0887"
            ],
            [
             0.1111111111111111,
             "#46039f"
            ],
            [
             0.2222222222222222,
             "#7201a8"
            ],
            [
             0.3333333333333333,
             "#9c179e"
            ],
            [
             0.4444444444444444,
             "#bd3786"
            ],
            [
             0.5555555555555556,
             "#d8576b"
            ],
            [
             0.6666666666666666,
             "#ed7953"
            ],
            [
             0.7777777777777778,
             "#fb9f3a"
            ],
            [
             0.8888888888888888,
             "#fdca26"
            ],
            [
             1,
             "#f0f921"
            ]
           ]
          },
          "colorway": [
           "#636efa",
           "#EF553B",
           "#00cc96",
           "#ab63fa",
           "#FFA15A",
           "#19d3f3",
           "#FF6692",
           "#B6E880",
           "#FF97FF",
           "#FECB52"
          ],
          "font": {
           "color": "#2a3f5f"
          },
          "geo": {
           "bgcolor": "white",
           "lakecolor": "white",
           "landcolor": "#E5ECF6",
           "showlakes": true,
           "showland": true,
           "subunitcolor": "white"
          },
          "hoverlabel": {
           "align": "left"
          },
          "hovermode": "closest",
          "mapbox": {
           "style": "light"
          },
          "paper_bgcolor": "white",
          "plot_bgcolor": "#E5ECF6",
          "polar": {
           "angularaxis": {
            "gridcolor": "white",
            "linecolor": "white",
            "ticks": ""
           },
           "bgcolor": "#E5ECF6",
           "radialaxis": {
            "gridcolor": "white",
            "linecolor": "white",
            "ticks": ""
           }
          },
          "scene": {
           "xaxis": {
            "backgroundcolor": "#E5ECF6",
            "gridcolor": "white",
            "gridwidth": 2,
            "linecolor": "white",
            "showbackground": true,
            "ticks": "",
            "zerolinecolor": "white"
           },
           "yaxis": {
            "backgroundcolor": "#E5ECF6",
            "gridcolor": "white",
            "gridwidth": 2,
            "linecolor": "white",
            "showbackground": true,
            "ticks": "",
            "zerolinecolor": "white"
           },
           "zaxis": {
            "backgroundcolor": "#E5ECF6",
            "gridcolor": "white",
            "gridwidth": 2,
            "linecolor": "white",
            "showbackground": true,
            "ticks": "",
            "zerolinecolor": "white"
           }
          },
          "shapedefaults": {
           "line": {
            "color": "#2a3f5f"
           }
          },
          "ternary": {
           "aaxis": {
            "gridcolor": "white",
            "linecolor": "white",
            "ticks": ""
           },
           "baxis": {
            "gridcolor": "white",
            "linecolor": "white",
            "ticks": ""
           },
           "bgcolor": "#E5ECF6",
           "caxis": {
            "gridcolor": "white",
            "linecolor": "white",
            "ticks": ""
           }
          },
          "title": {
           "x": 0.05
          },
          "xaxis": {
           "automargin": true,
           "gridcolor": "white",
           "linecolor": "white",
           "ticks": "",
           "title": {
            "standoff": 15
           },
           "zerolinecolor": "white",
           "zerolinewidth": 2
          },
          "yaxis": {
           "automargin": true,
           "gridcolor": "white",
           "linecolor": "white",
           "ticks": "",
           "title": {
            "standoff": 15
           },
           "zerolinecolor": "white",
           "zerolinewidth": 2
          }
         }
        },
        "width": 800
       }
      },
      "text/html": [
       "<div>                            <div id=\"72301fd0-3d07-4e79-9f9b-bd0479bf6aa4\" class=\"plotly-graph-div\" style=\"height:525px; width:800px;\"></div>            <script type=\"text/javascript\">                require([\"plotly\"], function(Plotly) {                    window.PLOTLYENV=window.PLOTLYENV || {};                                    if (document.getElementById(\"72301fd0-3d07-4e79-9f9b-bd0479bf6aa4\")) {                    Plotly.newPlot(                        \"72301fd0-3d07-4e79-9f9b-bd0479bf6aa4\",                        [{\"customdata\":[[\"Scrypt\"],[\"Scrypt\"],[\"X13\"],[\"SHA-256\"],[\"Ethash\"],[\"Scrypt\"],[\"X11\"],[\"CryptoNight-V7\"],[\"Ethash\"],[\"Equihash\"],[\"SHA-512\"],[\"Multiple\"],[\"SHA-256\"],[\"SHA-256\"],[\"Scrypt\"],[\"X15\"],[\"X11\"],[\"Scrypt\"],[\"Scrypt\"],[\"Scrypt\"],[\"Multiple\"],[\"Scrypt\"],[\"SHA-256\"],[\"Scrypt\"],[\"Scrypt\"],[\"Scrypt\"],[\"Quark\"],[\"Groestl\"],[\"Scrypt\"],[\"Scrypt\"],[\"Scrypt\"],[\"Scrypt\"],[\"Scrypt\"],[\"X11\"],[\"Scrypt\"],[\"Groestl\"],[\"Multiple\"],[\"SHA-256\"],[\"Scrypt\"],[\"Scrypt\"],[\"Scrypt\"],[\"Scrypt\"],[\"PoS\"],[\"Scrypt\"],[\"Scrypt\"],[\"NeoScrypt\"],[\"Scrypt\"],[\"Scrypt\"],[\"Scrypt\"],[\"Scrypt\"],[\"X11\"],[\"Scrypt\"],[\"X11\"],[\"SHA-256\"],[\"Scrypt\"],[\"Scrypt\"],[\"Scrypt\"],[\"SHA3\"],[\"Scrypt\"],[\"HybridScryptHash256\"],[\"Scrypt\"],[\"Scrypt\"],[\"SHA-256\"],[\"Scrypt\"],[\"X13\"],[\"Scrypt\"],[\"SHA-256\"],[\"Scrypt\"],[\"X13\"],[\"NeoScrypt\"],[\"Scrypt\"],[\"Scrypt\"],[\"Scrypt\"],[\"Scrypt\"],[\"Scrypt\"],[\"Scrypt\"],[\"X11\"],[\"X11\"],[\"SHA-256\"],[\"Multiple\"],[\"SHA-256\"],[\"PHI1612\"],[\"X11\"],[\"SHA-256\"],[\"SHA-256\"],[\"SHA-256\"],[\"X11\"],[\"Scrypt\"],[\"Scrypt\"],[\"Scrypt\"],[\"Scrypt\"],[\"Lyra2REv2\"],[\"Scrypt\"],[\"X11\"],[\"Multiple\"],[\"SHA-256\"],[\"X13\"],[\"Scrypt\"],[\"CryptoNight\"],[\"CryptoNight\"],[\"Shabal256\"],[\"Counterparty\"],[\"Scrypt\"],[\"SHA-256\"],[\"Groestl\"],[\"Scrypt\"],[\"Scrypt\"],[\"Scrypt\"],[\"X13\"],[\"Scrypt\"],[\"Scrypt\"],[\"Scrypt\"],[\"Scrypt\"],[\"X13\"],[\"Scrypt\"],[\"Stanford Folding\"],[\"X11\"],[\"Multiple\"],[\"QuBit\"],[\"Scrypt\"],[\"Scrypt\"],[\"Scrypt\"],[\"M7 POW\"],[\"Scrypt\"],[\"SHA-256\"],[\"Scrypt\"],[\"X11\"],[\"SHA3\"],[\"X11\"],[\"Lyra2RE\"],[\"SHA-256\"],[\"QUAIT\"],[\"X11\"],[\"X11\"],[\"Scrypt\"],[\"Scrypt\"],[\"Scrypt\"],[\"Ethash\"],[\"X13\"],[\"Blake2b\"],[\"SHA-256\"],[\"X15\"],[\"X11\"],[\"SHA-256\"],[\"BLAKE256\"],[\"Scrypt\"],[\"1GB AES Pattern Search\"],[\"SHA-256\"],[\"X11\"],[\"Scrypt\"],[\"SHA-256\"],[\"SHA-256\"],[\"NIST5\"],[\"Scrypt\"],[\"Scrypt\"],[\"X11\"],[\"Dagger\"],[\"Scrypt\"],[\"X11GOST\"],[\"X11\"],[\"Scrypt\"],[\"SHA-256\"],[\"Scrypt\"],[\"PoS\"],[\"Scrypt\"],[\"X11\"],[\"X11\"],[\"SHA-256\"],[\"SHA-256\"],[\"NIST5\"],[\"X11\"],[\"Scrypt\"],[\"POS 3.0\"],[\"Scrypt\"],[\"Scrypt\"],[\"Scrypt\"],[\"X13\"],[\"X11\"],[\"X11\"],[\"Equihash\"],[\"X11\"],[\"Scrypt\"],[\"CryptoNight\"],[\"SHA-256\"],[\"SHA-256\"],[\"X11\"],[\"Scrypt\"],[\"Multiple\"],[\"Scrypt\"],[\"Scrypt\"],[\"Scrypt\"],[\"SHA-256\"],[\"Scrypt\"],[\"Scrypt\"],[\"SHA-256D\"],[\"PoS\"],[\"Scrypt\"],[\"X11\"],[\"Lyra2Z\"],[\"PoS\"],[\"X13\"],[\"X14\"],[\"PoS\"],[\"SHA-256D\"],[\"Ethash\"],[\"Equihash\"],[\"DPoS\"],[\"X11\"],[\"Scrypt\"],[\"X11\"],[\"X13\"],[\"X11\"],[\"PoS\"],[\"Scrypt\"],[\"Scrypt\"],[\"X11\"],[\"PoS\"],[\"X11\"],[\"SHA-256\"],[\"Scrypt\"],[\"X11\"],[\"Scrypt\"],[\"Scrypt\"],[\"X11\"],[\"CryptoNight\"],[\"Scrypt\"],[\"Scrypt\"],[\"Scrypt\"],[\"Scrypt\"],[\"Quark\"],[\"QuBit\"],[\"Scrypt\"],[\"CryptoNight\"],[\"Lyra2RE\"],[\"Scrypt\"],[\"SHA-256\"],[\"X11\"],[\"Scrypt\"],[\"X11\"],[\"Scrypt\"],[\"CryptoNight-V7\"],[\"Scrypt\"],[\"Scrypt\"],[\"Scrypt\"],[\"X13\"],[\"X11\"],[\"Equihash\"],[\"Scrypt\"],[\"Scrypt\"],[\"Lyra2RE\"],[\"Scrypt\"],[\"Dagger-Hashimoto\"],[\"X11\"],[\"Blake2S\"],[\"X11\"],[\"Scrypt\"],[\"PoS\"],[\"X11\"],[\"NIST5\"],[\"PoS\"],[\"X11\"],[\"Scrypt\"],[\"Scrypt\"],[\"Scrypt\"],[\"SHA-256\"],[\"X11\"],[\"Scrypt\"],[\"Scrypt\"],[\"SHA-256\"],[\"PoS\"],[\"Scrypt\"],[\"X15\"],[\"SHA-256\"],[\"Scrypt\"],[\"POS 3.0\"],[\"CryptoNight-V7\"],[\"536\"],[\"Argon2d\"],[\"Blake2b\"],[\"Cloverhash\"],[\"CryptoNight\"],[\"NIST5\"],[\"X11\"],[\"NIST5\"],[\"Skein\"],[\"Scrypt\"],[\"X13\"],[\"Scrypt\"],[\"X11\"],[\"X11\"],[\"Scrypt\"],[\"CryptoNight\"],[\"X13\"],[\"Time Travel\"],[\"Scrypt\"],[\"Keccak\"],[\"SkunkHash v2 Raptor\"],[\"X11\"],[\"Skein\"],[\"SHA-256\"],[\"X11\"],[\"Scrypt\"],[\"VeChainThor Authority\"],[\"Scrypt\"],[\"PoS\"],[\"Scrypt\"],[\"Scrypt\"],[\"Scrypt\"],[\"Scrypt\"],[\"Scrypt\"],[\"Scrypt\"],[\"Scrypt\"],[\"CryptoNight\"],[\"SHA-512\"],[\"Ouroboros\"],[\"X11\"],[\"Equihash\"],[\"NeoScrypt\"],[\"X11\"],[\"Scrypt\"],[\"NeoScrypt\"],[\"Lyra2REv2\"],[\"Equihash\"],[\"Scrypt\"],[\"SHA-256\"],[\"NIST5\"],[\"PHI1612\"],[\"Dagger\"],[\"Scrypt\"],[\"Quark\"],[\"Scrypt\"],[\"POS 2.0\"],[\"Scrypt\"],[\"SHA-256\"],[\"X11\"],[\"NeoScrypt\"],[\"Ethash\"],[\"NeoScrypt\"],[\"X11\"],[\"DPoS\"],[\"NIST5\"],[\"X13\"],[\"Multiple\"],[\"Scrypt\"],[\"CryptoNight\"],[\"CryptoNight\"],[\"Ethash\"],[\"NIST5\"],[\"Quark\"],[\"X11\"],[\"CryptoNight-V7\"],[\"Scrypt\"],[\"Scrypt\"],[\"Scrypt\"],[\"X11\"],[\"BLAKE256\"],[\"X11\"],[\"NeoScrypt\"],[\"Quark\"],[\"NeoScrypt\"],[\"Scrypt\"],[\"Scrypt\"],[\"Scrypt\"],[\"X11\"],[\"X11\"],[\"SHA-256\"],[\"C11\"],[\"POS 3.0\"],[\"Ethash\"],[\"Scrypt\"],[\"CryptoNight\"],[\"SkunkHash\"],[\"Scrypt\"],[\"CryptoNight\"],[\"Scrypt\"],[\"Dagger\"],[\"Lyra2REv2\"],[\"X13\"],[\"Proof-of-BibleHash\"],[\"SHA-256 + Hive\"],[\"Scrypt\"],[\"Scrypt\"],[\"X11\"],[\"C11\"],[\"Proof-of-Authority\"],[\"X11\"],[\"XEVAN\"],[\"Scrypt\"],[\"VBFT\"],[\"Ethash\"],[\"CryptoNight\"],[\"Scrypt\"],[\"IMesh\"],[\"NIST5\"],[\"Scrypt\"],[\"Scrypt\"],[\"Equihash\"],[\"Scrypt\"],[\"Lyra2Z\"],[\"Green Protocol\"],[\"PoS\"],[\"Scrypt\"],[\"Semux BFT consensus\"],[\"X11\"],[\"Quark\"],[\"PoS\"],[\"CryptoNight\"],[\"X16R\"],[\"Scrypt\"],[\"NIST5\"],[\"Lyra2RE\"],[\"XEVAN\"],[\"Tribus\"],[\"Scrypt\"],[\"Lyra2Z\"],[\"CryptoNight\"],[\"CryptoNight Heavy\"],[\"CryptoNight\"],[\"Scrypt\"],[\"Scrypt\"],[\"Jump Consistent Hash\"],[\"SHA-256D\"],[\"CryptoNight\"],[\"Scrypt\"],[\"X15\"],[\"Scrypt\"],[\"Quark\"],[\"SHA-256\"],[\"DPoS\"],[\"X16R\"],[\"HMQ1725\"],[\"X11\"],[\"X16R\"],[\"Quark\"],[\"Quark\"],[\"Scrypt\"],[\"Lyra2REv2\"],[\"Quark\"],[\"Scrypt\"],[\"Scrypt\"],[\"CryptoNight-V7\"],[\"Cryptonight-GPU\"],[\"XEVAN\"],[\"CryptoNight Heavy\"],[\"X11\"],[\"X11\"],[\"Scrypt\"],[\"PoS\"],[\"SHA-256\"],[\"Keccak\"],[\"X11\"],[\"X11\"],[\"Scrypt\"],[\"SHA-512\"],[\"X16R\"],[\"ECC 256K1\"],[\"Equihash\"],[\"XEVAN\"],[\"Lyra2Z\"],[\"SHA-256\"],[\"XEVAN\"],[\"X11\"],[\"CryptoNight\"],[\"Quark\"],[\"Blake\"],[\"Blake\"],[\"Equihash\"],[\"Exosis\"],[\"Scrypt\"],[\"Scrypt\"],[\"Equihash\"],[\"Quark\"],[\"Equihash\"],[\"Quark\"],[\"Scrypt\"],[\"QuBit\"],[\"X11\"],[\"Scrypt\"],[\"XEVAN\"],[\"SHA-256D\"],[\"X11\"],[\"SHA-256\"],[\"X13\"],[\"SHA-256\"],[\"X11\"],[\"DPoS\"],[\"Scrypt\"],[\"Scrypt\"],[\"X11\"],[\"NeoScrypt\"],[\"Scrypt\"],[\"Blake\"],[\"Scrypt\"],[\"SHA-256\"],[\"Scrypt\"],[\"X11\"],[\"Scrypt\"],[\"Scrypt\"],[\"SHA-256\"],[\"X11\"],[\"SHA-256\"],[\"Scrypt\"],[\"Scrypt\"],[\"Scrypt\"],[\"Groestl\"],[\"X11\"],[\"Scrypt\"],[\"PoS\"],[\"Scrypt\"],[\"Scrypt\"],[\"X11\"],[\"SHA-256\"],[\"DPoS\"],[\"Scrypt\"],[\"Scrypt\"],[\"NeoScrypt\"],[\"Multiple\"],[\"X13\"],[\"Equihash+Scrypt\"],[\"DPoS\"],[\"Ethash\"],[\"DPoS\"],[\"SHA-256\"],[\"Leased POS\"],[\"PoS\"],[\"TRC10\"],[\"PoS\"],[\"SHA-256\"],[\"Scrypt\"],[\"CryptoNight\"],[\"Equihash\"],[\"Scrypt\"]],\"hovertemplate\":\"<b>%{hovertext}</b><br><br>PC 1=%{x}<br>PC 2=%{y}<br>PC 3=%{z}<br>Algorithm=%{customdata[0]}<br>Class=%{marker.color}<extra></extra>\",\"hovertext\":[\"42 Coin\",\"404Coin\",\"EliteCoin\",\"Bitcoin\",\"Ethereum\",\"Litecoin\",\"Dash\",\"Monero\",\"Ethereum Classic\",\"ZCash\",\"Bitshares\",\"DigiByte\",\"BitcoinDark\",\"PayCoin\",\"ProsperCoin\",\"KoboCoin\",\"Spreadcoin\",\"Argentum\",\"Aurora Coin\",\"BlueCoin\",\"MyriadCoin\",\"MoonCoin\",\"ZetaCoin\",\"SexCoin\",\"Quatloo\",\"EnergyCoin\",\"QuarkCoin\",\"Riecoin\",\"Digitalcoin \",\"BitBar\",\"Catcoin\",\"CryptoBullion\",\"CannaCoin\",\"CryptCoin\",\"CasinoCoin\",\"Diamond\",\"Verge\",\"DevCoin\",\"EarthCoin\",\"E-Gulden\",\"Einsteinium\",\"Emerald\",\"Exclusive Coin\",\"FlutterCoin\",\"Franko\",\"FeatherCoin\",\"GrandCoin\",\"GlobalCoin\",\"GoldCoin\",\"HoboNickels\",\"HyperStake\",\"Infinite Coin\",\"IOCoin\",\"IXcoin\",\"KrugerCoin\",\"LuckyCoin\",\"Litebar \",\"MaxCoin\",\"MegaCoin\",\"MediterraneanCoin\",\"MintCoin\",\"MinCoin\",\"MazaCoin\",\"Nautilus Coin\",\"NavCoin\",\"NobleCoin\",\"Namecoin\",\"NyanCoin\",\"OpalCoin\",\"Orbitcoin\",\"PotCoin\",\"PhoenixCoin\",\"Reddcoin\",\"RonPaulCoin\",\"StableCoin\",\"SmartCoin\",\"SuperCoin\",\"SyncCoin\",\"SysCoin\",\"TeslaCoin\",\"TigerCoin\",\"TittieCoin\",\"TorCoin\",\"TerraCoin\",\"UnbreakableCoin\",\"Unobtanium\",\"UroCoin\",\"UnitaryStatus Dollar\",\"UltraCoin\",\"ViaCoin\",\"VeriCoin\",\"Vertcoin\",\"WorldCoin\",\"X11 Coin\",\"Crypti\",\"JouleCoin\",\"StealthCoin\",\"ZCC Coin\",\"ByteCoin\",\"DigitalNote \",\"BurstCoin\",\"StorjCoin\",\"MonaCoin\",\"Neutron\",\"FairCoin\",\"Gulden\",\"RubyCoin\",\"PesetaCoin\",\"Kore\",\"Wild Beast Coin\",\"Dnotes\",\"Flo\",\"8BIT Coin\",\"Sativa Coin\",\"ArtByte\",\"Folding Coin\",\"Ucoin\",\"Unitus\",\"CypherPunkCoin\",\"OmniCron\",\"Vtorrent\",\"GreenCoin\",\"Cryptonite\",\"MasterCoin\",\"SoonCoin\",\"1Credit\",\"IslaCoin\",\"Nexus\",\"MarsCoin \",\"Crypto\",\"Anarchists Prime\",\"Droidz\",\"BowsCoin\",\"Squall Coin\",\"Song Coin\",\"BitZeny\",\"Diggits\",\"Expanse\",\"Paycon\",\"Siacoin\",\"Emercoin\",\"EverGreenCoin\",\"MindCoin\",\"I0coin\",\"Decred\",\"Revolution VR\",\"HOdlcoin\",\"EDRCoin\",\"Hitcoin\",\"Gamecredits\",\"DubaiCoin\",\"CarpeDiemCoin\",\"PWR Coin\",\"BillaryCoin\",\"GPU Coin\",\"Adzcoin\",\"SoilCoin\",\"YoCoin\",\"SibCoin\",\"EuropeCoin\",\"ZeitCoin\",\"SwingCoin\",\"SafeExchangeCoin\",\"Nebuchadnezzar\",\"Francs\",\"BolivarCoin\",\"Ratecoin\",\"Revenu\",\"Clockcoin\",\"VIP Tokens\",\"BitSend\",\"Omni\",\"Let it Ride\",\"PutinCoin\",\"iBankCoin\",\"Frankywillcoin\",\"MudraCoin\",\"PizzaCoin\",\"Lutetium Coin\",\"Komodo\",\"GoldBlocks\",\"CarterCoin\",\"Karbo\",\"BitTokens\",\"ZayedCoin\",\"MustangCoin\",\"ZoneCoin\",\"Circuits of Value\",\"RootCoin\",\"DopeCoin\",\"BitCurrency\",\"DollarCoin\",\"Swiscoin\",\"Shilling\",\"BuzzCoin\",\"Opair\",\"PesoBit\",\"Halloween Coin\",\"ZCoin\",\"CoffeeCoin\",\"RoyalCoin\",\"GanjaCoin V2\",\"TeamUP\",\"LanaCoin\",\"Elementrem\",\"ZClassic\",\"ARK\",\"InsaneCoin\",\"KiloCoin\",\"ArtexCoin\",\"EmberCoin\",\"XenixCoin\",\"FreeCoin\",\"PLNCoin\",\"AquariusCoin\",\"Kurrent\",\"Creatio\",\"Eternity\",\"Eurocoin\",\"BitcoinFast\",\"Stakenet\",\"BitConnect Coin\",\"MoneyCoin\",\"Enigma\",\"Cannabis Industry Coin\",\"Russiacoin\",\"PandaCoin\",\"GameUnits\",\"GAKHcoin\",\"Allsafe\",\"LiteCreed\",\"OsmiumCoin\",\"Bikercoins\",\"HexxCoin\",\"Klingon Empire Darsek\",\"Internet of People\",\"KushCoin\",\"Printerium\",\"PacCoin\",\"Impeach\",\"Citadel\",\"Zilbercoin\",\"FirstCoin\",\"BeaverCoin\",\"FindCoin\",\"VaultCoin\",\"Zero\",\"OpenChat\",\"Canada eCoin\",\"Zoin\",\"RenosCoin\",\"DubaiCoin\",\"VirtacoinPlus\",\"TajCoin\",\"Impact\",\"EB3coin\",\"Atmos\",\"HappyCoin\",\"Coinonat\",\"MacronCoin\",\"Condensate\",\"Independent Money System\",\"ArgusCoin\",\"LomoCoin\",\"ProCurrency\",\"GoldReserve\",\"BenjiRolls\",\"GrowthCoin\",\"ILCoin\",\"Phreak\",\"Degas Coin\",\"HTML5 Coin\",\"Ultimate Secure Cash\",\"EquiTrader\",\"QTUM\",\"Quantum Resistant Ledger\",\"Espers\",\"Dynamic\",\"Nano\",\"ChanCoin\",\"Dinastycoin\",\"Denarius\",\"DigitalPrice\",\"Virta Unique Coin\",\"Bitcoin Planet\",\"Unify\",\"BritCoin\",\"SocialCoin\",\"ArcticCoin\",\"DAS\",\"Linda\",\"LeviarCoin\",\"DeepOnion\",\"Bitcore\",\"gCn Coin\",\"SmartCash\",\"Signatum\",\"Onix\",\"Cream\",\"Bitcoin Cash\",\"Monoeci\",\"Draftcoin\",\"Vechain\",\"Sojourn Coin\",\"Stakecoin\",\"NewYorkCoin\",\"FrazCoin\",\"Kronecoin\",\"AdCoin\",\"Linx\",\"CoinonatX\",\"Ethereum Dark\",\"Sumokoin\",\"Obsidian\",\"Cardano\",\"Regalcoin\",\"BitcoinZ\",\"TrezarCoin\",\"Elements\",\"TerraNovaCoin\",\"VIVO Coin\",\"Rupee\",\"Bitcoin Gold\",\"WomenCoin\",\"Theresa May Coin\",\"NamoCoin\",\"LUXCoin\",\"Pirl\",\"Xios\",\"Bitcloud 2.0\",\"eBoost\",\"KekCoin\",\"BlackholeCoin\",\"Infinity Economics\",\"Pura\",\"Innova\",\"Ellaism\",\"GoByte\",\"Magnet\",\"Lamden Tau\",\"Electra\",\"Bitcoin Diamond\",\"SHIELD\",\"Cash & Back Coin\",\"UltraNote\",\"BitCoal\",\"DaxxCoin\",\"Bulwark\",\"Kalkulus\",\"AC3\",\"Lethean\",\"GermanCoin\",\"LiteCoin Ultra\",\"PopularCoin\",\"PhantomX\",\"Photon\",\"Sucre\",\"SparksPay\",\"Digiwage\",\"GunCoin\",\"IrishCoin\",\"Trollcoin\",\"Litecoin Plus\",\"Monkey Project\",\"Pioneer Coin\",\"UnitedBitcoin\",\"Interzone\",\"TokenPay\",\"1717 Masonic Commemorative Token\",\"My Big Coin\",\"TurtleCoin\",\"MUNcoin\",\"Unified Society USDEX\",\"Niobio Cash\",\"ShareChain\",\"Travelflex\",\"KREDS\",\"Tokyo Coin\",\"BiblePay\",\"LitecoinCash\",\"BitFlip\",\"LottoCoin\",\"Crypto Improvement Fund\",\"Stipend\",\"Poa Network\",\"Pushi\",\"Ellerium\",\"Velox\",\"Ontology\",\"Callisto Network\",\"BitTube\",\"Poseidon\",\"Aidos Kuneen\",\"Bitspace\",\"Briacoin\",\"Ignition\",\"Bitrolium\",\"MedicCoin\",\"Alpenschillling\",\"Bitcoin Green\",\"Deviant Coin\",\"Abjcoin\",\"Semux\",\"FuturoCoin\",\"Carebit\",\"Zealium\",\"Monero Classic\",\"Proton\",\"iDealCash\",\"Jumpcoin\",\"Infinex\",\"Bitcoin Incognito\",\"KEYCO\",\"HollyWoodCoin\",\"GINcoin\",\"PlatinCoin\",\"Loki\",\"Newton Coin\",\"Swisscoin\",\"Xt3ch\",\"MassGrid\",\"TheVig\",\"PluraCoin\",\"EmaratCoin\",\"Dekado\",\"Lynx\",\"Poseidon Quark\",\"BitcoinWSpectrum\",\"Muse\",\"Motion\",\"PlusOneCoin\",\"Axe\",\"Trivechain\",\"Dystem\",\"Giant\",\"Peony Coin\",\"Absolute Coin\",\"Vitae\",\"HexCoin\",\"TPCash\",\"Webchain\",\"Ryo\",\"Urals Coin\",\"Qwertycoin\",\"ARENON\",\"EUNO\",\"MMOCoin\",\"Ketan\",\"Project Pai\",\"XDNA\",\"PAXEX\",\"Azart\",\"ThunderStake\",\"Kcash\",\"Xchange\",\"Acute Angle Cloud\",\"CrypticCoin\",\"Bettex coin\",\"Actinium\",\"Bitcoin SV\",\"BitMoney\",\"Junson Ming Chan Coin\",\"FREDEnergy\",\"HerbCoin\",\"Universal Molecule\",\"Lithium\",\"PirateCash\",\"Exosis\",\"Block-Logic\",\"Oduwa\",\"Beam\",\"Galilel\",\"Bithereum\",\"Crypto Sports\",\"Credit\",\"SLICE\",\"Dash Platinum\",\"Nasdacoin\",\"Beetle Coin\",\"Titan Coin\",\"Award\",\"BLAST\",\"Bitcoin Rhodium\",\"GlobalToken\",\"Insane Coin\",\"ALAX\",\"LiteDoge\",\"SolarCoin\",\"TruckCoin\",\"UFO Coin\",\"OrangeCoin\",\"BlakeCoin\",\"BitstarCoin\",\"NeosCoin\",\"HyperCoin\",\"PinkCoin\",\"Crypto Escudo\",\"AudioCoin\",\"IncaKoin\",\"Piggy Coin\",\"Crown Coin\",\"Genstake\",\"SmileyCoin\",\"XiaoMiCoin\",\"Groestlcoin\",\"CapriCoin\",\" ClubCoin\",\"Radium\",\"Bata\",\"Pakcoin\",\"Creditbit \",\"OKCash\",\"Lisk\",\"HiCoin\",\"WhiteCoin\",\"FriendshipCoin\",\"JoinCoin\",\"Triangles Coin\",\"Vollar\",\"EOS\",\"Reality Clash\",\"Oxycoin\",\"TigerCash\",\"Waves\",\"Particl\",\"BitTorrent\",\"Nxt\",\"ZEPHYR\",\"Gapcoin\",\"Beldex\",\"Horizen\",\"BitcoinPlus\"],\"legendgroup\":\"\",\"marker\":{\"color\":[1,1,1,0,0,0,1,0,0,0,1,0,1,1,0,1,0,0,1,1,0,0,0,0,0,1,0,0,0,1,0,1,0,0,1,1,0,0,0,0,0,0,1,1,0,0,0,0,0,1,1,0,1,0,0,0,0,1,0,0,1,0,1,1,1,0,0,0,1,1,1,1,1,0,0,0,1,1,0,1,0,1,1,0,0,0,0,1,1,0,1,0,0,1,1,0,1,1,0,0,1,1,0,1,1,0,1,0,1,0,1,0,1,1,0,0,1,0,0,0,1,0,0,0,0,0,1,1,0,0,0,1,0,1,0,0,1,0,1,0,1,1,0,0,1,0,0,1,1,0,1,0,1,1,1,0,0,0,0,1,1,1,1,1,0,0,1,1,1,1,1,0,1,1,1,1,1,0,1,0,1,1,0,1,0,1,1,0,1,0,1,0,1,0,1,1,1,1,0,1,1,1,1,1,0,0,1,1,0,0,1,1,1,1,1,0,1,1,1,1,1,1,1,1,0,1,1,1,1,1,1,0,0,0,1,1,1,1,0,1,0,1,1,0,1,0,0,1,0,0,1,0,1,1,1,0,1,1,0,1,1,1,1,1,1,1,0,1,0,1,1,1,1,0,1,0,1,0,0,0,0,1,0,1,1,0,1,0,0,0,1,0,1,0,0,0,1,0,1,0,1,1,1,0,1,0,0,0,0,0,1,1,0,1,1,1,0,1,0,1,0,1,0,1,1,1,1,0,1,1,0,1,1,1,0,0,0,0,1,1,1,1,0,1,0,0,0,1,1,0,0,1,1,0,1,0,0,0,1,0,0,1,1,1,0,0,0,1,1,1,0,0,1,0,0,0,0,1,1,0,0,0,0,1,1,1,1,1,1,0,0,0,0,1,1,1,0,1,0,1,1,1,1,0,1,1,0,1,1,0,0,1,0,1,0,0,0,0,1,1,0,1,0,1,1,1,1,1,1,0,0,0,1,1,1,1,1,1,0,1,0,0,0,0,1,1,1,1,0,1,1,0,1,1,0,1,0,1,0,0,1,1,0,1,0,0,1,0,0,1,0,1,0,1,1,0,1,1,1,1,1,0,0,0,1,1,1,0,1,0,1,0,1,1,1,1,0,1,1,1,0,1,0,1,0,1,1,1,0,0,1,1,1,1,1,1,0,1,0,1,0,1,1,1,1,2,1,1,1,0,0,1],\"coloraxis\":\"coloraxis\",\"symbol\":\"circle\"},\"mode\":\"markers\",\"name\":\"\",\"scene\":\"scene\",\"showlegend\":false,\"x\":[-0.33134901073793516,-0.31473912532425,2.3349348192522643,-0.13345707277857755,-0.15440746361088872,-0.18388384230335136,-0.3976087077743867,-0.17289593319532617,-0.15285639283063052,-0.11593354177373269,-0.3817592040821246,0.14294321545294655,-0.27975709709041063,-0.2590346887754927,-0.18502617095837687,-0.21355627924587212,-0.2514926408156208,-0.18464429920073172,-0.33100973317565546,-0.32360742543829063,-0.10953294589107065,2.524560101454666,-0.13055180932899535,-0.18190951331022004,-0.18444931985178845,-0.32984969546489806,-0.2232063244315698,-0.1765011258985445,-0.18449729634080897,-0.33134496439413497,-0.18500848505214962,-0.33132929485024293,-0.1850946055937921,-0.2515817154069434,0.6203181136845152,-0.3237307654397213,0.16668486140246364,0.24309707808188913,0.06278903113527427,-0.1848416887510327,-0.18046247934916188,-0.18478128763392307,-0.37968131264065047,-0.3023927734386615,-0.18515142970163956,-0.1838716051602944,-0.16444810045565406,-0.18395055271725638,-0.18422727693503965,-0.32941462806367106,-0.3567649984149051,1.5578588753487375,-0.39750369200878727,-0.13341854693417593,-0.18152648528219564,-0.18486804589171513,-0.1852216594336574,-0.3449609257607073,-0.18448343697079886,-0.10389684765121504,-0.05125884764528058,-0.1851033582536925,-0.2431943634341847,-0.31037869919125044,-0.237935055673607,-0.05056630016051017,-0.133495947078731,-0.17878862812751678,-0.23855556215181103,-0.3348234999563171,-0.32567221001390834,-0.32975637572517696,0.025812542396613358,-0.18508299592011437,-0.18318542307999294,-0.18457151616538223,-0.37659719246127005,-0.3978739669475932,-0.12069393342063359,-0.2679769344031709,-0.1329615011638674,-0.2695257095744646,-0.39778597578325287,-0.13324786346712492,-0.1332313799801991,-0.13381946614040507,-0.2517549084220004,-0.3066692441855062,-0.3300313005161708,-0.1848002794645142,-0.25704939693659606,-0.18057271007648604,-0.18191441149791743,-0.3977504916905948,-0.2684421192179461,-0.13302858780823387,-0.2383370251635749,-0.3224892128194817,3.815438525673704,0.42585597904353056,-0.062215024684407795,-0.3662340469425707,-0.18367199266131728,-0.2789715547676409,-0.3231538552646592,-0.16833276341666992,-0.3103588064831827,-0.18239506627816943,-0.23863089553036052,-0.18522387908298124,-0.3050338396365625,-0.18226038993724294,-0.3313311283384526,-0.23858318632702144,-0.16853210587359135,-0.13953486674560195,-0.37704107463937164,-0.14342179205053976,-0.13011474028203412,-0.18509731027906354,-0.33106649159608637,-0.05850745634515663,-0.1345759767675355,-0.1852327218596728,-0.1335236493160249,0.46398048658513036,-0.39785554637203435,-0.2908116700858418,-0.2511441772102268,-0.13841763047103153,-0.13326463528167173,-0.34608965038398254,-0.25142815050155803,-0.30269786909626134,-0.1833642684401746,-0.18255920765387446,-0.3087659919753067,-0.15547224489578668,-0.23810664224504144,0.3708782424489515,-0.2723466536186532,-0.2159869201141115,-0.2514633874202192,-0.1334196662437206,-0.014821544064230934,-0.1812042145975937,-0.20075651063172392,-0.27972809062834264,-0.07654450083091782,-0.18380103387986524,-0.27979146421534223,0.2836537840395991,-0.18953363059484366,-0.33094299189420967,-0.3086369382976737,-0.2506272532406367,-0.15604196790623368,-0.18404886783076624,-0.21608070235769133,-0.3950373882854924,0.8383647095260427,-0.279592450160322,-0.10796897181665817,-0.37936570793861946,-0.18502345063888384,-0.25142684556773404,-0.3957054008628624,-0.27834176144313516,-0.27602022897677686,-0.31056134748647873,-0.3965959715162636,-0.18523278015724937,-0.35979685263624217,-0.3073292638911838,-0.330981015078236,-0.3294249991194537,-0.21660893682251814,-0.2515764102792308,-0.364574219557513,-0.07788078090141227,-0.3973315292118007,-0.3301880010501896,0.27130870584670913,-0.27977260220434974,-0.1336789024396402,-0.3978448057867217,-0.33116936207805453,-0.12356360871643182,-0.3313253772166597,-0.18240971879043186,-0.3086237266154725,-0.13363765574786302,-0.23708017267406903,-0.1848974681917758,0.07675868125149689,-0.37832632934856236,-0.33094058992668196,-0.38406414563896596,-0.1300018588345198,-0.3776563721220165,-0.2180331074674843,-0.4235549353565802,-0.37740932760426704,-0.23674727117926142,-0.15521521939862482,-0.1159551002719297,3.8012632702107183,-0.39743880810152166,-0.11228524375939154,-0.2382021528469429,0.8904746532853531,-0.3977998498581421,-0.3787885042106512,-0.3308688346964438,-0.3310227826152931,-0.24941304247907187,-0.37936570793861946,-0.3973766347830156,-0.27963563818963755,-0.3308694978561164,-0.5150374559318371,-0.33101642139678367,-0.3266244721034277,-0.397828779013604,0.2713029441698525,-0.3302307642837798,0.33071777862153656,-0.33121496082820273,-0.3312852153536166,-0.35332299369645664,-0.27537206367109246,-0.18521459434188506,0.2714332548230791,-0.13895589679304576,-0.3275286416547502,-0.2797490804432757,-0.39773903248583653,-0.33106384773797076,0.46045093626145533,-0.3311904781207495,-0.17166635275200381,-0.3102662741241862,-0.3646016451100435,-0.18518297565110425,-0.21780175021645704,-0.24434263691374739,-0.11596739032866239,-0.31210888728040037,-0.1833225360767105,-0.1386751806137437,-0.31000785070603804,-0.21871868358699503,-0.39700794376444226,-0.40670526638375026,-0.3957498944447528,-0.15623660391006755,-0.37761821178765215,-0.39690610841951784,-0.16564495354304173,-0.3720371433044836,-0.39286330505849965,-0.3311339106531439,-0.3311331971241016,-0.3242861366955872,0.27121467977586244,-0.39738251221315407,-0.18474695030031987,-0.2929807019889151,-0.10012715290600385,-0.37940003592044735,-0.3303478282051457,0.9141358482790747,-0.2577310773308914,-0.18456996453004976,-0.35857939524761556,-0.1715234490151485,0.6419565750204452,-0.16807621805291625,-0.028344885197361742,-0.10662273704684706,0.307301756395269,-0.3120917734946553,-0.25063582905571036,-0.3105995039462041,-0.3287572357301785,-0.18488768559571161,-0.23826939739359584,-0.18465242118940212,-0.2510289274928917,-0.2516042887746598,0.13168762622663685,0.27169643901696056,-0.23833983438905573,-0.10669244937508933,3.212667863893073,-0.09256972610189045,-0.415152673439691,-0.2425149935164583,-0.32826347609951034,-0.13345623925959962,-0.3976537619814183,-0.31033979348425067,4.422893869884301,-0.111142505776917,-0.37926707946269567,1.5570543943039021,-0.18498527737617887,-0.18443922592404544,-0.18414121611550932,-0.18412818243890042,-0.3307704501787407,-0.33126820302409954,0.2718791043837004,-0.4396196363549293,0.6478101233777311,-0.39759497487712475,0.09551489319337392,-0.32984148270103547,-0.20613759524860062,-0.3312240868637574,-0.18854368249312367,-0.30677254752160177,-0.11581390983365429,0.43546884969271915,-0.2781008843541238,-0.2969154899709219,-0.32565607593360646,-0.15480604370519682,-0.3311746287171056,-0.372430468269697,-0.18332075008202675,-0.43284242651004357,-0.33104530342207417,-0.0861079235528789,-0.24716502880474064,-0.18838974384440998,-0.15358810276488863,-0.18848950835380388,-0.3963924250564047,3.806101206654977,0.2454868662293319,-0.2350222352142258,-0.13368852491540203,-0.32851501671121075,1.1058864119738534,0.271285869473543,-0.07880538320208755,-0.2911971739967997,-0.3532092735261295,-0.2469098669979967,-0.16067647414122077,0.08132863047311893,-0.3301879176188177,-0.10166350885352973,-0.3969707763264187,1.1327115710431337,-0.2515783693416402,-0.18854117083410452,-0.3523775717623411,-0.18160403873475392,-0.18423887106613404,-0.31779727495580923,-0.33129027140333883,-0.3770130936988775,-0.2515040198414583,-0.13343568176714396,-0.1896723590976051,-0.3600778891898143,-0.2811336497779415,-0.3845781374070052,7.975346752182909,-0.16036935447904038,-0.326850625689548,0.27514565873469554,0.007156601962775887,-0.1543098827561799,-0.16618290011771658,-0.20962997326506386,-0.09157184051553628,-0.35180428260388596,-0.1848107342846564,0.12119839640329567,-0.24566691470112365,-0.33581065850274516,-0.5039942471584058,-0.39767115738769765,-0.19851494424250657,-0.30950343509597456,-0.34356021064101083,-0.10683357958420531,0.2791748831094343,-0.18504685946368898,-0.08414391124964057,-0.311692341401394,-0.33131753850255896,-0.3312993250508095,-0.11480836157584119,-0.30390503404998737,-0.12779494733542499,-0.31490104822488113,-0.37886298358468,-0.3310169305201247,4.011387761486467,-0.2506764911248749,-0.371102142397645,-0.3790510341713151,0.2714678183766543,-0.30019817437457563,-0.27809718220901697,-0.1657039043648944,-0.13880176319537396,-0.10349029958478134,-0.17101357359272643,-0.3100349497771199,-0.13008586703251762,0.2753779352679071,0.5788021441429435,2.0726961620863844,-0.13509974403674355,-0.3102865470492815,-0.13849917698449124,-0.3017892117791061,0.28502333602426555,-0.3304930896364447,-0.19467426645788782,2.151110399072161,-0.3489369848075711,-0.25785718203605607,1.0502923968663531,-0.17486923529303727,-0.20056910805123637,-0.25156059324871155,-0.3201960295824282,-0.3533225074096672,-0.3741075255479871,-0.19155880913228476,-0.32736040069923444,-0.3520465518177622,-0.18507138895591077,-0.3242263919971624,-0.1605663111421642,-0.19002639858475825,-0.051177506674970424,3.092164566345437,-0.3765920911129744,-0.3971462540618162,-0.3075423168155394,-0.37815495033055735,-0.09341941715529306,-0.29862128222144707,-0.37645442132862844,-0.25153208771841484,-0.19141313221093906,-0.5863917292865419,-0.1742995072815005,-0.5144445759407517,-0.010942324356601882,-0.17784891983272486,-0.12948619313115223,-0.13345627672337323,0.8190434881404097,-0.16754061035842605,0.35090860908937344,-0.37340470750593313,-0.145710815846972,-0.14610075346302706,-0.24071190425786243,-0.15221976148666996,-0.18396794096734295,-0.3310207791745584,-0.11388236866472141,-0.3738591324215134,-0.11564730808507781,-0.3534390667353747,0.5720585094495454,-0.1293291330887862,-0.3770672434482905,-0.33050591639764365,-0.1929913365505791,-0.25669525248128416,-0.39472226943160743,-0.13273493034125383,-0.09260676913805328,-0.13160726828124278,-0.39737261421454406,3.8183030336832897,0.10227362611174515,0.5077027575314325,-0.3949186252816613,-0.11396039627668413,-0.32989456060511674,-0.09678980764431944,-0.3307154469703327,-0.25906733699444845,-0.3312316713514344,-0.38902935171306646,-0.1686822844366517,-0.24530418924279052,-0.06002147095003658,-0.3847957025516195,-0.13324723562196802,-0.3305121593331732,0.5280263508986219,-0.32360037274591064,-0.17606358374592743,-0.3939528871592052,-0.3289574655759472,-0.3796404438350719,-0.1851477997653475,-0.1831113166656506,-0.5169189471261859,-0.27827728276162655,3.8016535677289975,-0.11822342959339008,-0.3261617068479898,-0.33445109830927705,-0.14415472449349023,-0.23873765535070288,-0.11794166138143368,3.8114965514354364,-0.15524826613869533,3.812737275604552,-0.24002891755596453,-0.3728712584402868,-0.3795764815388183,34.014982231167544,-0.4333892855731905,2.528330993699542,-0.3294029057229749,0.29296628822607584,-0.1159345958611742,-0.3106813841671212],\"y\":[0.9835230013361229,0.9839078444437608,1.49646278707242,-1.3700322943985161,-2.0555319973351667,-1.0611398157608967,1.182747294987335,-2.1553380252959964,-2.055600292453714,-2.0922658693569858,1.8000331970244883,-1.7589153486530749,0.6746265183758727,0.6697919576745172,-1.0611491110197164,1.698831442319543,-0.8619189605274364,-1.0611602677403227,0.9835270251821343,0.9838635792916424,-1.7576697279678795,-1.191590039806475,-1.37000122195476,-1.0611608836783057,-1.0611750954141388,0.9835889611984872,-0.4708334367452132,-1.4124269344222469,-1.0611435060971273,0.9835228542996404,-1.0611483329582376,0.9835232185788417,-1.0611470114934685,-0.8619215789098288,0.2529798909760857,0.6322433967323849,-1.7549809510196375,-1.367105964311176,-1.0590102953723977,-1.0611409950375832,-1.0611295965204162,-1.0611454894610826,1.9616706844991836,0.37198798621761825,-1.0611482733634658,-1.637163495610999,-1.0611537721942532,-1.0611336484492246,-1.061147282507907,0.9835300830519526,1.1788060637284734,-1.0433639240663048,1.1827519149780137,-1.370030599519263,-1.0611540588679824,-1.0611415044236652,-1.0611449357237581,1.562564864869609,-1.061138887542466,-2.5047412177713473,0.9900927091298412,-1.0611453550756853,0.6746764903234402,0.9786826508499878,1.5875249054571297,-1.0649723986039055,-1.3700340046074784,-1.0610801488173773,1.5874976073259839,0.4075073160424068,0.9834996788938172,0.9835293517792388,0.999235718732615,-1.0611516109376258,-1.0612170151667737,-1.0611487438327036,1.1779335799543211,1.1827499280459186,-1.3700344832005933,0.2819383856064823,-1.3700274042892804,1.5088729700339207,1.1827472982016163,-1.370036743774275,-1.3700607243744316,-1.370034746633409,-0.8619174955131212,0.9835685032139209,0.983515956625553,-1.0611404736095136,0.24072798518774263,-1.3587270181478475,-1.061171125024556,1.1827517849466378,0.2819829357551559,-1.3700290475681867,1.5875072214905004,0.9832626214970703,-2.152117032346673,-2.1878056763842118,0.06290984703121485,1.776553400290275,-1.0611442269979876,0.6746311700028224,0.6322716245823308,-1.0614933144503018,0.9786940454498989,-1.0611278829771882,1.5874864913416675,-1.0611458642672962,0.9786032325118543,-1.061117806251233,0.9835237880692984,1.5874898905305603,-1.0610599810523622,-2.1145320301068895,1.1779010490767103,-1.7578603070065328,-1.8010782048721352,-1.0611407793690093,0.983522427281107,-1.0620709979946594,-2.0749493375710926,-1.061144947446354,-1.3700352233204705,-1.0923974626836697,1.1827507390780816,1.3957675538594414,-0.8619120824331739,-2.286382779310181,-1.3700451274054084,1.6042642006693855,-0.8619167735370032,0.7440820477384725,-1.061199033135203,-1.0611894658801373,0.9786991034589603,-2.055589832305806,1.5874848492134457,-2.1937860576532238,0.6743166799529693,1.6989349657868964,-0.8619150729672155,-1.3700306487613894,0.5148749481970187,-1.061103849189912,-2.0976211379265295,0.6746277944660244,1.1796247474281245,-1.0611361727446096,0.6746324831965786,-1.3657289177344893,1.3321121756708756,0.983513557104628,0.9786260783867077,-0.8619224989738558,-2.209832139992112,-1.0612019169174212,-1.9847113684389472,1.1826250609291125,0.9648651754393759,0.6746220590086369,0.2455500111279314,1.9616715659600192,-1.061148341192205,-0.8619193167353073,1.1827965697118263,0.6745582819768113,0.6744638892698928,1.3267292526812284,1.1827157808583781,-1.061144948041097,1.7017626916304638,0.98327940609965,0.983510367318739,0.9835426298282074,1.5825806972042842,-0.8619258965813723,1.1780353606326526,-1.7407537412169083,1.1827412847419672,0.9835155643677073,-2.188109706685324,0.6746264864063206,-1.3700347301102447,1.1827492611369415,0.9835172515168886,-1.7577668618745959,0.9835240410801575,-1.0611503817876744,0.9787703773488249,-1.3700335021624732,0.36170677247287897,-1.0611493003245451,1.6976290307550268,1.9616821834701457,0.983540969145011,1.1823822408895879,-2.3421761599957067,1.9617337623260716,1.5826464481028562,1.896037915752009,1.9615749409804064,1.6919598624614218,-2.0555845707571985,-2.0922668177865855,1.4121253419209772,1.1827495682222646,-1.064436860632908,-0.8616463408269107,1.6366147497537529,1.1827506841050233,1.9616774545101183,0.9835190690496524,0.9835100468470487,-0.8619627036683408,1.9616715659600192,1.182732798882146,0.6746331620577453,0.9835226417152853,1.0967539259643033,0.9835194288213754,0.9833078218624045,1.1827486659043416,-2.1881171118288387,0.9834785748818414,0.9857574962671267,0.9835204466904491,0.9835236521675371,1.5689364362670122,0.24357587507782935,-1.06114551189983,-2.1881139796391005,-2.2863701880481475,0.9833659961961198,0.6746275212063447,1.182749783390422,0.9835225435931654,-0.8956003725187354,0.9835157157443654,-2.1554042100455972,0.9786623579127249,0.7191541510441859,-1.0611445407011342,1.5826488083765295,-0.8622415568512662,-2.0922647578601516,0.9837192863311328,-1.0611255244711335,-2.2863649900844303,0.9786871027584657,-2.0301074390366143,1.1827230127522486,1.8160872133033812,1.1827718569838368,-1.0624695162687459,1.9616897418790362,1.1827274928257026,-0.7179639381868339,1.961746916111508,1.1826452884439667,0.9835186732314389,0.9835139013801144,0.9831835688757808,0.6443661322993967,1.1827455433478469,-1.0611462676421888,0.978158262384165,-1.3701777270219195,1.9616635542419842,0.9834987807678686,1.6901562500665814,0.6697273496714471,-1.0611621987257487,1.7017730165198013,-2.1553459111046984,1.5736425801773513,-2.1853510274798458,-2.2115704378726786,-2.409345891123413,-2.1878200552232157,1.3267139363152207,-0.8619332786789348,1.3267080695025113,1.4440611448385618,-1.0611418982494825,1.5874906921097325,-1.0611677767217575,-0.8619245663120646,-0.861923157123392,0.9713859304510325,-2.188121255694678,1.5874948112152552,-2.494642442359167,-1.041689998511075,-1.4265267953427891,1.86058395328734,-0.8622261679431003,1.4440828669569055,-1.370032257729255,1.1827534350723896,0.9786835654254449,2.75441298317554,-1.0647116636436207,1.9616488586662355,-0.9844955750812099,-1.0611466618241916,-1.0611642489222655,-1.0611615409122996,-1.0611609675177816,0.9835170830368483,0.9835238257248964,-2.1881359027099614,1.7997692255713553,1.7879278194416863,1.1827446483845672,-2.096603085491525,0.4074688818563539,-0.8610809121076435,0.9835182681249793,-1.637168138872866,0.681103343157535,-2.0922606063524816,1.0010040622640355,0.6746486688191837,1.3266079107144744,1.5136123337833662,-2.2098598861334473,0.983517019820027,1.573727941625004,-1.0611254458993236,1.9997803978433872,0.9835267478299592,0.6715563396290296,-0.8619431246187054,-1.6371730693327968,-2.0556779934089757,-1.637168876301384,1.1827214847816778,1.412094371863597,1.3317456154240677,1.5875165182084112,-1.7578612085088934,0.9835111462793696,-2.206650264511128,-2.188112336712028,-2.0587075285456597,1.3218692562668461,1.5689381884349027,-0.8620619295401701,-2.1554502654699377,0.9691704717592263,0.9834765589382843,-1.0607188170817425,1.1827571554539131,-1.5442369579329935,-0.8619226019783509,-1.6371641274666981,1.5689097625783883,-1.6371703627410943,-1.0611424316164828,0.9835340505199494,0.9835229848942761,1.1779016298991134,-0.8619214115833901,-1.3700308111107184,-1.2142748172546618,1.7017558541926108,-0.015764852916664372,0.7046614010334201,-2.4993287688288772,-2.1973586291367893,0.9835700650056772,-2.188152855886694,-1.0591822190080884,-2.2098014504572014,-1.3587545169309634,1.5824976338826564,2.5011446727779183,2.6574992505367003,-1.0611519861299008,-1.0596309554226202,-0.8619747403766763,0.830394139653536,4.6497537397315005,1.1827425971674235,1.157777050468231,0.9786510572584242,1.8331076189024738,-2.0576650507313023,-2.188407297692241,-1.0611500211754532,-2.511403556743168,1.3267055025868184,0.9835224354761102,0.9835219364427317,-2.092248226392181,0.9786528924010303,-2.342260202917224,1.453635848960788,1.9616494721530178,0.9835181061200287,1.367713569955457,-0.8619350675377714,1.5737863790710804,1.9616464003993972,-2.1881081680731413,0.6499849713584188,0.9825356802226706,-0.7179488136952079,-2.286373991671418,0.7191278624988946,-2.1727388053618952,0.9786913890336846,-2.3421727691408996,-2.188314277650271,-2.2578716367415117,-2.2284821224244986,0.985525108361038,0.9786686177080399,-2.3278888926071386,1.693913475713496,-2.1881500049156495,0.98350604342227,1.6940787795271273,0.711234036090808,1.5687165449899012,0.6697867013447718,1.554721696172788,-1.389829790273215,-1.8881240808666186,-0.8619226001312582,0.6548331730258082,1.5689325567503918,1.5737808437331822,0.9729458899534892,0.685931470502553,1.5689373282732648,-1.0611518188974807,0.983186197242559,-2.1559333698767453,-2.0805105551015237,-0.8869342959689976,-2.2671364702456436,1.177898046037971,1.1827494356082675,0.9786489127080128,1.9616013023733505,-1.3696225708872682,0.6185168029934479,1.177874845761987,-0.8619239466854082,0.9779765132837628,1.9859623179493298,-1.3898553886679903,5.6249584582803,-2.092574458101907,1.1529403343283353,-2.3421941736509826,-1.3700322593774101,0.49877832342809947,1.1871306700664015,-2.189854567742335,1.5737800037634755,-2.1578014255616704,-2.1577666388088326,-0.052466594508813705,-2.2953081457503335,-1.0611669209990287,0.9835237881699748,-2.092332838143859,1.5737827440127081,-2.092259704390188,1.5689323895775467,0.9746355400415577,-1.8011086585811793,1.1779000928698005,0.983505479130644,1.1577339854974509,1.6927115648933235,1.1826155185892564,-1.3700284814871064,-0.4571786727444046,-1.3700464876785086,1.1827524803101659,1.4123060947373562,0.9798441863151313,-1.0944399006056256,1.1828799439452446,-1.6364700261282485,0.9834569570998448,-2.1601319464003854,0.9835155992218475,0.6697849950822974,0.9835281635109265,1.1828139567252935,-1.0610665879037873,0.9804818050212015,0.684184189456653,1.1826751331147776,-1.3700367161532911,0.9835500649480947,-1.0622735035087492,0.9836038288972621,-1.4124213386815432,1.1827871984115035,0.9835241890744383,1.961666631088063,-1.0611440594463708,-1.0611695446674805,1.132330049711737,0.674637657711808,1.4121198101431214,0.9806394546656871,0.9835561625096764,0.4074870318740623,-1.757894371552167,1.5874895184260303,-2.2148172223343385,1.4126568067475824,-2.055584907895287,1.412711390305169,0.6699860596083851,2.6447329644808053,1.9616696828653988,1.8584960418059238,2.8296647675020807,0.5275740679938185,0.9834460790401394,-2.18806077358766,-2.092265915729776,0.9786792040395923],\"z\":[-0.3992372462279137,-0.39953630420808367,-0.5081114217506167,0.14269603545538664,0.3107857712987723,0.02008054335725557,-0.41038886692843024,0.24076179138510465,0.31076597979338605,0.29794603357756433,-0.3194932582852344,0.2576307761924533,-0.2766403128117805,-0.049437427990002725,0.0200997705266305,-0.5200000837449869,0.008951041694852049,0.020094456323863696,-0.39924305538136706,-0.3993892142594519,0.26162277796880623,-0.013605179201056793,0.14264655529143255,0.02005021053587484,0.020092455631010517,-0.39926667792635673,0.04440191097434306,0.07452486532243703,0.020090767170058605,-0.39923730028834536,0.020099423350669225,-0.39923758251112834,0.020100715060093376,0.008952688750045998,-0.41026368041559585,-0.3447973254616663,0.2569391701972462,0.1363687929527733,0.01591910838489483,0.020096149123981475,0.02002433177515108,0.02009552162412812,-0.07691030679185014,-0.2116648843607318,0.02010173389723577,0.16985482649072126,0.019766842347730462,0.020081142478378312,0.020086688555057068,-0.3992691291071831,-0.18358159938647864,-0.009516918106298834,-0.41039092839753855,0.14269527918953182,0.020043474167484907,0.020096615773469002,0.020102610871562263,-0.6477835519440156,0.020090182224308594,0.28686154676974845,-0.1771252921567247,0.0201007275407018,-0.2772364000654891,-0.17203792467576046,-0.4735473226644418,0.018220399335934705,0.1426967985614677,0.019993361966840224,-0.4735351420653687,-0.24940711442249666,-0.3993273700363159,-0.3992635369284756,-0.4062483602730404,0.020100886005840746,0.02007525676166816,0.02009237806810812,-0.18319229159855602,-0.41038477617501773,0.14248948856164764,0.07003850290812384,0.14268762728007936,-0.18899549023910261,-0.4103859960643737,0.14269299427304813,0.14269459895753842,0.14270209634059045,0.008955175159991117,-0.399640522548708,-0.3992580386424127,0.020095437743092328,-0.05818620133142149,0.13355181084214796,0.020051089194675954,-0.41038692096657275,0.07004256016856679,0.14268884210255847,-0.4735394319664895,-0.3993604212743835,0.23650714288258026,0.2941918528714889,-0.7056955262204571,-0.02492827755693091,0.020077456434212305,-0.27665339887395674,-0.3448088725182845,0.019856261040249006,-0.17203913620291358,0.02005549910968426,-0.47353305434102316,0.020102719293804666,-0.1721182939897979,0.020052531352122867,-0.3992375972631878,-0.4735340923642626,0.019825668502058406,0.25824545451545977,-0.1831825632786652,0.26218653192418045,0.18466573899090552,0.020100272456172495,-0.3992417772346836,0.018122566953486373,0.2575986407181286,0.020102790958682358,0.14269734235892628,0.012027056025585443,-0.41038513782334907,-0.766384773150072,0.008944860989138156,0.2650465122635123,0.14269392025005745,-0.40979871737233564,0.00894982648767407,-0.3639677597455619,0.02007674994690157,0.02006296409542364,-0.17206532893764614,0.310807530944512,-0.4735414172242422,0.3263550709349698,-0.2767361532546395,-0.519968795847068,0.008950264473612178,0.14269530116168067,-0.35570012810884727,0.020034335713410758,0.2599638370753794,-0.27664088221129096,-0.41534526049926607,0.020078917820306564,-0.27664022173338154,0.13560444079804293,-0.41854549583189454,-0.39924308518592816,-0.1720617196266758,0.008937301647876084,0.3254908396022244,0.020088063112229926,0.3462470480855263,-0.41042097298212943,-0.18956506763931366,-0.27664263146129386,-0.3978881111356533,-0.07691548726906801,0.02009966638290803,0.008950003846108607,-0.41042353960678246,-0.2766579104709595,-0.27668814384408913,-0.41616514372585006,-0.4104028100326979,0.020102791949315964,-0.07403576679757151,-0.39960726886082554,-0.39924222038561935,-0.3992699403944337,-0.24634565795137706,0.00895293981511178,-0.18339496511320139,0.37137395914657195,-0.410392887148195,-0.3992554700325723,0.29671870144048823,-0.27664005918857315,0.14269981841605558,-0.4103851964312195,-0.399239707134087,0.261857606285747,-0.3992377101582361,0.02005749243525856,-0.17207319597983947,0.14269905452556342,-0.14432670294059097,0.020097700771930942,-0.5865130341366912,-0.07693315021164007,-0.3992452635680269,-0.4105797488825472,0.3468538736308152,-0.07694802682105877,-0.24632772320597665,-0.560113200113573,-0.07693963224247695,-0.580992874094093,0.31080295738238545,0.2979464567728608,0.156420822761111,-0.41039179612577814,0.01917822985234005,0.008714505125804621,-0.495654976675614,-0.4103860356193467,-0.07692529552314324,-0.399244716471382,-0.3992415188867559,0.00892077365786328,-0.07691548726906801,-0.4103914942856826,-0.27664279854834406,-0.39924498457304813,-0.2768930760852865,-0.3992423541684771,-0.39929697253356017,-0.4103854095510432,0.2967193727223478,-0.39925189043190357,-0.18297360438085916,-0.39923921797525047,-0.39923833028421557,-0.14765379163402392,-0.234687127952647,0.020102541411947675,0.29671701768667974,0.26505424754087814,-0.3992868686248485,-0.27664052092290015,-0.41038695034597367,-0.399241829133861,4.886924568306164e-05,-0.3992392452635549,0.24074704217448423,-0.17203816172353403,-0.14297241013930548,0.02010195350000167,-0.24633165459205442,0.008860415191837256,0.29794649505339643,-0.39956418801668586,0.020070336762169176,0.26504929523619947,-0.17204427857632104,0.31090556132395836,-0.41039670198013617,-0.6213141347723761,-0.410420890167643,0.019736537474882444,-0.07694520913748702,-0.4103987010172963,0.003196297632077579,-0.07704006509642877,-0.4104577641775046,-0.3992403922850257,-0.3992400314040799,-0.3993251474939014,-0.05604113591893565,-0.4103923937832162,0.02009502621689444,-0.17227878278521477,0.14216755945932188,-0.07691430597162371,-0.39925157145684304,-0.5375876197690673,-0.04945349930435332,0.020093403076271707,-0.07405629114827435,0.24074017747291807,-0.5034054544750376,0.18616950888191627,0.3342091246958285,0.4113095471950304,0.29611313432396813,-0.4161391608110615,0.008938281889533599,-0.4161628724030065,-0.53379053023484,0.02009696460488734,-0.4735392371977766,0.020095173938860948,0.008943968703853156,0.008953177536565595,-0.4057895178120408,0.2967133229212561,-0.4735384178590374,0.23438705937403864,-0.036449620327416006,0.04034034242933458,-0.06538371224193977,0.008829612744469511,-0.5338002227816724,0.1426960190933365,-0.4103886164362729,-0.17203862619222282,1.6502384081866819,0.019181169601607546,-0.07691531242305652,-0.014098496349730302,0.02009891703826031,0.02009144558866203,0.020086407526411415,0.02008615167414424,-0.3992461549466311,-0.39923861936975397,0.2967115075711779,-0.3185355212032494,-0.15490360026576688,-0.410388882788455,0.29485983141962957,-0.24948480574096077,0.008151041601261162,-0.39923890013117574,0.16993086002442687,-0.058572051634621806,0.2979436851916091,-0.41302136112132726,-0.27666886641878013,-0.4163766877628579,-0.4156174613284228,0.3254729875553023,-0.39923960374947953,-0.37487947225122226,0.020070301702929873,-0.08004040447385638,-0.39924245762212773,-0.05237593813336383,0.008882835662634567,0.16992875157945875,0.3107838953785917,0.16993004015039007,-0.4104065519503653,0.15634488247552428,-0.4255626800401147,-0.47359384544091315,0.2620289577745636,-0.3992822216364152,0.28464856320752707,0.2967192765795909,0.309809131540205,-0.18893827507400238,-0.14765577025339022,0.008887975533232822,0.24057263957481767,-0.404800966107021,-0.39925242705425806,0.018716006215348663,-0.41039996876041945,0.04854783201112344,0.008952714404959563,0.169930506258722,-0.14766702227515555,0.16981863590444848,0.02008649773240013,-0.39945759880507314,-0.3992381963141659,-0.1831830618034918,0.008951417296976785,0.14269557322771081,0.057057153634638674,-0.07403068134486276,0.11867536781658367,-0.12444439136640217,0.1962308219503544,0.36034294914738696,-0.3993137774255812,0.2966599241174457,0.016833575466910163,0.32546039066397375,0.13332089305192787,-0.24645220948524904,9.376565856239035,29.1197676275192,0.02009650561339303,0.015021525016728087,0.008861039085588863,-0.36228260574232307,6.047709673462496,-0.4103874888059885,-0.46681510389556347,-0.1720496350151256,-0.09300434870011215,0.3101817250009861,0.29661452382473347,0.020100176643886993,0.34051376098146374,-0.4161449719556306,-0.3992377118021086,-0.39923796784663423,0.29792643262355517,-0.172140452546984,0.34682468892302376,0.00045579483235796975,-0.07692190522935033,-0.3992422426871368,0.15871067834376956,0.008939080089680381,-0.37490554740991017,-0.07691861972789929,0.29671600429318423,-0.11221977744575418,-0.4000226782570278,0.0031960719774934056,0.2650520479901008,-0.4203970933757349,0.34294717261152324,-0.17204417420611964,0.34685496961419193,0.29666876084483207,0.25883985720276975,0.2706936156788264,-0.40257205259970985,-0.17203832194376967,0.2501473160087795,-0.5800919019465991,0.2964997181576592,-0.3992497855772526,-0.2927737830623663,-0.2246870641684379,-0.14770766720390796,-0.049456089184943985,0.03932381198608416,0.07991697296814225,0.20529095061144143,0.008952426350946866,-0.33943546212780973,-0.14765349671827036,-0.3748564388030228,-0.17351463905557227,-0.2857766136576596,-0.14767453509905173,0.020100714245093923,-0.3993263202878105,0.24060856107578305,0.2538300932809213,-0.047491457861941755,0.2188553829531143,-0.18318960084041788,-0.4103965241163808,-0.1720812308170425,-0.07692961326770006,0.1420155885508447,-0.3780582743808369,-0.18319001984885047,0.008952069759178265,-0.40107081553505913,-0.6873219497492216,0.07990974331463957,2.104455823043852,0.2962696321054647,-0.23961113762435668,0.34684692761520985,0.14269601982875393,-0.3995103159698857,-0.18729609147762488,0.2955656489024988,-0.3748677564114618,0.31742187897338553,0.3174254795172741,0.10580157449553872,0.24994402087005738,0.020084020991388438,-0.3992426238301091,0.2979180386641236,-0.3748606102080214,0.2979409164352481,-0.14765159582169507,-0.41317559732284176,0.18465539180978746,-0.18318206480562665,-0.3992495337867541,-0.46690120563653775,-0.5807284568566452,-0.4104253320244828,0.1426840417079759,-0.05419174179044123,0.14266718293285882,-0.41039309551784997,0.15613073129260352,-0.4059732723121415,0.011478319805267033,-0.4104427898536953,0.16866838760409986,-0.3992556484992743,0.3168114261377025,-0.39924692999403544,-0.049436355781858975,-0.39923954961296404,-0.4105330250332839,0.019828616521023988,-0.4003935061531675,-0.2809452183796489,-0.4105907601539244,0.14269298194839014,-0.39925291254584844,0.008638598579838818,-0.3993690552639196,0.07451734194548267,-0.4104511927125303,-0.3992760735046903,-0.07691065235783967,0.020101346213644605,0.020070351481068224,-0.3142194035634338,-0.27666514998385683,0.15641493307040244,-0.1753028869066239,-0.399323850400731,-0.24941156285599503,0.26220106153733574,-0.4735315614699426,0.22394223703278693,0.1562135995620188,0.3108035189359679,0.15618924403279388,-0.049760403715734806,6.715362930240539,-0.07691192650863504,-0.509240206529747,0.004421409576524861,0.06704057683747966,-0.3992627625496338,0.29636410601405994,0.2979460542693972,-0.1720327532297933],\"type\":\"scatter3d\"}],                        {\"template\":{\"data\":{\"bar\":[{\"error_x\":{\"color\":\"#2a3f5f\"},\"error_y\":{\"color\":\"#2a3f5f\"},\"marker\":{\"line\":{\"color\":\"#E5ECF6\",\"width\":0.5},\"pattern\":{\"fillmode\":\"overlay\",\"size\":10,\"solidity\":0.2}},\"type\":\"bar\"}],\"barpolar\":[{\"marker\":{\"line\":{\"color\":\"#E5ECF6\",\"width\":0.5},\"pattern\":{\"fillmode\":\"overlay\",\"size\":10,\"solidity\":0.2}},\"type\":\"barpolar\"}],\"carpet\":[{\"aaxis\":{\"endlinecolor\":\"#2a3f5f\",\"gridcolor\":\"white\",\"linecolor\":\"white\",\"minorgridcolor\":\"white\",\"startlinecolor\":\"#2a3f5f\"},\"baxis\":{\"endlinecolor\":\"#2a3f5f\",\"gridcolor\":\"white\",\"linecolor\":\"white\",\"minorgridcolor\":\"white\",\"startlinecolor\":\"#2a3f5f\"},\"type\":\"carpet\"}],\"choropleth\":[{\"colorbar\":{\"outlinewidth\":0,\"ticks\":\"\"},\"type\":\"choropleth\"}],\"contour\":[{\"colorbar\":{\"outlinewidth\":0,\"ticks\":\"\"},\"colorscale\":[[0.0,\"#0d0887\"],[0.1111111111111111,\"#46039f\"],[0.2222222222222222,\"#7201a8\"],[0.3333333333333333,\"#9c179e\"],[0.4444444444444444,\"#bd3786\"],[0.5555555555555556,\"#d8576b\"],[0.6666666666666666,\"#ed7953\"],[0.7777777777777778,\"#fb9f3a\"],[0.8888888888888888,\"#fdca26\"],[1.0,\"#f0f921\"]],\"type\":\"contour\"}],\"contourcarpet\":[{\"colorbar\":{\"outlinewidth\":0,\"ticks\":\"\"},\"type\":\"contourcarpet\"}],\"heatmap\":[{\"colorbar\":{\"outlinewidth\":0,\"ticks\":\"\"},\"colorscale\":[[0.0,\"#0d0887\"],[0.1111111111111111,\"#46039f\"],[0.2222222222222222,\"#7201a8\"],[0.3333333333333333,\"#9c179e\"],[0.4444444444444444,\"#bd3786\"],[0.5555555555555556,\"#d8576b\"],[0.6666666666666666,\"#ed7953\"],[0.7777777777777778,\"#fb9f3a\"],[0.8888888888888888,\"#fdca26\"],[1.0,\"#f0f921\"]],\"type\":\"heatmap\"}],\"heatmapgl\":[{\"colorbar\":{\"outlinewidth\":0,\"ticks\":\"\"},\"colorscale\":[[0.0,\"#0d0887\"],[0.1111111111111111,\"#46039f\"],[0.2222222222222222,\"#7201a8\"],[0.3333333333333333,\"#9c179e\"],[0.4444444444444444,\"#bd3786\"],[0.5555555555555556,\"#d8576b\"],[0.6666666666666666,\"#ed7953\"],[0.7777777777777778,\"#fb9f3a\"],[0.8888888888888888,\"#fdca26\"],[1.0,\"#f0f921\"]],\"type\":\"heatmapgl\"}],\"histogram\":[{\"marker\":{\"pattern\":{\"fillmode\":\"overlay\",\"size\":10,\"solidity\":0.2}},\"type\":\"histogram\"}],\"histogram2d\":[{\"colorbar\":{\"outlinewidth\":0,\"ticks\":\"\"},\"colorscale\":[[0.0,\"#0d0887\"],[0.1111111111111111,\"#46039f\"],[0.2222222222222222,\"#7201a8\"],[0.3333333333333333,\"#9c179e\"],[0.4444444444444444,\"#bd3786\"],[0.5555555555555556,\"#d8576b\"],[0.6666666666666666,\"#ed7953\"],[0.7777777777777778,\"#fb9f3a\"],[0.8888888888888888,\"#fdca26\"],[1.0,\"#f0f921\"]],\"type\":\"histogram2d\"}],\"histogram2dcontour\":[{\"colorbar\":{\"outlinewidth\":0,\"ticks\":\"\"},\"colorscale\":[[0.0,\"#0d0887\"],[0.1111111111111111,\"#46039f\"],[0.2222222222222222,\"#7201a8\"],[0.3333333333333333,\"#9c179e\"],[0.4444444444444444,\"#bd3786\"],[0.5555555555555556,\"#d8576b\"],[0.6666666666666666,\"#ed7953\"],[0.7777777777777778,\"#fb9f3a\"],[0.8888888888888888,\"#fdca26\"],[1.0,\"#f0f921\"]],\"type\":\"histogram2dcontour\"}],\"mesh3d\":[{\"colorbar\":{\"outlinewidth\":0,\"ticks\":\"\"},\"type\":\"mesh3d\"}],\"parcoords\":[{\"line\":{\"colorbar\":{\"outlinewidth\":0,\"ticks\":\"\"}},\"type\":\"parcoords\"}],\"pie\":[{\"automargin\":true,\"type\":\"pie\"}],\"scatter\":[{\"marker\":{\"colorbar\":{\"outlinewidth\":0,\"ticks\":\"\"}},\"type\":\"scatter\"}],\"scatter3d\":[{\"line\":{\"colorbar\":{\"outlinewidth\":0,\"ticks\":\"\"}},\"marker\":{\"colorbar\":{\"outlinewidth\":0,\"ticks\":\"\"}},\"type\":\"scatter3d\"}],\"scattercarpet\":[{\"marker\":{\"colorbar\":{\"outlinewidth\":0,\"ticks\":\"\"}},\"type\":\"scattercarpet\"}],\"scattergeo\":[{\"marker\":{\"colorbar\":{\"outlinewidth\":0,\"ticks\":\"\"}},\"type\":\"scattergeo\"}],\"scattergl\":[{\"marker\":{\"colorbar\":{\"outlinewidth\":0,\"ticks\":\"\"}},\"type\":\"scattergl\"}],\"scattermapbox\":[{\"marker\":{\"colorbar\":{\"outlinewidth\":0,\"ticks\":\"\"}},\"type\":\"scattermapbox\"}],\"scatterpolar\":[{\"marker\":{\"colorbar\":{\"outlinewidth\":0,\"ticks\":\"\"}},\"type\":\"scatterpolar\"}],\"scatterpolargl\":[{\"marker\":{\"colorbar\":{\"outlinewidth\":0,\"ticks\":\"\"}},\"type\":\"scatterpolargl\"}],\"scatterternary\":[{\"marker\":{\"colorbar\":{\"outlinewidth\":0,\"ticks\":\"\"}},\"type\":\"scatterternary\"}],\"surface\":[{\"colorbar\":{\"outlinewidth\":0,\"ticks\":\"\"},\"colorscale\":[[0.0,\"#0d0887\"],[0.1111111111111111,\"#46039f\"],[0.2222222222222222,\"#7201a8\"],[0.3333333333333333,\"#9c179e\"],[0.4444444444444444,\"#bd3786\"],[0.5555555555555556,\"#d8576b\"],[0.6666666666666666,\"#ed7953\"],[0.7777777777777778,\"#fb9f3a\"],[0.8888888888888888,\"#fdca26\"],[1.0,\"#f0f921\"]],\"type\":\"surface\"}],\"table\":[{\"cells\":{\"fill\":{\"color\":\"#EBF0F8\"},\"line\":{\"color\":\"white\"}},\"header\":{\"fill\":{\"color\":\"#C8D4E3\"},\"line\":{\"color\":\"white\"}},\"type\":\"table\"}]},\"layout\":{\"annotationdefaults\":{\"arrowcolor\":\"#2a3f5f\",\"arrowhead\":0,\"arrowwidth\":1},\"autotypenumbers\":\"strict\",\"coloraxis\":{\"colorbar\":{\"outlinewidth\":0,\"ticks\":\"\"}},\"colorscale\":{\"diverging\":[[0,\"#8e0152\"],[0.1,\"#c51b7d\"],[0.2,\"#de77ae\"],[0.3,\"#f1b6da\"],[0.4,\"#fde0ef\"],[0.5,\"#f7f7f7\"],[0.6,\"#e6f5d0\"],[0.7,\"#b8e186\"],[0.8,\"#7fbc41\"],[0.9,\"#4d9221\"],[1,\"#276419\"]],\"sequential\":[[0.0,\"#0d0887\"],[0.1111111111111111,\"#46039f\"],[0.2222222222222222,\"#7201a8\"],[0.3333333333333333,\"#9c179e\"],[0.4444444444444444,\"#bd3786\"],[0.5555555555555556,\"#d8576b\"],[0.6666666666666666,\"#ed7953\"],[0.7777777777777778,\"#fb9f3a\"],[0.8888888888888888,\"#fdca26\"],[1.0,\"#f0f921\"]],\"sequentialminus\":[[0.0,\"#0d0887\"],[0.1111111111111111,\"#46039f\"],[0.2222222222222222,\"#7201a8\"],[0.3333333333333333,\"#9c179e\"],[0.4444444444444444,\"#bd3786\"],[0.5555555555555556,\"#d8576b\"],[0.6666666666666666,\"#ed7953\"],[0.7777777777777778,\"#fb9f3a\"],[0.8888888888888888,\"#fdca26\"],[1.0,\"#f0f921\"]]},\"colorway\":[\"#636efa\",\"#EF553B\",\"#00cc96\",\"#ab63fa\",\"#FFA15A\",\"#19d3f3\",\"#FF6692\",\"#B6E880\",\"#FF97FF\",\"#FECB52\"],\"font\":{\"color\":\"#2a3f5f\"},\"geo\":{\"bgcolor\":\"white\",\"lakecolor\":\"white\",\"landcolor\":\"#E5ECF6\",\"showlakes\":true,\"showland\":true,\"subunitcolor\":\"white\"},\"hoverlabel\":{\"align\":\"left\"},\"hovermode\":\"closest\",\"mapbox\":{\"style\":\"light\"},\"paper_bgcolor\":\"white\",\"plot_bgcolor\":\"#E5ECF6\",\"polar\":{\"angularaxis\":{\"gridcolor\":\"white\",\"linecolor\":\"white\",\"ticks\":\"\"},\"bgcolor\":\"#E5ECF6\",\"radialaxis\":{\"gridcolor\":\"white\",\"linecolor\":\"white\",\"ticks\":\"\"}},\"scene\":{\"xaxis\":{\"backgroundcolor\":\"#E5ECF6\",\"gridcolor\":\"white\",\"gridwidth\":2,\"linecolor\":\"white\",\"showbackground\":true,\"ticks\":\"\",\"zerolinecolor\":\"white\"},\"yaxis\":{\"backgroundcolor\":\"#E5ECF6\",\"gridcolor\":\"white\",\"gridwidth\":2,\"linecolor\":\"white\",\"showbackground\":true,\"ticks\":\"\",\"zerolinecolor\":\"white\"},\"zaxis\":{\"backgroundcolor\":\"#E5ECF6\",\"gridcolor\":\"white\",\"gridwidth\":2,\"linecolor\":\"white\",\"showbackground\":true,\"ticks\":\"\",\"zerolinecolor\":\"white\"}},\"shapedefaults\":{\"line\":{\"color\":\"#2a3f5f\"}},\"ternary\":{\"aaxis\":{\"gridcolor\":\"white\",\"linecolor\":\"white\",\"ticks\":\"\"},\"baxis\":{\"gridcolor\":\"white\",\"linecolor\":\"white\",\"ticks\":\"\"},\"bgcolor\":\"#E5ECF6\",\"caxis\":{\"gridcolor\":\"white\",\"linecolor\":\"white\",\"ticks\":\"\"}},\"title\":{\"x\":0.05},\"xaxis\":{\"automargin\":true,\"gridcolor\":\"white\",\"linecolor\":\"white\",\"ticks\":\"\",\"title\":{\"standoff\":15},\"zerolinecolor\":\"white\",\"zerolinewidth\":2},\"yaxis\":{\"automargin\":true,\"gridcolor\":\"white\",\"linecolor\":\"white\",\"ticks\":\"\",\"title\":{\"standoff\":15},\"zerolinecolor\":\"white\",\"zerolinewidth\":2}}},\"scene\":{\"domain\":{\"x\":[0.0,1.0],\"y\":[0.0,1.0]},\"xaxis\":{\"title\":{\"text\":\"PC 1\"}},\"yaxis\":{\"title\":{\"text\":\"PC 2\"}},\"zaxis\":{\"title\":{\"text\":\"PC 3\"}}},\"coloraxis\":{\"colorbar\":{\"title\":{\"text\":\"Class\"}},\"colorscale\":[[0.0,\"#0d0887\"],[0.1111111111111111,\"#46039f\"],[0.2222222222222222,\"#7201a8\"],[0.3333333333333333,\"#9c179e\"],[0.4444444444444444,\"#bd3786\"],[0.5555555555555556,\"#d8576b\"],[0.6666666666666666,\"#ed7953\"],[0.7777777777777778,\"#fb9f3a\"],[0.8888888888888888,\"#fdca26\"],[1.0,\"#f0f921\"]]},\"legend\":{\"tracegroupgap\":0,\"x\":0,\"y\":1},\"margin\":{\"t\":60},\"width\":800},                        {\"responsive\": true}                    ).then(function(){\n",
       "                            \n",
       "var gd = document.getElementById('72301fd0-3d07-4e79-9f9b-bd0479bf6aa4');\n",
       "var x = new MutationObserver(function (mutations, observer) {{\n",
       "        var display = window.getComputedStyle(gd).display;\n",
       "        if (!display || display === 'none') {{\n",
       "            console.log([gd, 'removed!']);\n",
       "            Plotly.purge(gd);\n",
       "            observer.disconnect();\n",
       "        }}\n",
       "}});\n",
       "\n",
       "// Listen for the removal of the full notebook cells\n",
       "var notebookContainer = gd.closest('#notebook-container');\n",
       "if (notebookContainer) {{\n",
       "    x.observe(notebookContainer, {childList: true});\n",
       "}}\n",
       "\n",
       "// Listen for the clearing of the current output cell\n",
       "var outputEl = gd.closest('.output');\n",
       "if (outputEl) {{\n",
       "    x.observe(outputEl, {childList: true});\n",
       "}}\n",
       "\n",
       "                        })                };                });            </script>        </div>"
      ]
     },
     "metadata": {},
     "output_type": "display_data"
    }
   ],
   "source": [
    "# Creating a 3D-Scatter with the PCA data and the clusters\n",
    "# We're not using Sepal Width anymore :(\n",
    "fig = px.scatter_3d(\n",
    "    clustered_df, \n",
    "    x=\"PC 1\", \n",
    "    y=\"PC 2\", \n",
    "    z=\"PC 3\", \n",
    "    color=\"Class\",\n",
    "    hover_name='CoinName',\n",
    "    hover_data=['Algorithm'],\n",
    "    width=800)\n",
    "fig.update_layout(legend=dict(x=0,y=1))\n",
    "fig.show()"
   ]
  },
  {
   "cell_type": "code",
   "execution_count": 141,
   "metadata": {},
   "outputs": [
    {
     "data": {},
     "metadata": {},
     "output_type": "display_data"
    },
    {
     "data": {
      "application/vnd.holoviews_exec.v0+json": "",
      "text/html": [
       "<div id='1120'>\n",
       "\n",
       "\n",
       "\n",
       "\n",
       "\n",
       "  <div class=\"bk-root\" id=\"057e17b8-61d7-4809-bdcb-d3784f606211\" data-root-id=\"1120\"></div>\n",
       "</div>\n",
       "<script type=\"application/javascript\">(function(root) {\n",
       "  function embed_document(root) {\n",
       "    var docs_json = {\"6c0c5850-8771-414d-b5fc-3e4eb2e31592\":{\"defs\":[{\"extends\":null,\"module\":null,\"name\":\"ReactiveHTML1\",\"overrides\":[],\"properties\":[]},{\"extends\":null,\"module\":null,\"name\":\"FlexBox1\",\"overrides\":[],\"properties\":[{\"default\":\"flex-start\",\"kind\":null,\"name\":\"align_content\"},{\"default\":\"flex-start\",\"kind\":null,\"name\":\"align_items\"},{\"default\":\"row\",\"kind\":null,\"name\":\"flex_direction\"},{\"default\":\"wrap\",\"kind\":null,\"name\":\"flex_wrap\"},{\"default\":\"flex-start\",\"kind\":null,\"name\":\"justify_content\"}]},{\"extends\":null,\"module\":null,\"name\":\"GridStack1\",\"overrides\":[],\"properties\":[{\"default\":\"warn\",\"kind\":null,\"name\":\"mode\"},{\"default\":null,\"kind\":null,\"name\":\"ncols\"},{\"default\":null,\"kind\":null,\"name\":\"nrows\"},{\"default\":true,\"kind\":null,\"name\":\"allow_resize\"},{\"default\":true,\"kind\":null,\"name\":\"allow_drag\"},{\"default\":[],\"kind\":null,\"name\":\"state\"}]},{\"extends\":null,\"module\":null,\"name\":\"click1\",\"overrides\":[],\"properties\":[{\"default\":\"\",\"kind\":null,\"name\":\"terminal_output\"},{\"default\":\"\",\"kind\":null,\"name\":\"debug_name\"},{\"default\":0,\"kind\":null,\"name\":\"clears\"}]},{\"extends\":null,\"module\":null,\"name\":\"TemplateActions1\",\"overrides\":[],\"properties\":[{\"default\":0,\"kind\":null,\"name\":\"open_modal\"},{\"default\":0,\"kind\":null,\"name\":\"close_modal\"}]},{\"extends\":null,\"module\":null,\"name\":\"MaterialTemplateActions1\",\"overrides\":[],\"properties\":[{\"default\":0,\"kind\":null,\"name\":\"open_modal\"},{\"default\":0,\"kind\":null,\"name\":\"close_modal\"}]}],\"roots\":{\"references\":[{\"attributes\":{\"margin\":[5,5,5,5],\"name\":\"HSpacer01801\",\"sizing_mode\":\"stretch_width\"},\"id\":\"1161\",\"type\":\"Spacer\"},{\"attributes\":{},\"id\":\"1135\",\"type\":\"StringEditor\"},{\"attributes\":{\"editor\":{\"id\":\"1145\"},\"field\":\"TotalCoinsMined\",\"formatter\":{\"id\":\"1144\"},\"title\":\"TotalCoinsMined\"},\"id\":\"1146\",\"type\":\"TableColumn\"},{\"attributes\":{\"editor\":{\"id\":\"1135\"},\"field\":\"ProofType\",\"formatter\":{\"id\":\"1134\"},\"title\":\"ProofType\"},\"id\":\"1136\",\"type\":\"TableColumn\"},{\"attributes\":{},\"id\":\"1123\",\"type\":\"Selection\"},{\"attributes\":{},\"id\":\"1124\",\"type\":\"StringFormatter\"},{\"attributes\":{},\"id\":\"1139\",\"type\":\"StringFormatter\"},{\"attributes\":{\"editor\":{\"id\":\"1150\"},\"field\":\"Class\",\"formatter\":{\"id\":\"1149\"},\"title\":\"Class\"},\"id\":\"1151\",\"type\":\"TableColumn\"},{\"attributes\":{},\"id\":\"1149\",\"type\":\"NumberFormatter\"},{\"attributes\":{},\"id\":\"1125\",\"type\":\"StringEditor\"},{\"attributes\":{\"children\":[{\"id\":\"1121\"},{\"id\":\"1154\"},{\"id\":\"1161\"}],\"margin\":[0,0,0,0],\"name\":\"Row01796\",\"tags\":[\"embedded\"]},\"id\":\"1120\",\"type\":\"Row\"},{\"attributes\":{\"columns\":[{\"id\":\"1126\"},{\"id\":\"1131\"},{\"id\":\"1136\"},{\"id\":\"1141\"},{\"id\":\"1146\"},{\"id\":\"1151\"}],\"height\":300,\"reorderable\":false,\"source\":{\"id\":\"1122\"},\"view\":{\"id\":\"1156\"},\"width\":700},\"id\":\"1154\",\"type\":\"DataTable\"},{\"attributes\":{},\"id\":\"1157\",\"type\":\"UnionRenderers\"},{\"attributes\":{\"editor\":{\"id\":\"1125\"},\"field\":\"CoinName\",\"formatter\":{\"id\":\"1124\"},\"title\":\"CoinName\"},\"id\":\"1126\",\"type\":\"TableColumn\"},{\"attributes\":{},\"id\":\"1150\",\"type\":\"IntEditor\"},{\"attributes\":{},\"id\":\"1140\",\"type\":\"StringEditor\"},{\"attributes\":{\"source\":{\"id\":\"1122\"}},\"id\":\"1156\",\"type\":\"CDSView\"},{\"attributes\":{\"editor\":{\"id\":\"1140\"},\"field\":\"TotalCoinSupply\",\"formatter\":{\"id\":\"1139\"},\"title\":\"TotalCoinSupply\"},\"id\":\"1141\",\"type\":\"TableColumn\"},{\"attributes\":{},\"id\":\"1129\",\"type\":\"StringFormatter\"},{\"attributes\":{\"data\":{\"Algorithm\":[\"Scrypt\",\"Scrypt\",\"X13\",\"SHA-256\",\"Ethash\",\"Scrypt\",\"X11\",\"CryptoNight-V7\",\"Ethash\",\"Equihash\",\"SHA-512\",\"Multiple\",\"SHA-256\",\"SHA-256\",\"Scrypt\",\"X15\",\"X11\",\"Scrypt\",\"Scrypt\",\"Scrypt\",\"Multiple\",\"Scrypt\",\"SHA-256\",\"Scrypt\",\"Scrypt\",\"Scrypt\",\"Quark\",\"Groestl\",\"Scrypt\",\"Scrypt\",\"Scrypt\",\"Scrypt\",\"Scrypt\",\"X11\",\"Scrypt\",\"Groestl\",\"Multiple\",\"SHA-256\",\"Scrypt\",\"Scrypt\",\"Scrypt\",\"Scrypt\",\"PoS\",\"Scrypt\",\"Scrypt\",\"NeoScrypt\",\"Scrypt\",\"Scrypt\",\"Scrypt\",\"Scrypt\",\"X11\",\"Scrypt\",\"X11\",\"SHA-256\",\"Scrypt\",\"Scrypt\",\"Scrypt\",\"SHA3\",\"Scrypt\",\"HybridScryptHash256\",\"Scrypt\",\"Scrypt\",\"SHA-256\",\"Scrypt\",\"X13\",\"Scrypt\",\"SHA-256\",\"Scrypt\",\"X13\",\"NeoScrypt\",\"Scrypt\",\"Scrypt\",\"Scrypt\",\"Scrypt\",\"Scrypt\",\"Scrypt\",\"X11\",\"X11\",\"SHA-256\",\"Multiple\",\"SHA-256\",\"PHI1612\",\"X11\",\"SHA-256\",\"SHA-256\",\"SHA-256\",\"X11\",\"Scrypt\",\"Scrypt\",\"Scrypt\",\"Scrypt\",\"Lyra2REv2\",\"Scrypt\",\"X11\",\"Multiple\",\"SHA-256\",\"X13\",\"Scrypt\",\"CryptoNight\",\"CryptoNight\",\"Shabal256\",\"Counterparty\",\"Scrypt\",\"SHA-256\",\"Groestl\",\"Scrypt\",\"Scrypt\",\"Scrypt\",\"X13\",\"Scrypt\",\"Scrypt\",\"Scrypt\",\"Scrypt\",\"X13\",\"Scrypt\",\"Stanford Folding\",\"X11\",\"Multiple\",\"QuBit\",\"Scrypt\",\"Scrypt\",\"Scrypt\",\"M7 POW\",\"Scrypt\",\"SHA-256\",\"Scrypt\",\"X11\",\"SHA3\",\"X11\",\"Lyra2RE\",\"SHA-256\",\"QUAIT\",\"X11\",\"X11\",\"Scrypt\",\"Scrypt\",\"Scrypt\",\"Ethash\",\"X13\",\"Blake2b\",\"SHA-256\",\"X15\",\"X11\",\"SHA-256\",\"BLAKE256\",\"Scrypt\",\"1GB AES Pattern Search\",\"SHA-256\",\"X11\",\"Scrypt\",\"SHA-256\",\"SHA-256\",\"NIST5\",\"Scrypt\",\"Scrypt\",\"X11\",\"Dagger\",\"Scrypt\",\"X11GOST\",\"X11\",\"Scrypt\",\"SHA-256\",\"Scrypt\",\"PoS\",\"Scrypt\",\"X11\",\"X11\",\"SHA-256\",\"SHA-256\",\"NIST5\",\"X11\",\"Scrypt\",\"POS 3.0\",\"Scrypt\",\"Scrypt\",\"Scrypt\",\"X13\",\"X11\",\"X11\",\"Equihash\",\"X11\",\"Scrypt\",\"CryptoNight\",\"SHA-256\",\"SHA-256\",\"X11\",\"Scrypt\",\"Multiple\",\"Scrypt\",\"Scrypt\",\"Scrypt\",\"SHA-256\",\"Scrypt\",\"Scrypt\",\"SHA-256D\",\"PoS\",\"Scrypt\",\"X11\",\"Lyra2Z\",\"PoS\",\"X13\",\"X14\",\"PoS\",\"SHA-256D\",\"Ethash\",\"Equihash\",\"DPoS\",\"X11\",\"Scrypt\",\"X11\",\"X13\",\"X11\",\"PoS\",\"Scrypt\",\"Scrypt\",\"X11\",\"PoS\",\"X11\",\"SHA-256\",\"Scrypt\",\"X11\",\"Scrypt\",\"Scrypt\",\"X11\",\"CryptoNight\",\"Scrypt\",\"Scrypt\",\"Scrypt\",\"Scrypt\",\"Quark\",\"QuBit\",\"Scrypt\",\"CryptoNight\",\"Lyra2RE\",\"Scrypt\",\"SHA-256\",\"X11\",\"Scrypt\",\"X11\",\"Scrypt\",\"CryptoNight-V7\",\"Scrypt\",\"Scrypt\",\"Scrypt\",\"X13\",\"X11\",\"Equihash\",\"Scrypt\",\"Scrypt\",\"Lyra2RE\",\"Scrypt\",\"Dagger-Hashimoto\",\"X11\",\"Blake2S\",\"X11\",\"Scrypt\",\"PoS\",\"X11\",\"NIST5\",\"PoS\",\"X11\",\"Scrypt\",\"Scrypt\",\"Scrypt\",\"SHA-256\",\"X11\",\"Scrypt\",\"Scrypt\",\"SHA-256\",\"PoS\",\"Scrypt\",\"X15\",\"SHA-256\",\"Scrypt\",\"POS 3.0\",\"CryptoNight-V7\",\"536\",\"Argon2d\",\"Blake2b\",\"Cloverhash\",\"CryptoNight\",\"NIST5\",\"X11\",\"NIST5\",\"Skein\",\"Scrypt\",\"X13\",\"Scrypt\",\"X11\",\"X11\",\"Scrypt\",\"CryptoNight\",\"X13\",\"Time Travel\",\"Scrypt\",\"Keccak\",\"SkunkHash v2 Raptor\",\"X11\",\"Skein\",\"SHA-256\",\"X11\",\"Scrypt\",\"VeChainThor Authority\",\"Scrypt\",\"PoS\",\"Scrypt\",\"Scrypt\",\"Scrypt\",\"Scrypt\",\"Scrypt\",\"Scrypt\",\"Scrypt\",\"CryptoNight\",\"SHA-512\",\"Ouroboros\",\"X11\",\"Equihash\",\"NeoScrypt\",\"X11\",\"Scrypt\",\"NeoScrypt\",\"Lyra2REv2\",\"Equihash\",\"Scrypt\",\"SHA-256\",\"NIST5\",\"PHI1612\",\"Dagger\",\"Scrypt\",\"Quark\",\"Scrypt\",\"POS 2.0\",\"Scrypt\",\"SHA-256\",\"X11\",\"NeoScrypt\",\"Ethash\",\"NeoScrypt\",\"X11\",\"DPoS\",\"NIST5\",\"X13\",\"Multiple\",\"Scrypt\",\"CryptoNight\",\"CryptoNight\",\"Ethash\",\"NIST5\",\"Quark\",\"X11\",\"CryptoNight-V7\",\"Scrypt\",\"Scrypt\",\"Scrypt\",\"X11\",\"BLAKE256\",\"X11\",\"NeoScrypt\",\"Quark\",\"NeoScrypt\",\"Scrypt\",\"Scrypt\",\"Scrypt\",\"X11\",\"X11\",\"SHA-256\",\"C11\",\"POS 3.0\",\"Ethash\",\"Scrypt\",\"CryptoNight\",\"SkunkHash\",\"Scrypt\",\"CryptoNight\",\"Scrypt\",\"Dagger\",\"Lyra2REv2\",\"X13\",\"Proof-of-BibleHash\",\"SHA-256 + Hive\",\"Scrypt\",\"Scrypt\",\"X11\",\"C11\",\"Proof-of-Authority\",\"X11\",\"XEVAN\",\"Scrypt\",\"VBFT\",\"Ethash\",\"CryptoNight\",\"Scrypt\",\"IMesh\",\"NIST5\",\"Scrypt\",\"Scrypt\",\"Equihash\",\"Scrypt\",\"Lyra2Z\",\"Green Protocol\",\"PoS\",\"Scrypt\",\"Semux BFT consensus\",\"X11\",\"Quark\",\"PoS\",\"CryptoNight\",\"X16R\",\"Scrypt\",\"NIST5\",\"Lyra2RE\",\"XEVAN\",\"Tribus\",\"Scrypt\",\"Lyra2Z\",\"CryptoNight\",\"CryptoNight Heavy\",\"CryptoNight\",\"Scrypt\",\"Scrypt\",\"Jump Consistent Hash\",\"SHA-256D\",\"CryptoNight\",\"Scrypt\",\"X15\",\"Scrypt\",\"Quark\",\"SHA-256\",\"DPoS\",\"X16R\",\"HMQ1725\",\"X11\",\"X16R\",\"Quark\",\"Quark\",\"Scrypt\",\"Lyra2REv2\",\"Quark\",\"Scrypt\",\"Scrypt\",\"CryptoNight-V7\",\"Cryptonight-GPU\",\"XEVAN\",\"CryptoNight Heavy\",\"X11\",\"X11\",\"Scrypt\",\"PoS\",\"SHA-256\",\"Keccak\",\"X11\",\"X11\",\"Scrypt\",\"SHA-512\",\"X16R\",\"ECC 256K1\",\"Equihash\",\"XEVAN\",\"Lyra2Z\",\"SHA-256\",\"XEVAN\",\"X11\",\"CryptoNight\",\"Quark\",\"Blake\",\"Blake\",\"Equihash\",\"Exosis\",\"Scrypt\",\"Scrypt\",\"Equihash\",\"Quark\",\"Equihash\",\"Quark\",\"Scrypt\",\"QuBit\",\"X11\",\"Scrypt\",\"XEVAN\",\"SHA-256D\",\"X11\",\"SHA-256\",\"X13\",\"SHA-256\",\"X11\",\"DPoS\",\"Scrypt\",\"Scrypt\",\"X11\",\"NeoScrypt\",\"Scrypt\",\"Blake\",\"Scrypt\",\"SHA-256\",\"Scrypt\",\"X11\",\"Scrypt\",\"Scrypt\",\"SHA-256\",\"X11\",\"SHA-256\",\"Scrypt\",\"Scrypt\",\"Scrypt\",\"Groestl\",\"X11\",\"Scrypt\",\"PoS\",\"Scrypt\",\"Scrypt\",\"X11\",\"SHA-256\",\"DPoS\",\"Scrypt\",\"Scrypt\",\"NeoScrypt\",\"Multiple\",\"X13\",\"Equihash+Scrypt\",\"DPoS\",\"Ethash\",\"DPoS\",\"SHA-256\",\"Leased POS\",\"PoS\",\"TRC10\",\"PoS\",\"SHA-256\",\"Scrypt\",\"CryptoNight\",\"Equihash\",\"Scrypt\"],\"Class\":{\"__ndarray__\":\"AQAAAAEAAAABAAAAAAAAAAAAAAAAAAAAAQAAAAAAAAAAAAAAAAAAAAEAAAAAAAAAAQAAAAEAAAAAAAAAAQAAAAAAAAAAAAAAAQAAAAEAAAAAAAAAAAAAAAAAAAAAAAAAAAAAAAEAAAAAAAAAAAAAAAAAAAABAAAAAAAAAAEAAAAAAAAAAAAAAAEAAAABAAAAAAAAAAAAAAAAAAAAAAAAAAAAAAAAAAAAAQAAAAEAAAAAAAAAAAAAAAAAAAAAAAAAAAAAAAEAAAABAAAAAAAAAAEAAAAAAAAAAAAAAAAAAAAAAAAAAQAAAAAAAAAAAAAAAQAAAAAAAAABAAAAAQAAAAEAAAAAAAAAAAAAAAAAAAABAAAAAQAAAAEAAAABAAAAAQAAAAAAAAAAAAAAAAAAAAEAAAABAAAAAAAAAAEAAAAAAAAAAQAAAAEAAAAAAAAAAAAAAAAAAAAAAAAAAQAAAAEAAAAAAAAAAQAAAAAAAAAAAAAAAQAAAAEAAAAAAAAAAQAAAAEAAAAAAAAAAAAAAAEAAAABAAAAAAAAAAEAAAABAAAAAAAAAAEAAAAAAAAAAQAAAAAAAAABAAAAAAAAAAEAAAABAAAAAAAAAAAAAAABAAAAAAAAAAAAAAAAAAAAAQAAAAAAAAAAAAAAAAAAAAAAAAAAAAAAAQAAAAEAAAAAAAAAAAAAAAAAAAABAAAAAAAAAAEAAAAAAAAAAAAAAAEAAAAAAAAAAQAAAAAAAAABAAAAAQAAAAAAAAAAAAAAAQAAAAAAAAAAAAAAAQAAAAEAAAAAAAAAAQAAAAAAAAABAAAAAQAAAAEAAAAAAAAAAAAAAAAAAAAAAAAAAQAAAAEAAAABAAAAAQAAAAEAAAAAAAAAAAAAAAEAAAABAAAAAQAAAAEAAAABAAAAAAAAAAEAAAABAAAAAQAAAAEAAAABAAAAAAAAAAEAAAAAAAAAAQAAAAEAAAAAAAAAAQAAAAAAAAABAAAAAQAAAAAAAAABAAAAAAAAAAEAAAAAAAAAAQAAAAAAAAABAAAAAQAAAAEAAAABAAAAAAAAAAEAAAABAAAAAQAAAAEAAAABAAAAAAAAAAAAAAABAAAAAQAAAAAAAAAAAAAAAQAAAAEAAAABAAAAAQAAAAEAAAAAAAAAAQAAAAEAAAABAAAAAQAAAAEAAAABAAAAAQAAAAEAAAAAAAAAAQAAAAEAAAABAAAAAQAAAAEAAAABAAAAAAAAAAAAAAAAAAAAAQAAAAEAAAABAAAAAQAAAAAAAAABAAAAAAAAAAEAAAABAAAAAAAAAAEAAAAAAAAAAAAAAAEAAAAAAAAAAAAAAAEAAAAAAAAAAQAAAAEAAAABAAAAAAAAAAEAAAABAAAAAAAAAAEAAAABAAAAAQAAAAEAAAABAAAAAQAAAAEAAAAAAAAAAQAAAAAAAAABAAAAAQAAAAEAAAABAAAAAAAAAAEAAAAAAAAAAQAAAAAAAAAAAAAAAAAAAAAAAAABAAAAAAAAAAEAAAABAAAAAAAAAAEAAAAAAAAAAAAAAAAAAAABAAAAAAAAAAEAAAAAAAAAAAAAAAAAAAABAAAAAAAAAAEAAAAAAAAAAQAAAAEAAAABAAAAAAAAAAEAAAAAAAAAAAAAAAAAAAAAAAAAAAAAAAEAAAABAAAAAAAAAAEAAAABAAAAAQAAAAAAAAABAAAAAAAAAAEAAAAAAAAAAQAAAAAAAAABAAAAAQAAAAEAAAABAAAAAAAAAAEAAAABAAAAAAAAAAEAAAABAAAAAQAAAAAAAAAAAAAAAAAAAAAAAAABAAAAAQAAAAEAAAABAAAAAAAAAAEAAAAAAAAAAAAAAAAAAAABAAAAAQAAAAAAAAAAAAAAAQAAAAEAAAAAAAAAAQAAAAAAAAAAAAAAAAAAAAEAAAAAAAAAAAAAAAEAAAABAAAAAQAAAAAAAAAAAAAAAAAAAAEAAAABAAAAAQAAAAAAAAAAAAAAAQAAAAAAAAAAAAAAAAAAAAAAAAABAAAAAQAAAAAAAAAAAAAAAAAAAAAAAAABAAAAAQAAAAEAAAABAAAAAQAAAAEAAAAAAAAAAAAAAAAAAAAAAAAAAQAAAAEAAAABAAAAAAAAAAEAAAAAAAAAAQAAAAEAAAABAAAAAQAAAAAAAAABAAAAAQAAAAAAAAABAAAAAQAAAAAAAAAAAAAAAQAAAAAAAAABAAAAAAAAAAAAAAAAAAAAAAAAAAEAAAABAAAAAAAAAAEAAAAAAAAAAQAAAAEAAAABAAAAAQAAAAEAAAABAAAAAAAAAAAAAAAAAAAAAQAAAAEAAAABAAAAAQAAAAEAAAABAAAAAAAAAAEAAAAAAAAAAAAAAAAAAAAAAAAAAQAAAAEAAAABAAAAAQAAAAAAAAABAAAAAQAAAAAAAAABAAAAAQAAAAAAAAABAAAAAAAAAAEAAAAAAAAAAAAAAAEAAAABAAAAAAAAAAEAAAAAAAAAAAAAAAEAAAAAAAAAAAAAAAEAAAAAAAAAAQAAAAAAAAABAAAAAQAAAAAAAAABAAAAAQAAAAEAAAABAAAAAQAAAAAAAAAAAAAAAAAAAAEAAAABAAAAAQAAAAAAAAABAAAAAAAAAAEAAAAAAAAAAQAAAAEAAAABAAAAAQAAAAAAAAABAAAAAQAAAAEAAAAAAAAAAQAAAAAAAAABAAAAAAAAAAEAAAABAAAAAQAAAAAAAAAAAAAAAQAAAAEAAAABAAAAAQAAAAEAAAABAAAAAAAAAAEAAAAAAAAAAQAAAAAAAAABAAAAAQAAAAEAAAABAAAAAgAAAAEAAAABAAAAAQAAAAAAAAAAAAAAAQAAAA==\",\"dtype\":\"int32\",\"order\":\"little\",\"shape\":[532]},\"CoinName\":[\"42 Coin\",\"404Coin\",\"EliteCoin\",\"Bitcoin\",\"Ethereum\",\"Litecoin\",\"Dash\",\"Monero\",\"Ethereum Classic\",\"ZCash\",\"Bitshares\",\"DigiByte\",\"BitcoinDark\",\"PayCoin\",\"ProsperCoin\",\"KoboCoin\",\"Spreadcoin\",\"Argentum\",\"Aurora Coin\",\"BlueCoin\",\"MyriadCoin\",\"MoonCoin\",\"ZetaCoin\",\"SexCoin\",\"Quatloo\",\"EnergyCoin\",\"QuarkCoin\",\"Riecoin\",\"Digitalcoin \",\"BitBar\",\"Catcoin\",\"CryptoBullion\",\"CannaCoin\",\"CryptCoin\",\"CasinoCoin\",\"Diamond\",\"Verge\",\"DevCoin\",\"EarthCoin\",\"E-Gulden\",\"Einsteinium\",\"Emerald\",\"Exclusive Coin\",\"FlutterCoin\",\"Franko\",\"FeatherCoin\",\"GrandCoin\",\"GlobalCoin\",\"GoldCoin\",\"HoboNickels\",\"HyperStake\",\"Infinite Coin\",\"IOCoin\",\"IXcoin\",\"KrugerCoin\",\"LuckyCoin\",\"Litebar \",\"MaxCoin\",\"MegaCoin\",\"MediterraneanCoin\",\"MintCoin\",\"MinCoin\",\"MazaCoin\",\"Nautilus Coin\",\"NavCoin\",\"NobleCoin\",\"Namecoin\",\"NyanCoin\",\"OpalCoin\",\"Orbitcoin\",\"PotCoin\",\"PhoenixCoin\",\"Reddcoin\",\"RonPaulCoin\",\"StableCoin\",\"SmartCoin\",\"SuperCoin\",\"SyncCoin\",\"SysCoin\",\"TeslaCoin\",\"TigerCoin\",\"TittieCoin\",\"TorCoin\",\"TerraCoin\",\"UnbreakableCoin\",\"Unobtanium\",\"UroCoin\",\"UnitaryStatus Dollar\",\"UltraCoin\",\"ViaCoin\",\"VeriCoin\",\"Vertcoin\",\"WorldCoin\",\"X11 Coin\",\"Crypti\",\"JouleCoin\",\"StealthCoin\",\"ZCC Coin\",\"ByteCoin\",\"DigitalNote \",\"BurstCoin\",\"StorjCoin\",\"MonaCoin\",\"Neutron\",\"FairCoin\",\"Gulden\",\"RubyCoin\",\"PesetaCoin\",\"Kore\",\"Wild Beast Coin\",\"Dnotes\",\"Flo\",\"8BIT Coin\",\"Sativa Coin\",\"ArtByte\",\"Folding Coin\",\"Ucoin\",\"Unitus\",\"CypherPunkCoin\",\"OmniCron\",\"Vtorrent\",\"GreenCoin\",\"Cryptonite\",\"MasterCoin\",\"SoonCoin\",\"1Credit\",\"IslaCoin\",\"Nexus\",\"MarsCoin \",\"Crypto\",\"Anarchists Prime\",\"Droidz\",\"BowsCoin\",\"Squall Coin\",\"Song Coin\",\"BitZeny\",\"Diggits\",\"Expanse\",\"Paycon\",\"Siacoin\",\"Emercoin\",\"EverGreenCoin\",\"MindCoin\",\"I0coin\",\"Decred\",\"Revolution VR\",\"HOdlcoin\",\"EDRCoin\",\"Hitcoin\",\"Gamecredits\",\"DubaiCoin\",\"CarpeDiemCoin\",\"PWR Coin\",\"BillaryCoin\",\"GPU Coin\",\"Adzcoin\",\"SoilCoin\",\"YoCoin\",\"SibCoin\",\"EuropeCoin\",\"ZeitCoin\",\"SwingCoin\",\"SafeExchangeCoin\",\"Nebuchadnezzar\",\"Francs\",\"BolivarCoin\",\"Ratecoin\",\"Revenu\",\"Clockcoin\",\"VIP Tokens\",\"BitSend\",\"Omni\",\"Let it Ride\",\"PutinCoin\",\"iBankCoin\",\"Frankywillcoin\",\"MudraCoin\",\"PizzaCoin\",\"Lutetium Coin\",\"Komodo\",\"GoldBlocks\",\"CarterCoin\",\"Karbo\",\"BitTokens\",\"ZayedCoin\",\"MustangCoin\",\"ZoneCoin\",\"Circuits of Value\",\"RootCoin\",\"DopeCoin\",\"BitCurrency\",\"DollarCoin\",\"Swiscoin\",\"Shilling\",\"BuzzCoin\",\"Opair\",\"PesoBit\",\"Halloween Coin\",\"ZCoin\",\"CoffeeCoin\",\"RoyalCoin\",\"GanjaCoin V2\",\"TeamUP\",\"LanaCoin\",\"Elementrem\",\"ZClassic\",\"ARK\",\"InsaneCoin\",\"KiloCoin\",\"ArtexCoin\",\"EmberCoin\",\"XenixCoin\",\"FreeCoin\",\"PLNCoin\",\"AquariusCoin\",\"Kurrent\",\"Creatio\",\"Eternity\",\"Eurocoin\",\"BitcoinFast\",\"Stakenet\",\"BitConnect Coin\",\"MoneyCoin\",\"Enigma\",\"Cannabis Industry Coin\",\"Russiacoin\",\"PandaCoin\",\"GameUnits\",\"GAKHcoin\",\"Allsafe\",\"LiteCreed\",\"OsmiumCoin\",\"Bikercoins\",\"HexxCoin\",\"Klingon Empire Darsek\",\"Internet of People\",\"KushCoin\",\"Printerium\",\"PacCoin\",\"Impeach\",\"Citadel\",\"Zilbercoin\",\"FirstCoin\",\"BeaverCoin\",\"FindCoin\",\"VaultCoin\",\"Zero\",\"OpenChat\",\"Canada eCoin\",\"Zoin\",\"RenosCoin\",\"DubaiCoin\",\"VirtacoinPlus\",\"TajCoin\",\"Impact\",\"EB3coin\",\"Atmos\",\"HappyCoin\",\"Coinonat\",\"MacronCoin\",\"Condensate\",\"Independent Money System\",\"ArgusCoin\",\"LomoCoin\",\"ProCurrency\",\"GoldReserve\",\"BenjiRolls\",\"GrowthCoin\",\"ILCoin\",\"Phreak\",\"Degas Coin\",\"HTML5 Coin\",\"Ultimate Secure Cash\",\"EquiTrader\",\"QTUM\",\"Quantum Resistant Ledger\",\"Espers\",\"Dynamic\",\"Nano\",\"ChanCoin\",\"Dinastycoin\",\"Denarius\",\"DigitalPrice\",\"Virta Unique Coin\",\"Bitcoin Planet\",\"Unify\",\"BritCoin\",\"SocialCoin\",\"ArcticCoin\",\"DAS\",\"Linda\",\"LeviarCoin\",\"DeepOnion\",\"Bitcore\",\"gCn Coin\",\"SmartCash\",\"Signatum\",\"Onix\",\"Cream\",\"Bitcoin Cash\",\"Monoeci\",\"Draftcoin\",\"Vechain\",\"Sojourn Coin\",\"Stakecoin\",\"NewYorkCoin\",\"FrazCoin\",\"Kronecoin\",\"AdCoin\",\"Linx\",\"CoinonatX\",\"Ethereum Dark\",\"Sumokoin\",\"Obsidian\",\"Cardano\",\"Regalcoin\",\"BitcoinZ\",\"TrezarCoin\",\"Elements\",\"TerraNovaCoin\",\"VIVO Coin\",\"Rupee\",\"Bitcoin Gold\",\"WomenCoin\",\"Theresa May Coin\",\"NamoCoin\",\"LUXCoin\",\"Pirl\",\"Xios\",\"Bitcloud 2.0\",\"eBoost\",\"KekCoin\",\"BlackholeCoin\",\"Infinity Economics\",\"Pura\",\"Innova\",\"Ellaism\",\"GoByte\",\"Magnet\",\"Lamden Tau\",\"Electra\",\"Bitcoin Diamond\",\"SHIELD\",\"Cash & Back Coin\",\"UltraNote\",\"BitCoal\",\"DaxxCoin\",\"Bulwark\",\"Kalkulus\",\"AC3\",\"Lethean\",\"GermanCoin\",\"LiteCoin Ultra\",\"PopularCoin\",\"PhantomX\",\"Photon\",\"Sucre\",\"SparksPay\",\"Digiwage\",\"GunCoin\",\"IrishCoin\",\"Trollcoin\",\"Litecoin Plus\",\"Monkey Project\",\"Pioneer Coin\",\"UnitedBitcoin\",\"Interzone\",\"TokenPay\",\"1717 Masonic Commemorative Token\",\"My Big Coin\",\"TurtleCoin\",\"MUNcoin\",\"Unified Society USDEX\",\"Niobio Cash\",\"ShareChain\",\"Travelflex\",\"KREDS\",\"Tokyo Coin\",\"BiblePay\",\"LitecoinCash\",\"BitFlip\",\"LottoCoin\",\"Crypto Improvement Fund\",\"Stipend\",\"Poa Network\",\"Pushi\",\"Ellerium\",\"Velox\",\"Ontology\",\"Callisto Network\",\"BitTube\",\"Poseidon\",\"Aidos Kuneen\",\"Bitspace\",\"Briacoin\",\"Ignition\",\"Bitrolium\",\"MedicCoin\",\"Alpenschillling\",\"Bitcoin Green\",\"Deviant Coin\",\"Abjcoin\",\"Semux\",\"FuturoCoin\",\"Carebit\",\"Zealium\",\"Monero Classic\",\"Proton\",\"iDealCash\",\"Jumpcoin\",\"Infinex\",\"Bitcoin Incognito\",\"KEYCO\",\"HollyWoodCoin\",\"GINcoin\",\"PlatinCoin\",\"Loki\",\"Newton Coin\",\"Swisscoin\",\"Xt3ch\",\"MassGrid\",\"TheVig\",\"PluraCoin\",\"EmaratCoin\",\"Dekado\",\"Lynx\",\"Poseidon Quark\",\"BitcoinWSpectrum\",\"Muse\",\"Motion\",\"PlusOneCoin\",\"Axe\",\"Trivechain\",\"Dystem\",\"Giant\",\"Peony Coin\",\"Absolute Coin\",\"Vitae\",\"HexCoin\",\"TPCash\",\"Webchain\",\"Ryo\",\"Urals Coin\",\"Qwertycoin\",\"ARENON\",\"EUNO\",\"MMOCoin\",\"Ketan\",\"Project Pai\",\"XDNA\",\"PAXEX\",\"Azart\",\"ThunderStake\",\"Kcash\",\"Xchange\",\"Acute Angle Cloud\",\"CrypticCoin\",\"Bettex coin\",\"Actinium\",\"Bitcoin SV\",\"BitMoney\",\"Junson Ming Chan Coin\",\"FREDEnergy\",\"HerbCoin\",\"Universal Molecule\",\"Lithium\",\"PirateCash\",\"Exosis\",\"Block-Logic\",\"Oduwa\",\"Beam\",\"Galilel\",\"Bithereum\",\"Crypto Sports\",\"Credit\",\"SLICE\",\"Dash Platinum\",\"Nasdacoin\",\"Beetle Coin\",\"Titan Coin\",\"Award\",\"BLAST\",\"Bitcoin Rhodium\",\"GlobalToken\",\"Insane Coin\",\"ALAX\",\"LiteDoge\",\"SolarCoin\",\"TruckCoin\",\"UFO Coin\",\"OrangeCoin\",\"BlakeCoin\",\"BitstarCoin\",\"NeosCoin\",\"HyperCoin\",\"PinkCoin\",\"Crypto Escudo\",\"AudioCoin\",\"IncaKoin\",\"Piggy Coin\",\"Crown Coin\",\"Genstake\",\"SmileyCoin\",\"XiaoMiCoin\",\"Groestlcoin\",\"CapriCoin\",\" ClubCoin\",\"Radium\",\"Bata\",\"Pakcoin\",\"Creditbit \",\"OKCash\",\"Lisk\",\"HiCoin\",\"WhiteCoin\",\"FriendshipCoin\",\"JoinCoin\",\"Triangles Coin\",\"Vollar\",\"EOS\",\"Reality Clash\",\"Oxycoin\",\"TigerCash\",\"Waves\",\"Particl\",\"BitTorrent\",\"Nxt\",\"ZEPHYR\",\"Gapcoin\",\"Beldex\",\"Horizen\",\"BitcoinPlus\"],\"ProofType\":[\"PoW/PoS\",\"PoW/PoS\",\"PoW/PoS\",\"PoW\",\"PoW\",\"PoW\",\"PoW/PoS\",\"PoW\",\"PoW\",\"PoW\",\"PoS\",\"PoW\",\"PoW/PoS\",\"PoS\",\"PoW\",\"PoW/PoS\",\"PoW\",\"PoW\",\"PoW/PoS\",\"PoW/PoS\",\"PoW\",\"PoW\",\"PoW\",\"PoW\",\"PoW\",\"PoW/PoS\",\"PoW\",\"PoW\",\"PoW\",\"PoW/PoS\",\"PoW\",\"PoW/PoS\",\"PoW\",\"PoW\",\"PoC\",\"PoW/PoS\",\"PoW\",\"PoW\",\"PoW\",\"PoW\",\"PoW\",\"PoW\",\"PoS\",\"PoS/PoW/PoT\",\"PoW\",\"PoW\",\"PoW\",\"PoW\",\"PoW\",\"PoW/PoS\",\"PoS\",\"PoW\",\"PoW/PoS\",\"PoW\",\"PoW\",\"PoW\",\"PoW\",\"PoW/PoS\",\"PoW\",\"PoW\",\"PoS\",\"PoW\",\"PoW/PoS\",\"PoS\",\"PoW/PoS\",\"PoW\",\"PoW\",\"PoW\",\"PoW/PoS\",\"PoW/PoS\",\"PoW/PoS\",\"PoW/PoS\",\"PoW/PoS\",\"PoW\",\"PoW\",\"PoW\",\"PoS\",\"PoW/PoS\",\"PoW\",\"PoS\",\"PoW\",\"PoS\",\"PoW/PoS\",\"PoW\",\"PoW\",\"PoW\",\"PoW\",\"PoW/PoS\",\"PoW/PoS\",\"PoW\",\"PoST\",\"PoW\",\"PoW\",\"PoW/PoS\",\"PoS\",\"PoW\",\"PoW/PoS\",\"PoW/PoS\",\"PoW\",\"PoW\",\"PoC\",\"PoS\",\"PoW\",\"PoW/PoS\",\"PoW/PoS\",\"PoW\",\"PoS\",\"PoW\",\"PoW/PoS\",\"PoW\",\"PoS\",\"PoW\",\"PoW/PoS\",\"PoW/PoS\",\"PoW\",\"PoW\",\"PoS\",\"PoW\",\"PoW\",\"PoW\",\"PoW/PoS\",\"PoW\",\"PoW\",\"PoW\",\"PoW\",\"PoW\",\"PoW/PoS\",\"PoW/nPoS\",\"PoW\",\"PoW\",\"PoW\",\"PoW/PoS\",\"PoW\",\"PoS/PoW\",\"PoW\",\"PoW\",\"PoS\",\"PoW\",\"PoW/PoS\",\"PoW\",\"PoW/PoS\",\"PoW/PoS\",\"PoW\",\"PoW\",\"PoW/PoS\",\"PoW\",\"PoW\",\"PoW/PoS\",\"PoW/PoS\",\"PoW\",\"PoW/PoS\",\"PoW\",\"PoW/PoS\",\"PoW/PoS\",\"PoS\",\"PoW\",\"PoW\",\"PoW\",\"PoW\",\"PoW/PoS\",\"PoS\",\"PoW/PoS\",\"PoC\",\"PoS\",\"PoW\",\"PoW\",\"PoW/PoS\",\"PoW/PoS\",\"PoW/PoS\",\"PoW/PoS\",\"PoW/PoS\",\"PoW\",\"PoS\",\"PoW/PoS\",\"PoW/PoS\",\"PoW/PoS\",\"PoS\",\"PoW\",\"PoS\",\"dPoW/PoW\",\"PoW/PoS\",\"PoW/PoS\",\"PoW\",\"PoW/PoS\",\"PoW\",\"PoW/PoS\",\"PoW/PoS\",\"PoW\",\"PoW/PoS\",\"PoW\",\"PoS\",\"PoW\",\"PoW/PoW\",\"PoW\",\"PoW/PoS\",\"PoS\",\"PoW/PoS\",\"PoW/PoS\",\"PoW\",\"PoS\",\"PoS\",\"PoW/PoS\",\"PoS\",\"PoW/PoS\",\"PoW\",\"PoW\",\"DPoS\",\"PoW/PoS\",\"PoW\",\"PoW\",\"PoW/PoS\",\"PoW/PoS\",\"PoS\",\"PoW/PoS\",\"PoW/PoS\",\"PoW\",\"PoS\",\"PoW/PoS\",\"PoW/PoS\",\"PoW/PoS\",\"TPoS\",\"PoW/PoS\",\"PoW/PoS\",\"PoW/PoS\",\"PoW\",\"PoW/PoS\",\"PoS\",\"PoW/PoS\",\"PoW/PoS\",\"PoS\",\"PoW/PoS\",\"PoW\",\"PoW\",\"PoW\",\"PoW/PoS\",\"PoW/PoS\",\"PoW/PoS\",\"PoW/PoS\",\"PoW\",\"PoW/PoS\",\"PoW\",\"PoS\",\"PoW/PoS \",\"PoW\",\"PoS\",\"PoW\",\"PoW\",\"PoW/PoS\",\"PoW\",\"PoW\",\"PoS\",\"PoW\",\"PoW/PoS\",\"PoW/PoS\",\"PoW/PoS\",\"PoW\",\"PoS\",\"PoW/PoS\",\"PoW\",\"PoS\",\"PoW/PoS\",\"PoW/PoS\",\"PoW/PoS\",\"PoW/PoS\",\"PoS\",\"PoW/PoS\",\"PoW\",\"PoS\",\"PoW\",\"PoS\",\"PoW/PoS\",\"PoW/PoS\",\"PoS\",\"PoW\",\"PoS\",\"PoW\",\"PoW/PoS\",\"PoW\",\"PoW\",\"PoW\",\"PoW\",\"PoW/PoS\",\"PoW\",\"PoW/PoS\",\"PoW/PoS\",\"PoW\",\"PoW/PoS\",\"PoW\",\"PoW\",\"PoW\",\"PoW/PoS\",\"PoW\",\"PoW/PoS\",\"PoW\",\"PoW\",\"PoW\",\"PoS\",\"PoW\",\"PoW/PoS\",\"PoW\",\"PoW/PoS\",\"PoS\",\"Proof of Authority\",\"PoW\",\"PoS\",\"PoW\",\"PoW\",\"PoW\",\"PoW\",\"PoW\",\"PoW/PoS\",\"PoW/PoS\",\"PoW\",\"PoS\",\"PoS\",\"PoW/PoS\",\"PoW\",\"PoW/PoS\",\"PoW\",\"PoW/PoS\",\"PoW\",\"PoS\",\"PoW\",\"PoW/PoS\",\"PoW/PoS\",\"PoW/PoS\",\"PoW/PoS\",\"PoW\",\"PoW/PoS\",\"PoW/PoS\",\"PoW\",\"PoS\",\"PoW/PoS\",\"PoS\",\"PoW\",\"PoW\",\"PoW\",\"PoW\",\"PoW/PoS\",\"DPoS\",\"PoW/PoS\",\"PoW/PoS\",\"PoW\",\"PoW/PoS\",\"PoW\",\"PoW\",\"PoW\",\"PoS\",\"PoS\",\"PoW\",\"PoW\",\"PoW/PoS\",\"PoW/PoS\",\"PoW\",\"PoW/PoS\",\"PoW\",\"PoW\",\"PoW\",\"PoS\",\"PoW\",\"PoW\",\"PoW/PoS\",\"PoW/PoS\",\"PoS\",\"PoW\",\"PoW\",\"PoW\",\"PoS\",\"PoS\",\"PoW and PoS\",\"PoW\",\"PoW\",\"PoW/PoS\",\"PoW\",\"PoW\",\"PoW\",\"PoW\",\"PoS\",\"POBh\",\"PoW + Hive\",\"PoW\",\"PoW\",\"PoW\",\"PoW/PoS\",\"PoA\",\"PoW/PoS\",\"PoW/PoS\",\"PoS\",\"PoS\",\"PoW\",\"PoW\",\"PoW\",\"PoW\",\"PoW/PoS\",\"PoW/PoS\",\"PoW/PoS\",\"PoW\",\"PoS\",\"PoW\",\"PoS\",\"PoS\",\"PoW/PoS\",\"DPoS\",\"PoW\",\"PoW/PoS\",\"PoS\",\"PoW\",\"PoS\",\"PoW/PoS\",\"PoW\",\"PoW\",\"PoS/PoW\",\"PoW\",\"PoS\",\"PoW\",\"PoW\",\"PoW\",\"PoW\",\"PoW/PoS\",\"PoS\",\"PoW\",\"PoW/PoS\",\"PoW\",\"PoW/PoS\",\"PoS\",\"HPoW\",\"PoS\",\"PoS\",\"PoS\",\"PoW\",\"PoW\",\"PoW\",\"PoW/PoS\",\"PoS\",\"PoW/PoS\",\"PoS\",\"PoW/PoS\",\"PoS\",\"PoW\",\"PoW/PoS\",\"PoW\",\"PoW\",\"PoW\",\"PoW\",\"PoS\",\"PoW/PoS\",\"PoS\",\"PoS\",\"PoW\",\"PoW/PoS\",\"PoS\",\"PoW\",\"PoW/PoS\",\"Zero-Knowledge Proof\",\"PoW\",\"DPOS\",\"PoW\",\"PoS\",\"PoW\",\"PoW\",\"Pos\",\"PoS\",\"PoW\",\"PoW/PoS\",\"PoW\",\"PoW\",\"PoS\",\"PoW\",\"PoW\",\"PoW/PoS\",\"PoW\",\"PoW/PoS\",\"PoW\",\"PoS\",\"PoW/PoS\",\"PoW\",\"PoS\",\"PoW/PoS\",\"PoW/PoS\",\"PoW/PoS\",\"PoW/PoS\",\"PoW\",\"PoW\",\"PoW\",\"PoW/PoS\",\"DPoS\",\"PoW/PoS\",\"PoW\",\"PoW/PoS\",\"PoW\",\"PoW/PoS\",\"PoW\",\"PoW/PoS\",\"PoS\",\"PoW/PoS\",\"PoW/PoS\",\"PoW\",\"PoW/PoS\",\"PoW/PoS\",\"PoW/PoS\",\"PoW\",\"PoW/PoS\",\"PoW\",\"PoW/PoS\",\"PoW\",\"PoW/PoS\",\"PoW/PoS\",\"PoS\",\"PoW\",\"PoW\",\"Proof of Trust\",\"PoW/PoS\",\"DPoS\",\"PoS\",\"PoW/PoS\",\"PoW/PoS\",\"PoW\",\"PoW/PoS\",\"PoW\",\"DPoS\",\"PoW\",\"DPoS\",\"PoS\",\"LPoS\",\"PoS\",\"DPoS\",\"PoS/LPoS\",\"DPoS\",\"PoW/PoS\",\"PoW\",\"PoW\",\"PoS\"],\"TotalCoinSupply\":[\"42\",\"532000000\",\"314159265359\",\"21000000\",\"0\",\"84000000\",\"22000000\",\"0\",\"210000000\",\"21000000\",\"3600570502\",\"21000000000\",\"22000000\",\"12500000\",\"21000000\",\"350000000\",\"20000000\",\"64000000\",\"16768584\",\"0\",\"2000000000\",\"384000000000\",\"169795588\",\"250000000\",\"100000000\",\"0\",\"247000000\",\"84000000\",\"48166000\",\"500000\",\"21000000 \",\"1000000\",\"13140000\",\"18000000\",\"40000000000\",\"4380000\",\"16555000000\",\"21000000000\",\"13500000000\",\"21000000 \",\"299792458\",\"32000000\",\"0\",\"0\",\"11235813\",\"336000000\",\"1420609614\",\"70000000\",\"72245700\",\"120000000\",\"0\",\"90600000000\",\"22000000\",\"21000000\",\"265420800\",\"20000000\",\"1350000\",\"100000000\",\"42000000\",\"200000000\",\"0\",\"10000000\",\"2419200000\",\"16180000\",\"0\",\"15000000000\",\"21000000\",\"337000000\",\"0\",\"3770000\",\"420000000\",\"98000000\",\"0\",\"21000000\",\"250000000\",\"51200000\",\"0\",\"1000\",\"888000000\",\"100000000\",\"47011968\",\"2300000000\",\"10000000\",\"42000000\",\"80000000\",\"250000\",\"0\",\"1600000000\",\"100000000\",\"23000000\",\"0\",\"84000000\",\"265420800\",\"5500000\",\"0\",\"45000000\",\"0\",\"1000000000\",\"184467440735\",\"10000000000\",\"2158812800\",\"500000000\",\"105120000\",\"68000000\",\"0\",\"1680000000\",\"0\",\"166386000\",\"12000000\",\"2628000\",\"500000000\",\"160000000\",\"0\",\"10000000\",\"1000000000\",\"1000000000\",\"20000000\",\"0\",\"0\",\"3371337\",\"20000000\",\"10000000000\",\"1840000000\",\"619478\",\"21000000\",\"92000000000\",\"0\",\"78000000\",\"33000000\",\"65789100\",\"53760000\",\"5060000\",\"21000000\",\"0\",\"210240000\",\"250000000\",\"100000000\",\"16906397\",\"50000000\",\"0\",\"1000000000\",\"26298000\",\"16000000\",\"21000000\",\"21000000\",\"210000000\",\"81962100\",\"22000000\",\"26550000000\",\"84000000\",\"10500000\",\"21626280000 \",\"0\",\"42000000\",\"221052632\",\"84000000\",\"30000000\",\"168351300\",\"24000000\",\"384000000\",\" 99000000000\",\"40000000\",\"2147483647\",\"20000000\",\"20000000\",\"25000000\",\"75000000\",\"222725000\",\"525000000\",\"90000000\",\"139000000\",\"616448\",\"33500000\",\"2000000000\",\"44333333\",\"100000000\",\"200000000\",\"25000000\",\"657000000\",\"200000000\",\"50000000\",\"90000000\",\"10000000\",\"21000000\",\"9736000\",\"3000000\",\"21000000\",\"1200000000\",\"0\",\"200000000\",\"0\",\"10638298\",\"3100000000\",\"30000000\",\"20000000000\",\"74000000\",\"0\",\"1500000000\",\"21400000\",\"39999898\",\"2500124\",\"100000000\",\"301000000\",\"7506000000\",\"26205539\",\"21000000\",\"125000000\",\"30000000\",\"10000000000\",\"500000000\",\"850000000\",\"3853326.77707314\",\"50000000\",\"38540000 \",\"42000000\",\"228000000\",\"20000000\",\"60000000\",\"20000000\",\"33000000\",\"76500000\",\"28000000\",\"650659833\",\"5000000\",\"21000000\",\"144000000\",\"32514916898\",\"13000000\",\"3315789\",\"15000000\",\"78835200\",\"2714286\",\"25000000\",\"9999999\",\"500000000\",\"21000000\",\"9354000\",\"20000000\",\"100000000000\",\"21933333\",\"185000000\",\"55000000\",\"110000000\",\"3360000\",\"14524851.4827\",\"1000000000\",\"17000000\",\"1000000000\",\"100000000 \",\"21000000\",\"34426423\",\"2232901\",\"100000000\",\"36900000\",\"110000000\",\"4000000000\",\"110290030\",\"100000000\",\"48252000\",\"400000000\",\"500000000\",\"21212121\",\"28600000\",\"1000000000\",\"75000000000\",\"40000000\",\"35520400\",\"2000000000\",\"2500000000\",\"30000000\",\"105000000\",\"90000000000\",\"200084200\",\"72000000\",\"100000000\",\"105000000\",\"50000000000\",\"0\",\"340282367\",\"30000000\",\"2000000000\",\"10000000\",\"100000000\",\"120000000\",\"100000000\",\"19276800\",\"30000000\",\" 75000000\",\"60000000\",\"18900000\",\"50000000000\",\"54000000\",\"18898187.6216583\",\"21000000\",\"200000000000\",\"5000000000\",\"137500000\",\"1100000000\",\"100000000\",\"21000000\",\"9507271\",\"17405891.19707116\",\"86712634466\",\"10500000000\",\"61599965\",\"0\",\"20000000\",\"84000000\",\"100000000\",\"100000000\",\"48252000\",\"4200000\",\"88888888\",\"91388946\",\"45000000000\",\"27000000\",\"21000000000\",\"400000000\",\"1800000000\",\"15733333\",\"27000000\",\"24000000\",\"21000000\",\"25000000000\",\"100000000\",\"1200000000\",\"60000000\",\"156306732.71\",\"21000000\",\"200000000\",\"100000000\",\"21000000\",\"14788275.991\",\"9000000000\",\"350000000\",\"45000000\",\"280000000\",\"31800000\",\"144000000\",\"500000000\",\"30000000000\",\"210000000\",\"660000000\",\"210000000\",\"85000000000\",\"12500000\",\"10000000000\",\"27716121\",\"20000000\",\"550000000\",\"999481516\",\"50000000000\",\"150000000\",\"4999999999\",\"50000000\",\" 90000000000\",\"19800000\",\"21000000\",\"120000000\",\"500000000\",\"64000000\",\"900000000\",\"4000000\",\"21000000\",\"23000000\",\"20166000\",\"23000000\",\"25000000\",\"1618033\",\"30000000\",\"1000000000000\",\"16600000\",\"232000000\",\"336000000\",\"10000000000\",\"100000000\",\"1100000000\",\"800000000\",\"5200000000\",\"840000000\",\"40000000\",\"18406979840\",\"500000000\",\"19340594\",\"252460800\",\"25000000\",\"60000000\",\"124000000\",\"1000000000\",\"6500000000\",\"1000000000\",\"21000000\",\"25000000\",\"50000000\",\"3000000\",\"5000000\",\"70000000\",\"500000000\",\"300000000\",\"21000000\",\"88000000\",\"30000000\",\"100000000\",\"100000000\",\"200000000\",\"80000000\",\"18400000\",\"45000000\",\"5121951220\",\"21000000\",\"26280000\",\"21000000\",\"18000000\",\"26000000\",\"10500000\",\"600000518\",\"150000000\",\"184000000000\",\"10200000000\",\"44000000\",\"168000000\",\"100000000\",\"1000000000\",\"84000000\",\"90000000\",\"92000000000\",\"650000000 \",\"100262205\",\"18081806 \",\"22075700\",\"21000000\",\"21000000\",\"82546564\",\"21000000\",\"5151000\",\"16880000000\",\"52500000\",\"100000000\",\"22105263\",\"1000000000\",\"1750000000\",\"88188888\",\"210000000\",\"184470000000\",\"55000000\",\"50000000\",\"260000000\",\"210000000\",\"2100000000\",\"366000000\",\"100000000\",\"25000000\",\"18000000000\",\"1000000000\",\"100000000\",\"1000000000\",\"7600000000\",\"50000000\",\"84000000\",\"21000000\",\"70000000000\",\"0\",\"8080000000\",\"54000000\",\"105120001.44\",\"25228800\",\"105000000\",\"21000000\",\"120000000\",\"21000000\",\"262800000\",\"19035999\",\"30886000\",\"13370000\",\"74800000000\",\"100000000\",\"19700000\",\"84000000\",\"500000000\",\"5000000000\",\"420000000\",\"64000000\",\"2100000\",\"168000000\",\"30000000\",\"1000000000\",\"35000000000\",\"98100000000\",\"0\",\"4000000000\",\"200000000\",\"7000000000\",\"54256119\",\"21000000\",\"0\",\"500000000\",\"1000000000\",\"10500000000\",\"190000000\",\"1000000000\",\"42000000\",\"15000000\",\"50000000000\",\"400000000\",\"105000000\",\"208000000\",\"160000000\",\"9000000\",\"5000000\",\"182000000\",\"16504333\",\"105000000\",\"159918400\",\"10008835635\",\"300000000\",\"60168145\",\"2800000\",\"120000\",\"2100000000\",\"0\",\"24487944\",\"0\",\"1000000000\",\"100000000\",\"8634140\",\"990000000000\",\"1000000000\",\"2000000000\",\"250000000\",\"1400222610\",\"21000000\",\"1000000\"],\"TotalCoinsMined\":{\"__ndarray__\":\"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\",\"dtype\":\"float64\",\"order\":\"little\",\"shape\":[532]}},\"selected\":{\"id\":\"1123\"},\"selection_policy\":{\"id\":\"1157\"}},\"id\":\"1122\",\"type\":\"ColumnDataSource\"},{\"attributes\":{\"format\":\"0,0.0[00000]\"},\"id\":\"1144\",\"type\":\"NumberFormatter\"},{\"attributes\":{},\"id\":\"1130\",\"type\":\"StringEditor\"},{\"attributes\":{\"margin\":[5,5,5,5],\"name\":\"HSpacer01800\",\"sizing_mode\":\"stretch_width\"},\"id\":\"1121\",\"type\":\"Spacer\"},{\"attributes\":{\"editor\":{\"id\":\"1130\"},\"field\":\"Algorithm\",\"formatter\":{\"id\":\"1129\"},\"title\":\"Algorithm\"},\"id\":\"1131\",\"type\":\"TableColumn\"},{\"attributes\":{},\"id\":\"1145\",\"type\":\"NumberEditor\"},{\"attributes\":{},\"id\":\"1134\",\"type\":\"StringFormatter\"}],\"root_ids\":[\"1120\"]},\"title\":\"Bokeh Application\",\"version\":\"2.4.2\"}};\n",
       "    var render_items = [{\"docid\":\"6c0c5850-8771-414d-b5fc-3e4eb2e31592\",\"root_ids\":[\"1120\"],\"roots\":{\"1120\":\"057e17b8-61d7-4809-bdcb-d3784f606211\"}}];\n",
       "    root.Bokeh.embed.embed_items_notebook(docs_json, render_items);\n",
       "  }\n",
       "  if (root.Bokeh !== undefined && root.Bokeh.Panel !== undefined) {\n",
       "    embed_document(root);\n",
       "  } else {\n",
       "    var attempts = 0;\n",
       "    var timer = setInterval(function(root) {\n",
       "      if (root.Bokeh !== undefined && root.Bokeh.Panel !== undefined) {\n",
       "        clearInterval(timer);\n",
       "        embed_document(root);\n",
       "      } else if (document.readyState == \"complete\") {\n",
       "        attempts++;\n",
       "        if (attempts > 200) {\n",
       "          clearInterval(timer);\n",
       "          console.log(\"Bokeh: ERROR: Unable to run BokehJS code because BokehJS library is missing\");\n",
       "        }\n",
       "      }\n",
       "    }, 25, root)\n",
       "  }\n",
       "})(window);</script>"
      ],
      "text/plain": [
       ":Table   [CoinName,Algorithm,ProofType,TotalCoinSupply,TotalCoinsMined,Class]"
      ]
     },
     "execution_count": 141,
     "metadata": {
      "application/vnd.holoviews_exec.v0+json": {
       "id": "1120"
      }
     },
     "output_type": "execute_result"
    }
   ],
   "source": [
    "# Create a table with tradable cryptocurrencies.\n",
    "# https://hvplot.holoviz.org/reference/pandas/table.html#table\n",
    "clustered_df.hvplot.table(columns=['CoinName', 'Algorithm', 'ProofType', 'TotalCoinSupply','TotalCoinsMined','Class'], sortable=True, selectable=True)"
   ]
  },
  {
   "cell_type": "code",
   "execution_count": 143,
   "metadata": {},
   "outputs": [
    {
     "name": "stdout",
     "output_type": "stream",
     "text": [
      "There are 532 tradable cyprocurencies.\n"
     ]
    }
   ],
   "source": [
    "# Print the total number of tradable cryptocurrencies.\n",
    "print(f\"There are {clustered_df['CoinName'].count()} tradable cyprocurencies.\")"
   ]
  },
  {
   "cell_type": "code",
   "execution_count": 144,
   "metadata": {},
   "outputs": [
    {
     "data": {
      "text/plain": [
       "array([[4.20000000e-11, 0.00000000e+00],\n",
       "       [5.32000000e-04, 1.06585544e-03],\n",
       "       [3.14159265e-01, 2.95755135e-02],\n",
       "       ...,\n",
       "       [1.40022261e-03, 9.90135079e-04],\n",
       "       [2.10000000e-05, 7.37028150e-06],\n",
       "       [1.00000000e-06, 1.29582282e-07]])"
      ]
     },
     "execution_count": 144,
     "metadata": {},
     "output_type": "execute_result"
    }
   ],
   "source": [
    "# Scaling data to create the scatter plot with tradable cryptocurrencies\n",
    "# https://scikit-learn.org/stable/modules/generated/sklearn.preprocessing.MinMaxScaler.html#sklearn.preprocessing.MinMaxScaler.fit_transform\n",
    "df = pd.DataFrame(clustered_df,columns=['TotalCoinSupply','TotalCoinsMined'],index = clustered_df.index\n",
    ")\n",
    "X_scaled = MinMaxScaler().fit_transform(df)\n",
    "X_scaled"
   ]
  },
  {
   "cell_type": "code",
   "execution_count": 145,
   "metadata": {},
   "outputs": [
    {
     "data": {
      "text/html": [
       "<div>\n",
       "<style scoped>\n",
       "    .dataframe tbody tr th:only-of-type {\n",
       "        vertical-align: middle;\n",
       "    }\n",
       "\n",
       "    .dataframe tbody tr th {\n",
       "        vertical-align: top;\n",
       "    }\n",
       "\n",
       "    .dataframe thead th {\n",
       "        text-align: right;\n",
       "    }\n",
       "</style>\n",
       "<table border=\"1\" class=\"dataframe\">\n",
       "  <thead>\n",
       "    <tr style=\"text-align: right;\">\n",
       "      <th></th>\n",
       "      <th>TotalCoinSupply</th>\n",
       "      <th>TotalCoinsMined</th>\n",
       "      <th>CoinName</th>\n",
       "      <th>Class</th>\n",
       "    </tr>\n",
       "  </thead>\n",
       "  <tbody>\n",
       "    <tr>\n",
       "      <th>42</th>\n",
       "      <td>4.200000e-11</td>\n",
       "      <td>0.000000</td>\n",
       "      <td>42 Coin</td>\n",
       "      <td>1</td>\n",
       "    </tr>\n",
       "    <tr>\n",
       "      <th>404</th>\n",
       "      <td>5.320000e-04</td>\n",
       "      <td>0.001066</td>\n",
       "      <td>404Coin</td>\n",
       "      <td>1</td>\n",
       "    </tr>\n",
       "    <tr>\n",
       "      <th>1337</th>\n",
       "      <td>3.141593e-01</td>\n",
       "      <td>0.029576</td>\n",
       "      <td>EliteCoin</td>\n",
       "      <td>1</td>\n",
       "    </tr>\n",
       "    <tr>\n",
       "      <th>BTC</th>\n",
       "      <td>2.100000e-05</td>\n",
       "      <td>0.000018</td>\n",
       "      <td>Bitcoin</td>\n",
       "      <td>0</td>\n",
       "    </tr>\n",
       "    <tr>\n",
       "      <th>ETH</th>\n",
       "      <td>0.000000e+00</td>\n",
       "      <td>0.000109</td>\n",
       "      <td>Ethereum</td>\n",
       "      <td>0</td>\n",
       "    </tr>\n",
       "    <tr>\n",
       "      <th>LTC</th>\n",
       "      <td>8.400000e-05</td>\n",
       "      <td>0.000064</td>\n",
       "      <td>Litecoin</td>\n",
       "      <td>0</td>\n",
       "    </tr>\n",
       "    <tr>\n",
       "      <th>DASH</th>\n",
       "      <td>2.200000e-05</td>\n",
       "      <td>0.000009</td>\n",
       "      <td>Dash</td>\n",
       "      <td>1</td>\n",
       "    </tr>\n",
       "    <tr>\n",
       "      <th>XMR</th>\n",
       "      <td>0.000000e+00</td>\n",
       "      <td>0.000017</td>\n",
       "      <td>Monero</td>\n",
       "      <td>0</td>\n",
       "    </tr>\n",
       "    <tr>\n",
       "      <th>ETC</th>\n",
       "      <td>2.100000e-04</td>\n",
       "      <td>0.000115</td>\n",
       "      <td>Ethereum Classic</td>\n",
       "      <td>0</td>\n",
       "    </tr>\n",
       "    <tr>\n",
       "      <th>ZEC</th>\n",
       "      <td>2.100000e-05</td>\n",
       "      <td>0.000007</td>\n",
       "      <td>ZCash</td>\n",
       "      <td>0</td>\n",
       "    </tr>\n",
       "  </tbody>\n",
       "</table>\n",
       "</div>"
      ],
      "text/plain": [
       "      TotalCoinSupply  TotalCoinsMined          CoinName  Class\n",
       "42       4.200000e-11         0.000000           42 Coin      1\n",
       "404      5.320000e-04         0.001066           404Coin      1\n",
       "1337     3.141593e-01         0.029576         EliteCoin      1\n",
       "BTC      2.100000e-05         0.000018           Bitcoin      0\n",
       "ETH      0.000000e+00         0.000109          Ethereum      0\n",
       "LTC      8.400000e-05         0.000064          Litecoin      0\n",
       "DASH     2.200000e-05         0.000009              Dash      1\n",
       "XMR      0.000000e+00         0.000017            Monero      0\n",
       "ETC      2.100000e-04         0.000115  Ethereum Classic      0\n",
       "ZEC      2.100000e-05         0.000007             ZCash      0"
      ]
     },
     "execution_count": 145,
     "metadata": {},
     "output_type": "execute_result"
    }
   ],
   "source": [
    "# Create a new DataFrame that has the scaled data with the clustered_df DataFrame index.\n",
    "new_clustered_df = pd.DataFrame(X_scaled,columns=['TotalCoinSupply','TotalCoinsMined'], index=clustered_df.index)\n",
    "\n",
    "# Add the \"CoinName\" column from the clustered_df DataFrame to the new DataFrame.\n",
    "new_clustered_df = new_clustered_df.assign(CoinName = cryptoname_df)\n",
    "\n",
    "# Add the \"Class\" column from the clustered_df DataFrame to the new DataFrame. \n",
    "new_clustered_df = new_clustered_df.assign(Class = predictions)\n",
    "\n",
    "new_clustered_df.head(10)\n"
   ]
  },
  {
   "cell_type": "code",
   "execution_count": 172,
   "metadata": {},
   "outputs": [
    {
     "data": {},
     "metadata": {},
     "output_type": "display_data"
    },
    {
     "data": {
      "application/vnd.holoviews_exec.v0+json": "",
      "text/html": [
       "<div id='7949'>\n",
       "\n",
       "\n",
       "\n",
       "\n",
       "\n",
       "  <div class=\"bk-root\" id=\"3ce7cf19-6e98-4b5a-ad20-5d185138625f\" data-root-id=\"7949\"></div>\n",
       "</div>\n",
       "<script type=\"application/javascript\">(function(root) {\n",
       "  function embed_document(root) {\n",
       "    var docs_json = {\"a0de0a50-f563-4f74-9d24-7af320236d6d\":{\"defs\":[{\"extends\":null,\"module\":null,\"name\":\"ReactiveHTML1\",\"overrides\":[],\"properties\":[]},{\"extends\":null,\"module\":null,\"name\":\"FlexBox1\",\"overrides\":[],\"properties\":[{\"default\":\"flex-start\",\"kind\":null,\"name\":\"align_content\"},{\"default\":\"flex-start\",\"kind\":null,\"name\":\"align_items\"},{\"default\":\"row\",\"kind\":null,\"name\":\"flex_direction\"},{\"default\":\"wrap\",\"kind\":null,\"name\":\"flex_wrap\"},{\"default\":\"flex-start\",\"kind\":null,\"name\":\"justify_content\"}]},{\"extends\":null,\"module\":null,\"name\":\"GridStack1\",\"overrides\":[],\"properties\":[{\"default\":\"warn\",\"kind\":null,\"name\":\"mode\"},{\"default\":null,\"kind\":null,\"name\":\"ncols\"},{\"default\":null,\"kind\":null,\"name\":\"nrows\"},{\"default\":true,\"kind\":null,\"name\":\"allow_resize\"},{\"default\":true,\"kind\":null,\"name\":\"allow_drag\"},{\"default\":[],\"kind\":null,\"name\":\"state\"}]},{\"extends\":null,\"module\":null,\"name\":\"click1\",\"overrides\":[],\"properties\":[{\"default\":\"\",\"kind\":null,\"name\":\"terminal_output\"},{\"default\":\"\",\"kind\":null,\"name\":\"debug_name\"},{\"default\":0,\"kind\":null,\"name\":\"clears\"}]},{\"extends\":null,\"module\":null,\"name\":\"TemplateActions1\",\"overrides\":[],\"properties\":[{\"default\":0,\"kind\":null,\"name\":\"open_modal\"},{\"default\":0,\"kind\":null,\"name\":\"close_modal\"}]},{\"extends\":null,\"module\":null,\"name\":\"MaterialTemplateActions1\",\"overrides\":[],\"properties\":[{\"default\":0,\"kind\":null,\"name\":\"open_modal\"},{\"default\":0,\"kind\":null,\"name\":\"close_modal\"}]}],\"roots\":{\"references\":[{\"attributes\":{\"fill_alpha\":{\"value\":0.4},\"fill_color\":{\"value\":\"#e5ae38\"},\"hatch_alpha\":{\"value\":0.4},\"hatch_color\":{\"value\":\"#e5ae38\"},\"line_alpha\":{\"value\":0.4},\"line_width\":{\"value\":0.5},\"size\":{\"value\":7.0710678118654755},\"x\":{\"field\":\"TotalCoinsMined\"},\"y\":{\"field\":\"TotalCoinSupply\"}},\"id\":\"8038\",\"type\":\"Scatter\"},{\"attributes\":{},\"id\":\"7977\",\"type\":\"ResetTool\"},{\"attributes\":{},\"id\":\"7990\",\"type\":\"BasicTickFormatter\"},{\"attributes\":{\"end\":1.1,\"reset_end\":1.1,\"reset_start\":-0.1,\"start\":-0.1,\"tags\":[[[\"TotalCoinSupply\",\"TotalCoinSupply\",null]]]},\"id\":\"7952\",\"type\":\"Range1d\"},{\"attributes\":{\"axis\":{\"id\":\"7969\"},\"coordinates\":null,\"dimension\":1,\"grid_line_color\":null,\"group\":null,\"ticker\":null},\"id\":\"7972\",\"type\":\"Grid\"},{\"attributes\":{\"source\":{\"id\":\"8013\"}},\"id\":\"8020\",\"type\":\"CDSView\"},{\"attributes\":{\"coordinates\":null,\"data_source\":{\"id\":\"8013\"},\"glyph\":{\"id\":\"8016\"},\"group\":null,\"hover_glyph\":null,\"muted_glyph\":{\"id\":\"8018\"},\"nonselection_glyph\":{\"id\":\"8017\"},\"selection_glyph\":{\"id\":\"8034\"},\"view\":{\"id\":\"8020\"}},\"id\":\"8019\",\"type\":\"GlyphRenderer\"},{\"attributes\":{\"data\":{\"Class\":[0,0,0,0,0,0,0,0,0,0,0,0,0,0,0,0,0,0,0,0,0,0,0,0,0,0,0,0,0,0,0,0,0,0,0,0,0,0,0,0,0,0,0,0,0,0,0,0,0,0,0,0,0,0,0,0,0,0,0,0,0,0,0,0,0,0,0,0,0,0,0,0,0,0,0,0,0,0,0,0,0,0,0,0,0,0,0,0,0,0,0,0,0,0,0,0,0,0,0,0,0,0,0,0,0,0,0,0,0,0,0,0,0,0,0,0,0,0,0,0,0,0,0,0,0,0,0,0,0,0,0,0,0,0,0,0,0,0,0,0,0,0,0,0,0,0,0,0,0,0,0,0,0,0,0,0,0,0,0,0,0,0,0,0,0,0,0,0,0,0,0,0,0,0,0,0,0,0,0,0,0,0,0,0,0,0,0,0,0,0,0,0,0,0,0,0,0,0,0,0,0,0,0,0,0,0,0,0,0,0,0,0,0,0,0,0,0,0,0,0,0,0,0,0,0,0,0,0,0,0,0,0,0,0,0,0,0,0,0],\"CoinName\":[\"Bitcoin\",\"Ethereum\",\"Litecoin\",\"Monero\",\"Ethereum Classic\",\"ZCash\",\"DigiByte\",\"ProsperCoin\",\"Spreadcoin\",\"Argentum\",\"MyriadCoin\",\"MoonCoin\",\"ZetaCoin\",\"SexCoin\",\"Quatloo\",\"QuarkCoin\",\"Riecoin\",\"Digitalcoin \",\"Catcoin\",\"CannaCoin\",\"CryptCoin\",\"Verge\",\"DevCoin\",\"EarthCoin\",\"E-Gulden\",\"Einsteinium\",\"Emerald\",\"Franko\",\"FeatherCoin\",\"GrandCoin\",\"GlobalCoin\",\"GoldCoin\",\"Infinite Coin\",\"IXcoin\",\"KrugerCoin\",\"LuckyCoin\",\"Litebar \",\"MegaCoin\",\"MediterraneanCoin\",\"MinCoin\",\"NobleCoin\",\"Namecoin\",\"NyanCoin\",\"RonPaulCoin\",\"StableCoin\",\"SmartCoin\",\"SysCoin\",\"TigerCoin\",\"TerraCoin\",\"UnbreakableCoin\",\"Unobtanium\",\"UroCoin\",\"ViaCoin\",\"Vertcoin\",\"WorldCoin\",\"JouleCoin\",\"ByteCoin\",\"DigitalNote \",\"MonaCoin\",\"Gulden\",\"PesetaCoin\",\"Wild Beast Coin\",\"Flo\",\"ArtByte\",\"Folding Coin\",\"Unitus\",\"CypherPunkCoin\",\"OmniCron\",\"GreenCoin\",\"Cryptonite\",\"MasterCoin\",\"SoonCoin\",\"1Credit\",\"MarsCoin \",\"Crypto\",\"Anarchists Prime\",\"BowsCoin\",\"Song Coin\",\"BitZeny\",\"Expanse\",\"Siacoin\",\"MindCoin\",\"I0coin\",\"Revolution VR\",\"HOdlcoin\",\"Gamecredits\",\"CarpeDiemCoin\",\"Adzcoin\",\"SoilCoin\",\"YoCoin\",\"SibCoin\",\"Francs\",\"BolivarCoin\",\"Omni\",\"PizzaCoin\",\"Komodo\",\"Karbo\",\"ZayedCoin\",\"Circuits of Value\",\"DopeCoin\",\"DollarCoin\",\"Shilling\",\"ZCoin\",\"Elementrem\",\"ZClassic\",\"KiloCoin\",\"ArtexCoin\",\"Kurrent\",\"Cannabis Industry Coin\",\"OsmiumCoin\",\"Bikercoins\",\"HexxCoin\",\"PacCoin\",\"Citadel\",\"BeaverCoin\",\"VaultCoin\",\"Zero\",\"Canada eCoin\",\"Zoin\",\"DubaiCoin\",\"EB3coin\",\"Coinonat\",\"BenjiRolls\",\"ILCoin\",\"EquiTrader\",\"Quantum Resistant Ledger\",\"Dynamic\",\"Nano\",\"ChanCoin\",\"Dinastycoin\",\"DigitalPrice\",\"Unify\",\"SocialCoin\",\"ArcticCoin\",\"DAS\",\"LeviarCoin\",\"Bitcore\",\"gCn Coin\",\"SmartCash\",\"Onix\",\"Bitcoin Cash\",\"Sojourn Coin\",\"NewYorkCoin\",\"FrazCoin\",\"Kronecoin\",\"AdCoin\",\"Linx\",\"Sumokoin\",\"BitcoinZ\",\"Elements\",\"VIVO Coin\",\"Bitcoin Gold\",\"Pirl\",\"eBoost\",\"Pura\",\"Innova\",\"Ellaism\",\"GoByte\",\"SHIELD\",\"UltraNote\",\"BitCoal\",\"DaxxCoin\",\"AC3\",\"Lethean\",\"PopularCoin\",\"Photon\",\"Sucre\",\"SparksPay\",\"GunCoin\",\"IrishCoin\",\"Pioneer Coin\",\"UnitedBitcoin\",\"Interzone\",\"TurtleCoin\",\"MUNcoin\",\"Niobio Cash\",\"ShareChain\",\"Travelflex\",\"KREDS\",\"LitecoinCash\",\"BitFlip\",\"LottoCoin\",\"Crypto Improvement Fund\",\"Callisto Network\",\"BitTube\",\"Poseidon\",\"Aidos Kuneen\",\"Bitrolium\",\"Alpenschillling\",\"FuturoCoin\",\"Monero Classic\",\"Jumpcoin\",\"Infinex\",\"KEYCO\",\"GINcoin\",\"PlatinCoin\",\"Loki\",\"Newton Coin\",\"MassGrid\",\"PluraCoin\",\"Motion\",\"PlusOneCoin\",\"Axe\",\"HexCoin\",\"Webchain\",\"Ryo\",\"Urals Coin\",\"Qwertycoin\",\"Project Pai\",\"Azart\",\"Xchange\",\"CrypticCoin\",\"Actinium\",\"Bitcoin SV\",\"FREDEnergy\",\"Universal Molecule\",\"Lithium\",\"Exosis\",\"Block-Logic\",\"Beam\",\"Bithereum\",\"SLICE\",\"BLAST\",\"Bitcoin Rhodium\",\"GlobalToken\",\"SolarCoin\",\"UFO Coin\",\"BlakeCoin\",\"Crypto Escudo\",\"Crown Coin\",\"SmileyCoin\",\"Groestlcoin\",\"Bata\",\"Pakcoin\",\"JoinCoin\",\"Vollar\",\"Reality Clash\",\"Beldex\",\"Horizen\"],\"TotalCoinSupply\":{\"__ndarray__\":\"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\",\"dtype\":\"float64\",\"order\":\"little\",\"shape\":[239]},\"TotalCoinsMined\":{\"__ndarray__\":\"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\",\"dtype\":\"float64\",\"order\":\"little\",\"shape\":[239]}},\"selected\":{\"id\":\"7993\"},\"selection_policy\":{\"id\":\"8007\"}},\"id\":\"7992\",\"type\":\"ColumnDataSource\"},{\"attributes\":{\"bottom_units\":\"screen\",\"coordinates\":null,\"fill_alpha\":0.5,\"fill_color\":\"lightgrey\",\"group\":null,\"left_units\":\"screen\",\"level\":\"overlay\",\"line_alpha\":1.0,\"line_color\":\"black\",\"line_dash\":[4,4],\"line_width\":2,\"right_units\":\"screen\",\"syncable\":false,\"top_units\":\"screen\"},\"id\":\"7978\",\"type\":\"BoxAnnotation\"},{\"attributes\":{\"fill_alpha\":{\"value\":0.2},\"fill_color\":{\"value\":\"#fc4f30\"},\"hatch_alpha\":{\"value\":0.2},\"hatch_color\":{\"value\":\"#fc4f30\"},\"line_alpha\":{\"value\":0.2},\"line_width\":{\"value\":0.5},\"size\":{\"value\":7.0710678118654755},\"x\":{\"field\":\"TotalCoinsMined\"},\"y\":{\"field\":\"TotalCoinSupply\"}},\"id\":\"8018\",\"type\":\"Scatter\"},{\"attributes\":{\"axis_label\":\"Total Coins Mined\",\"coordinates\":null,\"formatter\":{\"id\":\"7987\"},\"group\":null,\"major_label_policy\":{\"id\":\"7988\"},\"ticker\":{\"id\":\"7966\"}},\"id\":\"7965\",\"type\":\"LinearAxis\"},{\"attributes\":{\"fill_alpha\":{\"value\":0.4},\"fill_color\":{\"value\":\"#fc4f30\"},\"hatch_alpha\":{\"value\":0.1},\"hatch_color\":{\"value\":\"#fc4f30\"},\"line_alpha\":{\"value\":0.4},\"line_width\":{\"value\":0.5},\"size\":{\"value\":7.0710678118654755},\"x\":{\"field\":\"TotalCoinsMined\"},\"y\":{\"field\":\"TotalCoinSupply\"}},\"id\":\"8017\",\"type\":\"Scatter\"},{\"attributes\":{\"angle\":{\"value\":0.0},\"fill_alpha\":{\"value\":0.4},\"fill_color\":{\"value\":\"#e5ae38\"},\"hatch_alpha\":{\"value\":0.4},\"hatch_color\":{\"value\":\"#e5ae38\"},\"hatch_scale\":{\"value\":12.0},\"hatch_weight\":{\"value\":1.0},\"line_alpha\":{\"value\":0.4},\"line_cap\":{\"value\":\"butt\"},\"line_color\":{\"value\":\"black\"},\"line_dash\":{\"value\":[]},\"line_dash_offset\":{\"value\":0},\"line_join\":{\"value\":\"bevel\"},\"line_width\":{\"value\":0.5},\"marker\":{\"value\":\"circle\"},\"size\":{\"value\":7.0710678118654755},\"x\":{\"field\":\"TotalCoinsMined\"},\"y\":{\"field\":\"TotalCoinSupply\"}},\"id\":\"8058\",\"type\":\"Scatter\"},{\"attributes\":{\"coordinates\":null,\"data_source\":{\"id\":\"7992\"},\"glyph\":{\"id\":\"7995\"},\"group\":null,\"hover_glyph\":null,\"muted_glyph\":{\"id\":\"7997\"},\"nonselection_glyph\":{\"id\":\"7996\"},\"selection_glyph\":{\"id\":\"8012\"},\"view\":{\"id\":\"7999\"}},\"id\":\"7998\",\"type\":\"GlyphRenderer\"},{\"attributes\":{},\"id\":\"7966\",\"type\":\"BasicTicker\"},{\"attributes\":{\"callback\":null,\"renderers\":[{\"id\":\"7998\"},{\"id\":\"8019\"},{\"id\":\"8041\"}],\"tags\":[\"hv_created\"],\"tooltips\":[[\"Class\",\"@{Class}\"],[\"TotalCoinsMined\",\"@{TotalCoinsMined}\"],[\"TotalCoinSupply\",\"@{TotalCoinSupply}\"],[\"CoinName\",\"@{CoinName}\"]]},\"id\":\"7953\",\"type\":\"HoverTool\"},{\"attributes\":{},\"id\":\"8030\",\"type\":\"UnionRenderers\"},{\"attributes\":{\"children\":[{\"id\":\"7950\"},{\"id\":\"7956\"},{\"id\":\"8185\"}],\"margin\":[0,0,0,0],\"name\":\"Row15781\",\"tags\":[\"embedded\"]},\"id\":\"7949\",\"type\":\"Row\"},{\"attributes\":{\"margin\":[5,5,5,5],\"name\":\"HSpacer15786\",\"sizing_mode\":\"stretch_width\"},\"id\":\"8185\",\"type\":\"Spacer\"},{\"attributes\":{\"axis\":{\"id\":\"7965\"},\"coordinates\":null,\"grid_line_color\":null,\"group\":null,\"ticker\":null},\"id\":\"7968\",\"type\":\"Grid\"},{\"attributes\":{\"label\":{\"value\":\"1\"},\"renderers\":[{\"id\":\"8019\"}]},\"id\":\"8033\",\"type\":\"LegendItem\"},{\"attributes\":{},\"id\":\"8014\",\"type\":\"Selection\"},{\"attributes\":{},\"id\":\"7970\",\"type\":\"BasicTicker\"},{\"attributes\":{\"axis_label\":\"Total Coin Supply\",\"coordinates\":null,\"formatter\":{\"id\":\"7990\"},\"group\":null,\"major_label_policy\":{\"id\":\"7991\"},\"ticker\":{\"id\":\"7970\"}},\"id\":\"7969\",\"type\":\"LinearAxis\"},{\"attributes\":{},\"id\":\"8036\",\"type\":\"Selection\"},{\"attributes\":{},\"id\":\"7988\",\"type\":\"AllLabels\"},{\"attributes\":{\"angle\":{\"value\":0.0},\"fill_alpha\":{\"value\":0.4},\"fill_color\":{\"value\":\"#30a2da\"},\"hatch_alpha\":{\"value\":0.4},\"hatch_color\":{\"value\":\"#30a2da\"},\"hatch_scale\":{\"value\":12.0},\"hatch_weight\":{\"value\":1.0},\"line_alpha\":{\"value\":0.4},\"line_cap\":{\"value\":\"butt\"},\"line_color\":{\"value\":\"black\"},\"line_dash\":{\"value\":[]},\"line_dash_offset\":{\"value\":0},\"line_join\":{\"value\":\"bevel\"},\"line_width\":{\"value\":0.5},\"marker\":{\"value\":\"circle\"},\"size\":{\"value\":7.0710678118654755},\"x\":{\"field\":\"TotalCoinsMined\"},\"y\":{\"field\":\"TotalCoinSupply\"}},\"id\":\"8012\",\"type\":\"Scatter\"},{\"attributes\":{\"angle\":{\"value\":0.0},\"fill_alpha\":{\"value\":0.4},\"fill_color\":{\"value\":\"#fc4f30\"},\"hatch_alpha\":{\"value\":0.4},\"hatch_color\":{\"value\":\"#fc4f30\"},\"hatch_scale\":{\"value\":12.0},\"hatch_weight\":{\"value\":1.0},\"line_alpha\":{\"value\":0.4},\"line_cap\":{\"value\":\"butt\"},\"line_color\":{\"value\":\"black\"},\"line_dash\":{\"value\":[]},\"line_dash_offset\":{\"value\":0},\"line_join\":{\"value\":\"bevel\"},\"line_width\":{\"value\":0.5},\"marker\":{\"value\":\"circle\"},\"size\":{\"value\":7.0710678118654755},\"x\":{\"field\":\"TotalCoinsMined\"},\"y\":{\"field\":\"TotalCoinSupply\"}},\"id\":\"8034\",\"type\":\"Scatter\"},{\"attributes\":{\"fill_alpha\":{\"value\":0.4},\"fill_color\":{\"value\":\"#30a2da\"},\"hatch_alpha\":{\"value\":0.4},\"hatch_color\":{\"value\":\"#30a2da\"},\"line_alpha\":{\"value\":0.4},\"line_width\":{\"value\":0.5},\"size\":{\"value\":7.0710678118654755},\"x\":{\"field\":\"TotalCoinsMined\"},\"y\":{\"field\":\"TotalCoinSupply\"}},\"id\":\"7995\",\"type\":\"Scatter\"},{\"attributes\":{\"fill_alpha\":{\"value\":0.2},\"fill_color\":{\"value\":\"#30a2da\"},\"hatch_alpha\":{\"value\":0.2},\"hatch_color\":{\"value\":\"#30a2da\"},\"line_alpha\":{\"value\":0.2},\"line_width\":{\"value\":0.5},\"size\":{\"value\":7.0710678118654755},\"x\":{\"field\":\"TotalCoinsMined\"},\"y\":{\"field\":\"TotalCoinSupply\"}},\"id\":\"7997\",\"type\":\"Scatter\"},{\"attributes\":{},\"id\":\"7991\",\"type\":\"AllLabels\"},{\"attributes\":{\"label\":{\"value\":\"2\"},\"renderers\":[{\"id\":\"8041\"}]},\"id\":\"8057\",\"type\":\"LegendItem\"},{\"attributes\":{\"source\":{\"id\":\"7992\"}},\"id\":\"7999\",\"type\":\"CDSView\"},{\"attributes\":{},\"id\":\"8054\",\"type\":\"UnionRenderers\"},{\"attributes\":{\"fill_alpha\":{\"value\":0.4},\"fill_color\":{\"value\":\"#30a2da\"},\"hatch_alpha\":{\"value\":0.1},\"hatch_color\":{\"value\":\"#30a2da\"},\"line_alpha\":{\"value\":0.4},\"line_width\":{\"value\":0.5},\"size\":{\"value\":7.0710678118654755},\"x\":{\"field\":\"TotalCoinsMined\"},\"y\":{\"field\":\"TotalCoinSupply\"}},\"id\":\"7996\",\"type\":\"Scatter\"},{\"attributes\":{},\"id\":\"7993\",\"type\":\"Selection\"},{\"attributes\":{\"fill_alpha\":{\"value\":0.4},\"fill_color\":{\"value\":\"#fc4f30\"},\"hatch_alpha\":{\"value\":0.4},\"hatch_color\":{\"value\":\"#fc4f30\"},\"line_alpha\":{\"value\":0.4},\"line_width\":{\"value\":0.5},\"size\":{\"value\":7.0710678118654755},\"x\":{\"field\":\"TotalCoinsMined\"},\"y\":{\"field\":\"TotalCoinSupply\"}},\"id\":\"8016\",\"type\":\"Scatter\"},{\"attributes\":{\"margin\":[5,5,5,5],\"name\":\"HSpacer15785\",\"sizing_mode\":\"stretch_width\"},\"id\":\"7950\",\"type\":\"Spacer\"},{\"attributes\":{\"data\":{\"Class\":[1,1,1,1,1,1,1,1,1,1,1,1,1,1,1,1,1,1,1,1,1,1,1,1,1,1,1,1,1,1,1,1,1,1,1,1,1,1,1,1,1,1,1,1,1,1,1,1,1,1,1,1,1,1,1,1,1,1,1,1,1,1,1,1,1,1,1,1,1,1,1,1,1,1,1,1,1,1,1,1,1,1,1,1,1,1,1,1,1,1,1,1,1,1,1,1,1,1,1,1,1,1,1,1,1,1,1,1,1,1,1,1,1,1,1,1,1,1,1,1,1,1,1,1,1,1,1,1,1,1,1,1,1,1,1,1,1,1,1,1,1,1,1,1,1,1,1,1,1,1,1,1,1,1,1,1,1,1,1,1,1,1,1,1,1,1,1,1,1,1,1,1,1,1,1,1,1,1,1,1,1,1,1,1,1,1,1,1,1,1,1,1,1,1,1,1,1,1,1,1,1,1,1,1,1,1,1,1,1,1,1,1,1,1,1,1,1,1,1,1,1,1,1,1,1,1,1,1,1,1,1,1,1,1,1,1,1,1,1,1,1,1,1,1,1,1,1,1,1,1,1,1,1,1,1,1,1,1,1,1,1,1,1,1,1,1,1,1,1,1,1,1,1,1,1,1,1,1,1,1,1,1,1,1,1,1,1,1,1,1,1,1],\"CoinName\":[\"42 Coin\",\"404Coin\",\"EliteCoin\",\"Dash\",\"Bitshares\",\"BitcoinDark\",\"PayCoin\",\"KoboCoin\",\"Aurora Coin\",\"BlueCoin\",\"EnergyCoin\",\"BitBar\",\"CryptoBullion\",\"CasinoCoin\",\"Diamond\",\"Exclusive Coin\",\"FlutterCoin\",\"HoboNickels\",\"HyperStake\",\"IOCoin\",\"MaxCoin\",\"MintCoin\",\"MazaCoin\",\"Nautilus Coin\",\"NavCoin\",\"OpalCoin\",\"Orbitcoin\",\"PotCoin\",\"PhoenixCoin\",\"Reddcoin\",\"SuperCoin\",\"SyncCoin\",\"TeslaCoin\",\"TittieCoin\",\"TorCoin\",\"UnitaryStatus Dollar\",\"UltraCoin\",\"VeriCoin\",\"X11 Coin\",\"Crypti\",\"StealthCoin\",\"ZCC Coin\",\"BurstCoin\",\"StorjCoin\",\"Neutron\",\"FairCoin\",\"RubyCoin\",\"Kore\",\"Dnotes\",\"8BIT Coin\",\"Sativa Coin\",\"Ucoin\",\"Vtorrent\",\"IslaCoin\",\"Nexus\",\"Droidz\",\"Squall Coin\",\"Diggits\",\"Paycon\",\"Emercoin\",\"EverGreenCoin\",\"Decred\",\"EDRCoin\",\"Hitcoin\",\"DubaiCoin\",\"PWR Coin\",\"BillaryCoin\",\"GPU Coin\",\"EuropeCoin\",\"ZeitCoin\",\"SwingCoin\",\"SafeExchangeCoin\",\"Nebuchadnezzar\",\"Ratecoin\",\"Revenu\",\"Clockcoin\",\"VIP Tokens\",\"BitSend\",\"Let it Ride\",\"PutinCoin\",\"iBankCoin\",\"Frankywillcoin\",\"MudraCoin\",\"Lutetium Coin\",\"GoldBlocks\",\"CarterCoin\",\"BitTokens\",\"MustangCoin\",\"ZoneCoin\",\"RootCoin\",\"BitCurrency\",\"Swiscoin\",\"BuzzCoin\",\"Opair\",\"PesoBit\",\"Halloween Coin\",\"CoffeeCoin\",\"RoyalCoin\",\"GanjaCoin V2\",\"TeamUP\",\"LanaCoin\",\"ARK\",\"InsaneCoin\",\"EmberCoin\",\"XenixCoin\",\"FreeCoin\",\"PLNCoin\",\"AquariusCoin\",\"Creatio\",\"Eternity\",\"Eurocoin\",\"BitcoinFast\",\"Stakenet\",\"BitConnect Coin\",\"MoneyCoin\",\"Enigma\",\"Russiacoin\",\"PandaCoin\",\"GameUnits\",\"GAKHcoin\",\"Allsafe\",\"LiteCreed\",\"Klingon Empire Darsek\",\"Internet of People\",\"KushCoin\",\"Printerium\",\"Impeach\",\"Zilbercoin\",\"FirstCoin\",\"FindCoin\",\"OpenChat\",\"RenosCoin\",\"VirtacoinPlus\",\"TajCoin\",\"Impact\",\"Atmos\",\"HappyCoin\",\"MacronCoin\",\"Condensate\",\"Independent Money System\",\"ArgusCoin\",\"LomoCoin\",\"ProCurrency\",\"GoldReserve\",\"GrowthCoin\",\"Phreak\",\"Degas Coin\",\"HTML5 Coin\",\"Ultimate Secure Cash\",\"QTUM\",\"Espers\",\"Denarius\",\"Virta Unique Coin\",\"Bitcoin Planet\",\"BritCoin\",\"Linda\",\"DeepOnion\",\"Signatum\",\"Cream\",\"Monoeci\",\"Draftcoin\",\"Vechain\",\"Stakecoin\",\"CoinonatX\",\"Ethereum Dark\",\"Obsidian\",\"Cardano\",\"Regalcoin\",\"TrezarCoin\",\"TerraNovaCoin\",\"Rupee\",\"WomenCoin\",\"Theresa May Coin\",\"NamoCoin\",\"LUXCoin\",\"Xios\",\"Bitcloud 2.0\",\"KekCoin\",\"BlackholeCoin\",\"Infinity Economics\",\"Magnet\",\"Lamden Tau\",\"Electra\",\"Bitcoin Diamond\",\"Cash & Back Coin\",\"Bulwark\",\"Kalkulus\",\"GermanCoin\",\"LiteCoin Ultra\",\"PhantomX\",\"Digiwage\",\"Trollcoin\",\"Litecoin Plus\",\"Monkey Project\",\"TokenPay\",\"1717 Masonic Commemorative Token\",\"My Big Coin\",\"Unified Society USDEX\",\"Tokyo Coin\",\"BiblePay\",\"Stipend\",\"Poa Network\",\"Pushi\",\"Ellerium\",\"Velox\",\"Ontology\",\"Bitspace\",\"Briacoin\",\"Ignition\",\"MedicCoin\",\"Bitcoin Green\",\"Deviant Coin\",\"Abjcoin\",\"Semux\",\"Carebit\",\"Zealium\",\"Proton\",\"iDealCash\",\"Bitcoin Incognito\",\"HollyWoodCoin\",\"Swisscoin\",\"Xt3ch\",\"TheVig\",\"EmaratCoin\",\"Dekado\",\"Lynx\",\"Poseidon Quark\",\"BitcoinWSpectrum\",\"Muse\",\"Trivechain\",\"Dystem\",\"Giant\",\"Peony Coin\",\"Absolute Coin\",\"Vitae\",\"TPCash\",\"ARENON\",\"EUNO\",\"MMOCoin\",\"Ketan\",\"XDNA\",\"PAXEX\",\"ThunderStake\",\"Kcash\",\"Acute Angle Cloud\",\"Bettex coin\",\"BitMoney\",\"Junson Ming Chan Coin\",\"HerbCoin\",\"PirateCash\",\"Oduwa\",\"Galilel\",\"Crypto Sports\",\"Credit\",\"Dash Platinum\",\"Nasdacoin\",\"Beetle Coin\",\"Titan Coin\",\"Award\",\"Insane Coin\",\"ALAX\",\"LiteDoge\",\"TruckCoin\",\"OrangeCoin\",\"BitstarCoin\",\"NeosCoin\",\"HyperCoin\",\"PinkCoin\",\"AudioCoin\",\"IncaKoin\",\"Piggy Coin\",\"Genstake\",\"XiaoMiCoin\",\"CapriCoin\",\" ClubCoin\",\"Radium\",\"Creditbit \",\"OKCash\",\"Lisk\",\"HiCoin\",\"WhiteCoin\",\"FriendshipCoin\",\"Triangles Coin\",\"EOS\",\"Oxycoin\",\"TigerCash\",\"Waves\",\"Particl\",\"Nxt\",\"ZEPHYR\",\"Gapcoin\",\"BitcoinPlus\"],\"TotalCoinSupply\":{\"__ndarray__\":\"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\",\"dtype\":\"float64\",\"order\":\"little\",\"shape\":[292]},\"TotalCoinsMined\":{\"__ndarray__\":\"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\",\"dtype\":\"float64\",\"order\":\"little\",\"shape\":[292]}},\"selected\":{\"id\":\"8014\"},\"selection_policy\":{\"id\":\"8030\"}},\"id\":\"8013\",\"type\":\"ColumnDataSource\"},{\"attributes\":{\"data\":{\"Class\":[2],\"CoinName\":[\"BitTorrent\"],\"TotalCoinSupply\":{\"__ndarray__\":\"rkfhehSu7z8=\",\"dtype\":\"float64\",\"order\":\"little\",\"shape\":[1]},\"TotalCoinsMined\":{\"__ndarray__\":\"AAAAAAAA8D8=\",\"dtype\":\"float64\",\"order\":\"little\",\"shape\":[1]}},\"selected\":{\"id\":\"8036\"},\"selection_policy\":{\"id\":\"8054\"}},\"id\":\"8035\",\"type\":\"ColumnDataSource\"},{\"attributes\":{},\"id\":\"7973\",\"type\":\"SaveTool\"},{\"attributes\":{\"coordinates\":null,\"data_source\":{\"id\":\"8035\"},\"glyph\":{\"id\":\"8038\"},\"group\":null,\"hover_glyph\":null,\"muted_glyph\":{\"id\":\"8040\"},\"nonselection_glyph\":{\"id\":\"8039\"},\"selection_glyph\":{\"id\":\"8058\"},\"view\":{\"id\":\"8042\"}},\"id\":\"8041\",\"type\":\"GlyphRenderer\"},{\"attributes\":{\"click_policy\":\"mute\",\"coordinates\":null,\"group\":null,\"items\":[{\"id\":\"8011\"},{\"id\":\"8033\"},{\"id\":\"8057\"}],\"location\":[0,0],\"title\":\"Class\"},\"id\":\"8010\",\"type\":\"Legend\"},{\"attributes\":{\"below\":[{\"id\":\"7965\"}],\"center\":[{\"id\":\"7968\"},{\"id\":\"7972\"}],\"height\":300,\"left\":[{\"id\":\"7969\"}],\"margin\":[5,5,5,5],\"min_border_bottom\":10,\"min_border_left\":10,\"min_border_right\":10,\"min_border_top\":10,\"renderers\":[{\"id\":\"7998\"},{\"id\":\"8019\"},{\"id\":\"8041\"}],\"right\":[{\"id\":\"8010\"}],\"sizing_mode\":\"fixed\",\"title\":{\"id\":\"7957\"},\"toolbar\":{\"id\":\"7979\"},\"width\":700,\"x_range\":{\"id\":\"7951\"},\"x_scale\":{\"id\":\"7961\"},\"y_range\":{\"id\":\"7952\"},\"y_scale\":{\"id\":\"7963\"}},\"id\":\"7956\",\"subtype\":\"Figure\",\"type\":\"Plot\"},{\"attributes\":{},\"id\":\"7987\",\"type\":\"BasicTickFormatter\"},{\"attributes\":{},\"id\":\"7974\",\"type\":\"PanTool\"},{\"attributes\":{},\"id\":\"8007\",\"type\":\"UnionRenderers\"},{\"attributes\":{\"end\":1.042857142857143,\"reset_end\":1.042857142857143,\"reset_start\":-0.04285714285714286,\"start\":-0.04285714285714286,\"tags\":[[[\"TotalCoinsMined\",\"TotalCoinsMined\",null]]]},\"id\":\"7951\",\"type\":\"Range1d\"},{\"attributes\":{\"coordinates\":null,\"group\":null,\"text\":\"Cryptocurrencies\",\"text_color\":\"black\",\"text_font_size\":\"12pt\"},\"id\":\"7957\",\"type\":\"Title\"},{\"attributes\":{},\"id\":\"7975\",\"type\":\"WheelZoomTool\"},{\"attributes\":{\"tools\":[{\"id\":\"7953\"},{\"id\":\"7973\"},{\"id\":\"7974\"},{\"id\":\"7975\"},{\"id\":\"7976\"},{\"id\":\"7977\"}]},\"id\":\"7979\",\"type\":\"Toolbar\"},{\"attributes\":{\"fill_alpha\":{\"value\":0.2},\"fill_color\":{\"value\":\"#e5ae38\"},\"hatch_alpha\":{\"value\":0.2},\"hatch_color\":{\"value\":\"#e5ae38\"},\"line_alpha\":{\"value\":0.2},\"line_width\":{\"value\":0.5},\"size\":{\"value\":7.0710678118654755},\"x\":{\"field\":\"TotalCoinsMined\"},\"y\":{\"field\":\"TotalCoinSupply\"}},\"id\":\"8040\",\"type\":\"Scatter\"},{\"attributes\":{\"fill_alpha\":{\"value\":0.4},\"fill_color\":{\"value\":\"#e5ae38\"},\"hatch_alpha\":{\"value\":0.1},\"hatch_color\":{\"value\":\"#e5ae38\"},\"line_alpha\":{\"value\":0.4},\"line_width\":{\"value\":0.5},\"size\":{\"value\":7.0710678118654755},\"x\":{\"field\":\"TotalCoinsMined\"},\"y\":{\"field\":\"TotalCoinSupply\"}},\"id\":\"8039\",\"type\":\"Scatter\"},{\"attributes\":{\"overlay\":{\"id\":\"7978\"}},\"id\":\"7976\",\"type\":\"BoxZoomTool\"},{\"attributes\":{\"label\":{\"value\":\"0\"},\"renderers\":[{\"id\":\"7998\"}]},\"id\":\"8011\",\"type\":\"LegendItem\"},{\"attributes\":{\"source\":{\"id\":\"8035\"}},\"id\":\"8042\",\"type\":\"CDSView\"},{\"attributes\":{},\"id\":\"7961\",\"type\":\"LinearScale\"},{\"attributes\":{},\"id\":\"7963\",\"type\":\"LinearScale\"}],\"root_ids\":[\"7949\"]},\"title\":\"Bokeh Application\",\"version\":\"2.4.2\"}};\n",
       "    var render_items = [{\"docid\":\"a0de0a50-f563-4f74-9d24-7af320236d6d\",\"root_ids\":[\"7949\"],\"roots\":{\"7949\":\"3ce7cf19-6e98-4b5a-ad20-5d185138625f\"}}];\n",
       "    root.Bokeh.embed.embed_items_notebook(docs_json, render_items);\n",
       "  }\n",
       "  if (root.Bokeh !== undefined && root.Bokeh.Panel !== undefined) {\n",
       "    embed_document(root);\n",
       "  } else {\n",
       "    var attempts = 0;\n",
       "    var timer = setInterval(function(root) {\n",
       "      if (root.Bokeh !== undefined && root.Bokeh.Panel !== undefined) {\n",
       "        clearInterval(timer);\n",
       "        embed_document(root);\n",
       "      } else if (document.readyState == \"complete\") {\n",
       "        attempts++;\n",
       "        if (attempts > 200) {\n",
       "          clearInterval(timer);\n",
       "          console.log(\"Bokeh: ERROR: Unable to run BokehJS code because BokehJS library is missing\");\n",
       "        }\n",
       "      }\n",
       "    }, 25, root)\n",
       "  }\n",
       "})(window);</script>"
      ],
      "text/plain": [
       ":NdOverlay   [Class]\n",
       "   :Scatter   [TotalCoinsMined]   (TotalCoinSupply,CoinName)"
      ]
     },
     "execution_count": 172,
     "metadata": {
      "application/vnd.holoviews_exec.v0+json": {
       "id": "7949"
      }
     },
     "output_type": "execute_result"
    }
   ],
   "source": [
    "# Create a hvplot.scatter plot using x=\"TotalCoinsMined\" and y=\"TotalCoinSupply\".\n",
    "# https://hvplot.holoviz.org/user_guide/Customization.html\n",
    "new_clustered_df.hvplot.scatter(\n",
    "    x=\"TotalCoinsMined\", \n",
    "    y=\"TotalCoinSupply\", \n",
    "    hover_cols=[\"CoinName\"], \n",
    "    by='Class',\n",
    "    xlabel=\"Total Coins Mined\",\n",
    "    ylabel=\"Total Coin Supply\",\n",
    "    size=50,\n",
    "    alpha=0.4,\n",
    "    line_width=0.5,\n",
    "    line_color='black',\n",
    "    title=\"Cryptocurrencies\")\n",
    "\n"
   ]
  },
  {
   "cell_type": "code",
   "execution_count": null,
   "metadata": {},
   "outputs": [],
   "source": []
  }
 ],
 "metadata": {
  "file_extension": ".py",
  "kernelspec": {
   "display_name": "mlenv",
   "language": "python",
   "name": "mlenv"
  },
  "language_info": {
   "codemirror_mode": {
    "name": "ipython",
    "version": 3
   },
   "file_extension": ".py",
   "mimetype": "text/x-python",
   "name": "python",
   "nbconvert_exporter": "python",
   "pygments_lexer": "ipython3",
   "version": "3.7.13"
  },
  "latex_envs": {
   "LaTeX_envs_menu_present": true,
   "autoclose": false,
   "autocomplete": true,
   "bibliofile": "biblio.bib",
   "cite_by": "apalike",
   "current_citInitial": 1,
   "eqLabelWithNumbers": true,
   "eqNumInitial": 1,
   "hotkeys": {
    "equation": "Ctrl-E",
    "itemize": "Ctrl-I"
   },
   "labels_anchors": false,
   "latex_user_defs": false,
   "report_style_numbering": false,
   "user_envs_cfg": false
  },
  "mimetype": "text/x-python",
  "name": "python",
  "npconvert_exporter": "python",
  "pygments_lexer": "ipython3",
  "version": 3
 },
 "nbformat": 4,
 "nbformat_minor": 2
}
